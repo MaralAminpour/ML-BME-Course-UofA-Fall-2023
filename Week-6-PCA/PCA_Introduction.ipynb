{
  "nbformat": 4,
  "nbformat_minor": 0,
  "metadata": {
    "colab": {
      "provenance": [],
      "authorship_tag": "ABX9TyM3e1SFFqmR06S9FRv0Ivo+",
      "include_colab_link": true
    },
    "kernelspec": {
      "name": "python3",
      "display_name": "Python 3"
    },
    "language_info": {
      "name": "python"
    }
  },
  "cells": [
    {
      "cell_type": "markdown",
      "metadata": {
        "id": "view-in-github",
        "colab_type": "text"
      },
      "source": [
        "<a href=\"https://colab.research.google.com/github/MaralAminpour/IVM_supplementary_materials/blob/main/PCA_Introduction.ipynb\" target=\"_parent\"><img src=\"https://colab.research.google.com/assets/colab-badge.svg\" alt=\"Open In Colab\"/></a>"
      ]
    },
    {
      "cell_type": "markdown",
      "source": [
        " Let's get started on how these neat concepts can be used for dimensionality reduction, especially with Principal Component Analysis (PCA). And guess what? We'll also explore how to practically bring PCA to life using scikit-learn. Excited? Let's jump in!"
      ],
      "metadata": {
        "id": "l0OKNi7Bhvco"
      }
    },
    {
      "cell_type": "markdown",
      "source": [
        "source: [Linear Algebra for ML Part 2 | Principal Component Analysis](https://www.visual-design.net/post/linear-algebra-for-ml-part2-principal-component-analysis)"
      ],
      "metadata": {
        "id": "vsuGIBYK0l5V"
      }
    },
    {
      "cell_type": "markdown",
      "source": [
        "## When to Use PCA?\n",
        "\n",
        "High-dimensional data is a common issue experienced in machine learning practices, as we typically feed a large amount of features for model training. This results in the caveat of models having **less interpretability and higher complexity** - also known as the curse of dimensionality.\n",
        "\n",
        "<img src='https://raw.githubusercontent.com/MaralAminpour/ML-BME-Course-UofA-Fall-2023/main/Week-5-Clustering%20and%20Features/imgs/curse.png' width=500px >\n",
        "\n",
        "PCA can be beneficial when the dataset is high-dimensional (i.e. contains many features) and it is widely applied for dimensionality reduction.\n",
        "\n",
        "Additionally, PCA is also used for discovering the **hidden relationship among feature variables** and **reveal underlying patterns** that could be very insightful. PCA attempts to find linear components that capture as much variance in the data as possible. And **the first principal component (PC1) is typically composed of features that contributes most to the model predictions.**"
      ],
      "metadata": {
        "id": "rXt6J_4WidPb"
      }
    },
    {
      "cell_type": "markdown",
      "source": [
        "## How Does PCA Work?\n",
        "\n",
        "Think of PCA (Principal Component Analysis) as a way to simplify a lot of data. Here's how it works in simple terms:\n",
        "\n",
        "1. We try to understand how different parts of our data change together using something called a \"covariance matrix.\"\n",
        "\n",
        "2. We then find some special directions (called \"eigenvectors\") where the data changes the most.\n",
        "\n",
        "3. These special directions help us represent our big, complicated data in a simpler way.\n",
        "\n",
        "Now, terms like \"covariance matrix\" and \"eigenvector\" might sound fancy. But they're just tools to help us see our data in a clearer way. So, instead of thinking about them as tricky math things, picture them as cool visual changes to our data. It makes understanding everything a whole lot easier!"
      ],
      "metadata": {
        "id": "m3vS1hsWkxuE"
      }
    },
    {
      "cell_type": "markdown",
      "source": [
        "You might remember us chatting about how matrices can be used in math operations, like the dot product. But did you know they can also show us cool visual changes? Let's break it down:\n",
        "\n",
        "Imagine a 2x2 grid or a tiny chessboard. This is our matrix. If you slice it down the middle, you get two lists (we call them vectors). The list on the left is like our horizontal ruler (x-axis), and the one on the right is our vertical ruler (y-axis). Together, they help create a mini world of a 2D space.\n",
        "\n",
        "Now, there's a special matrix called the \"identity matrix\". It has [1,0] for the horizontal ruler and [0,1] for the vertical one. The cool thing about it? If you mix any list (vector) with this special matrix, you get the same list back!\n",
        "\n",
        "\n",
        "<img src='https://raw.githubusercontent.com/MaralAminpour/ML-BME-Course-UofA-Fall-2023/main/Week-5-Clustering%20and%20Features/imgs/matrix1.png.webp' width=500px >\n",
        "\n",
        "Matrix transformation boils down to shifting the scale and direction of the x-axis and y-axis. Imagine the x-axis and y-axis as stretchy rubber bands on a plane. Matrix transformation is like pulling or twisting these bands in different ways.\n",
        "\n",
        "Let's say you tug the x-axis rubber band to make it twice as long. What you're doing is changing its basic direction from [1,0] to [2,0]. This means everything on that axis gets stretched out and becomes double its original size!\n",
        "\n",
        "In short, playing around with matrices is like giving a new look to our familiar x and y axes.\n",
        "\n",
        "<img src='https://raw.githubusercontent.com/MaralAminpour/ML-BME-Course-UofA-Fall-2023/main/Week-5-Clustering%20and%20Features/imgs/matrix2.png.webp' width=500px >\n",
        "\n",
        "We can additionally combine both the x-axis and y-axis for more complicated scaling, rotating or shearing transformation. A typically example is the mirror matrix where we swap the x and y axis. For a given vector [1,2], we will get [2,1] after the mirror transformation.\n",
        "\n",
        "Alright, let's jazz things up a bit. We can play with both the x-axis and y-axis together for some cool effects like stretching, spinning, or even skewing!\n",
        "\n",
        "Ever played with a mirror? Well, matrices can do something similar. Imagine a matrix that acts like a mirror, flipping the x and y axes. So, if you had a point at [1,2], after using our \"mirror\" matrix, it'll land at [2,1]. It's like giving the point a fun house mirror effect!\n",
        "\n",
        "In simple words, with matrices, we can create all sorts of fun and funky changes to our points."
      ],
      "metadata": {
        "id": "hgs6AIO5nKYZ"
      }
    },
    {
      "cell_type": "markdown",
      "source": [
        "If you would like to practice these transformations in python and skip the manual calculations, we can use following code to perform these dot products and visualize the result of the transformation using plt.quiver() function."
      ],
      "metadata": {
        "id": "K1ruAwsOnyL4"
      }
    },
    {
      "cell_type": "code",
      "source": [
        "import numpy as np\n",
        "import matplotlib.pyplot as plt\n",
        "\n",
        "# define matrices and vector\n",
        "x_scaled_matrix = np.array([[2,0],[0,1]])\n",
        "mirror_matrix = np.array([[0,1],[1,0]])\n",
        "v = np.array([1,2])\n",
        "\n",
        "# matrix transformation\n",
        "mirrored_v = mirror_matrix.dot(v)\n",
        "x_scaled_v = x_scaled_matrix.dot(v)\n",
        "\n",
        "# plot transformed vectors\n",
        "origin = np.array([[0, 0], [0, 0]])\n",
        "plt.quiver(*origin, v[0], v[1], color=['black'],scale=10, label='original vector')\n",
        "plt.quiver(*origin, mirrored_v[0], mirrored_v[1] , color=['#D3E7EE'], scale=10, label='mirrored vector' )\n",
        "plt.quiver(*origin, x_scaled_v[0], x_scaled_v[1] , color=['#C6A477'], scale=10, label='x_scaled vector')\n",
        "plt.legend(loc =\"lower right\")"
      ],
      "metadata": {
        "colab": {
          "base_uri": "https://localhost:8080/",
          "height": 467
        },
        "id": "n7y2NLB7pycZ",
        "outputId": "8b69f049-cb31-465b-f963-d201fc6274b0"
      },
      "execution_count": null,
      "outputs": [
        {
          "output_type": "execute_result",
          "data": {
            "text/plain": [
              "<matplotlib.legend.Legend at 0x7b31e204aec0>"
            ]
          },
          "metadata": {},
          "execution_count": 1
        },
        {
          "output_type": "display_data",
          "data": {
            "text/plain": [
              "<Figure size 640x480 with 1 Axes>"
            ],
            "image/png": "[encoded data removed]"
          },
          "metadata": {}
        }
      ]
    },
    {
      "cell_type": "markdown",
      "source": [
        "## Covariance Matrix: The Heartbeat of PCA!\n",
        "\n",
        "*In Short: covariance matrix represents the pairwise correlations among a group of variables in a matrix form.*\n",
        "\n",
        "Covariance matrix is another critical concept in PCA process that represents the data variance in the dataset. To understand the details of covariance matrix, we firstly need to know that covariance measures the magnitude of how one random variable varies with another random variable. For two random variable x and y, their covariance is formulated as below and higher covariance value indicates stronger correlation between two variables.\n",
        "\n",
        "let's chat about something called the \"covariance matrix.\" Think of it as a magical table that tells us how different pieces of our data move together. It's super important for the PCA process because it captures the heartbeat (or variance) of our dataset.\n",
        "\n",
        "Now, let's break down \"covariance\" a bit. Imagine you and your friend are dancing. Sometimes you both move in sync, sometimes in opposite directions, and sometimes there's no connection at all in your dance moves. Covariance is like a scorecard that tells you how in-sync (or not) your dance moves are!\n",
        "\n",
        "If we want to get a bit technical, for two dancers (or random variables) x and y, their dance score (or covariance) can be calculated using a formula. A higher score means you both are more in tune with each other's moves. In data terms, a higher covariance value indicates a stronger connection or correlation between two variables.\n",
        "\n",
        "<img src='https://raw.githubusercontent.com/MaralAminpour/ML-BME-Course-UofA-Fall-2023/main/Week-5-Clustering%20and%20Features/imgs/matrix5.png.webp' width=300px >\n",
        "\n",
        "\n"
      ],
      "metadata": {
        "id": "m6bWTd2nqAk_"
      }
    },
    {
      "cell_type": "markdown",
      "source": [
        "## Covariance Matrix: The Relationship Checker\n",
        "\n",
        "When given a set of variables (e.g. x1, x2, ... xn) in a dataset, covariance matrix is typically used for representing the covariance value between each variable pairs in a matrix format.\n",
        "\n",
        "<img src='https://raw.githubusercontent.com/MaralAminpour/ML-BME-Course-UofA-Fall-2023/main/Week-5-Clustering%20and%20Features/imgs/matrix6.png.webp' width=400px >\n",
        "\n",
        "\n",
        "Imagine you have a bunch of friends: x1, x2,... xn. Some of these friends are super close and always hang out together, while others might not get along that well. Now, if you wanted to map out how close each friend is to every other friend, that's where the covariance matrix comes into play!\n",
        "\n",
        "Think of the covariance matrix as a big chart. Each row and column represents one of your friends. The chart then tells you the \"closeness score\" between each pair of friends. If x1 and x2 are always together, there'll be a high score in the box where their row and column meet. If they aren't close, the score will be lower.\n",
        "\n",
        "In simple terms, the covariance matrix helps us see the relationship strength between each pair of variables (or friends) in our dataset. It's like a big friendship chart for data!\n",
        "\n"
      ],
      "metadata": {
        "id": "l7Lik9blrPyb"
      }
    },
    {
      "cell_type": "markdown",
      "source": [
        "## Covariance Matrix: The Trend Magnifier\n",
        "\n",
        "Multiplying the covariance matrix will transform any vector towards the direction that captures the trend of variance in the original dataset.\n",
        "\n",
        "let's think of the covariance matrix as a special pair of glasses. When a vector (let's call it a \"light beam\") passes through these glasses, it gets bent or shifted towards the main trend or direction of our data.\n",
        "\n",
        "So, if our data has a trend where, let's say, things generally increase, our vector or \"light beam\" will also point in that increasing direction after passing through our covariance matrix glasses.\n",
        "\n",
        "In simpler words, multiplying by the covariance matrix is like using a tool that emphasizes the main story or trend in our data. It's helping highlight where most of the action is happening!"
      ],
      "metadata": {
        "id": "prxJotKJr5bF"
      }
    },
    {
      "cell_type": "markdown",
      "source": [
        "Let us use a simple example to simulate the effect of this transformation. Firstly, we randomly generate the variable x0, x1 and then compute the covariance matrix."
      ],
      "metadata": {
        "id": "4ZlFS49IsG9k"
      }
    },
    {
      "cell_type": "code",
      "source": [
        "# generate random variables x0 and x1\n",
        "import random\n",
        "x0 = [round(random.uniform(-1, 1),2) for i in range(0,100)]\n",
        "x1 = [round(2 * i + random.uniform(-1, 1) ,2) for i in x0]\n",
        "\n",
        "# compute covariance matrix\n",
        "X = np.stack((x0, x1), axis=0)\n",
        "covariance_matrix = np.cov(X)\n",
        "print('covariance matrix\\n', covariance_matrix)"
      ],
      "metadata": {
        "colab": {
          "base_uri": "https://localhost:8080/"
        },
        "id": "hfH7RGf_sSt5",
        "outputId": "b759aa76-8a43-47fe-be6a-f273c64c04c8"
      },
      "execution_count": null,
      "outputs": [
        {
          "output_type": "stream",
          "name": "stdout",
          "text": [
            "covariance matrix\n",
            " [[0.34249312 0.66848301]\n",
            " [0.66848301 1.62123026]]\n"
          ]
        }
      ]
    },
    {
      "cell_type": "markdown",
      "source": [
        "We then transform some random vectors by taking the dot product between each of them and the covariance matrix."
      ],
      "metadata": {
        "id": "JVfiCCtQsWDq"
      }
    },
    {
      "cell_type": "code",
      "source": [
        "# plot original data points\n",
        "plt.scatter(x0, x1, color=['#D3E7EE'])\n",
        "\n",
        "# vectors before transformation\n",
        "v_original = [np.array([[1,0.2]]), np.array([[-1,1.5]]), np.array([[1.5,-1.3]]), np.array([[1,1.4]])]\n",
        "\n",
        "# vectors after transformation\n",
        "for v in v_original:\n",
        "    v_transformed = v.dot(covariance_matrix)\n",
        "    origin = np.array([[0, 0], [0, 0]])\n",
        "    plt.quiver(*origin, v[:, 0], v[:, 1], color=['black'], scale=4)\n",
        "    plt.quiver(*origin, v_transformed[:, 0], v_transformed[:, 1] , color=['#C6A477'], scale=10)\n",
        "\n",
        "plt.axis('scaled')\n",
        "plt.xlim([-2.5,2.5])\n",
        "plt.ylim([-2.5,2.5])"
      ],
      "metadata": {
        "colab": {
          "base_uri": "https://localhost:8080/",
          "height": 467
        },
        "id": "r_52L4B3sW66",
        "outputId": "632587a0-619a-44fa-9587-7501a660913b"
      },
      "execution_count": null,
      "outputs": [
        {
          "output_type": "execute_result",
          "data": {
            "text/plain": [
              "(-2.5, 2.5)"
            ]
          },
          "metadata": {},
          "execution_count": 3
        },
        {
          "output_type": "display_data",
          "data": {
            "text/plain": [
              "<Figure size 640x480 with 1 Axes>"
            ],
            "image/png": "[encoded data removed]"
          },
          "metadata": {}
        }
      ]
    },
    {
      "cell_type": "markdown",
      "source": [
        "Original vectors prior to transformation are in black, and after transformation are in brown. As you can see, the original vectors that are pointing at different directions have become more conformed to the general trend displayed in the original dataset (i.e. the blue dots). Because of this property, covariance matrix is important to PCA in terms of describing the relationship between features.\n",
        "\n",
        "Imagine a scatter plot filled with blue dots, representing our original dataset. These dots are scattered, showing various patterns and relationships.\n",
        "\n",
        "Now, picture a few black arrows (our original vectors) scattered on the same plot. They're pointing in different directions, representing various patterns within the data.\n",
        "\n",
        "Enter the magic of the covariance matrix!\n",
        "\n",
        "After passing these black arrows through the transformation of the covariance matrix, they change into brown arrows. These brown arrows now more closely follow the main pattern or trend that the blue dots are showing. Instead of being scattered randomly, they align or \"conform\" better to the general direction that most of the blue dots are heading towards.\n",
        "\n",
        "This ability of the covariance matrix to align vectors with the core trends of the data is why it's so crucial in PCA. By understanding and capturing these main trends (or relationships between features), PCA can represent the essence of the data in fewer dimensions, making our analyses more focused and efficient.\n",
        "\n",
        "So, in essence, the covariance matrix acts like a guide, helping PCA spotlight the major patterns and relationships in the data. It's like turning those scattered black arrows into coordinated brown arrows that march in line with where the data is leading them!"
      ],
      "metadata": {
        "id": "Znrb7IENsp1a"
      }
    },
    {
      "cell_type": "markdown",
      "source": [
        "## Eigenvalue and Eigenvector\n",
        "\n",
        "*In Short: Eigenvector (v) of a matrix (A) remains at the same direction after the matrix transformation, hence Av = λv where v represents the corresponding eigenvalue. Representing data using eigenvector and eigenvalue reduces the dimensionality while maintaining the data variance as much as possible.*\n",
        "\n",
        "To make this idea clearer, let's look at an easy-to-follow example. Say we have a matrix [[0,1],[1,0]]. One of its special vectors, called an eigenvector, is [1,1], and it has a matching value, known as an eigenvalue, of 1.\n",
        "\n",
        "<img src='https://raw.githubusercontent.com/MaralAminpour/ML-BME-Course-UofA-Fall-2023/main/Week-5-Clustering%20and%20Features/imgs/matrix8.png.webp' width=300px >\n",
        "\n",
        "let's see what's happening with our special matrix: [[0,1],[1,0]]. This matrix is like a magic mirror. When a vector looks into it, its x and y coordinates get swapped around.\n",
        "\n",
        "Let's use our vector [1,1] as an example. When it looks in this \"mirror\", its reflection is... itself! The x and y coordinates don't really change. This is why it's a special vector for our matrix, or what we call an \"eigenvector\".\n",
        "\n",
        "Now, the \"eigenvalue\" of 1 is like a size tag. It tells us that our vector, after transformation, remains the same size and points in the same direction. No stretching or squishing happens.\n",
        "\n",
        "What's super cool is this: instead of using a full-blown matrix to talk about changes, we can use just a single number, the eigenvalue, to summarize the transformation's effect. This eigenvalue is a powerful indicator. It tells us how much of the original data's patterns or \"variance\" is captured by our eigenvector.\n",
        "\n",
        "Now, to visualize this, imagine a scatter plot filled with blue dots showing our data spread. Add in our special vector, the eigenvector, as a big red arrow. You'll notice that this red arrow aligns beautifully with the main trend in our data. It's like the backbone, showing where most of the action is happening!\n",
        "\n",
        "In coding terms, we could use a script to draw this picture, highlighting the dominant eigenvector in vibrant red, revealing its alignment with the data's primary direction or variance. It's all about making the abstract concrete and visual!\n",
        "\n"
      ],
      "metadata": {
        "id": "VKFGI5eas-4l"
      }
    },
    {
      "cell_type": "code",
      "source": [
        "from numpy.linalg import eig\n",
        "eigenvalue,eigenvector = eig(covariance_matrix)\n",
        "plt.quiver(*origin, eigenvector[:,1][0], eigenvector[:,1][1] , color=['red'], scale=4, label='eigenvector')"
      ],
      "metadata": {
        "id": "cjA7ydcjzDBS"
      },
      "execution_count": null,
      "outputs": []
    },
    {
      "cell_type": "markdown",
      "source": [
        "## Principal Components\n",
        "\n",
        "Making Sense of Data Magic with PCA!\n",
        "\n",
        "Okay, let’s piece this puzzle together!\n",
        "\n",
        "1. **Covariance Matrix Magic**: Remember our fancy table, the covariance matrix? It shows how different parts of our data move together. Especially useful when we have lots of variables!\n",
        "\n",
        "2. **Eigenvectors - The Heroes**: These special vectors (eigenvectors) have a knack for capturing the main patterns in data but in a simpler, less cluttered way.\n",
        "\n",
        "3. **Eigenvalues - The Power Meters**: Each eigenvector has a buddy called an eigenvalue. This buddy tells us how strong or influential its corresponding eigenvector is.\n",
        "\n",
        "Now, when we mix the covariance matrix with these eigenvectors and eigenvalues, magic happens!\n",
        "\n",
        "**Enter Principal Components (PCs)**:\n",
        "Think of PCs as the all-stars team of eigenvectors. When we calculate the eigenvectors for our covariance matrix, we get these PCs. And just like in sports, there's a ranking!\n",
        "\n",
        "- **PC1**: The top player. The eigenvector with the highest eigenvalue. This is the one that captures the biggest trends in our data. If our data were a story, PC1 would be the headline!\n",
        "  \n",
        "- **PC2, PC3, ... PCn**: The supporting cast. They also capture important patterns but maybe not as prominently as PC1.\n",
        "\n",
        "Remember that red vector in the image? That's our superstar, PC1. It's showing the main direction where our data has the most action.\n",
        "\n",
        "**Why Does This Matter?**\n",
        "Let's say we want a simpler view of our data without losing too much detail. We'd pick the top PCs (like PC1, PC2) because they hold the most information about the original data, thanks to their high eigenvalues.\n",
        "\n",
        "In short, PCA is like a clever camera that captures the essence of our data using fewer, but super informative, shots!"
      ],
      "metadata": {
        "id": "ogLNn3_ezKX3"
      }
    },
    {
      "cell_type": "markdown",
      "source": [
        "## PCA Implementation in Machine Learning\n",
        "\n"
      ],
      "metadata": {
        "id": "fWv0BeaDz9uv"
      }
    },
    {
      "cell_type": "markdown",
      "source": [
        "## Take-Home Message\n",
        "\n",
        "In the previous article, we have introduced using linear algebra for data representation in machine learning. Now we introduced another common use case of linear algebra in ML for dimensionality reduction - Principal Component Analysis (PCA). We firstly discussed the theory behind PCA:\n",
        "\n",
        "1. represent the data variance using covariance matrix\n",
        "\n",
        "2. use eigenvector and eigenvalue to capture data variance in a lower dimension\n",
        "\n",
        "3. The principal component is the eigenvector and eigenvalue of the covariance matrix\n",
        "\n",
        "Furthermore, we utilize scikit-learn to implement PCA through the following procedures:\n",
        "\n",
        "1. standardize data into the same scale\n",
        "\n",
        "2. apply PCA on the scaled data\n",
        "\n",
        "3. visualize explained variance using scree plot\n",
        "\n",
        "4. interpret the principal components composition\n",
        "\n",
        "5. use principal components in ML algorithm"
      ],
      "metadata": {
        "id": "UkdDbEAM0X3d"
      }
    },
    {
      "cell_type": "markdown",
      "source": [
        "**Very intresting article on PCA**\n",
        "\n",
        "[Are you googling PCA again?](https://lazymodellingcrew.com/post/post_17_are_you_googling_pca_again/)\n",
        "\n",
        "<img src='https://raw.githubusercontent.com/MaralAminpour/ML-BME-Course-UofA-Fall-2023/main/Week-5-Clustering%20and%20Features/imgs/beer_vodka.png' width=400px >\n",
        "\n"
      ],
      "metadata": {
        "id": "9Ww0rduD39Q4"
      }
    }
  ]
}