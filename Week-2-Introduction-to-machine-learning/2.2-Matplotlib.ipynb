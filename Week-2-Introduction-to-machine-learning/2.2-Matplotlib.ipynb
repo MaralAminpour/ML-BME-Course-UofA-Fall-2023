{
  "cells": [
    {
      "cell_type": "markdown",
      "metadata": {
        "id": "JkTvZF_e2klx"
      },
      "source": [
        "# Matplotlib"
      ]
    },
    {
      "cell_type": "markdown",
      "metadata": {
        "id": "a7kTdJ_M2kly"
      },
      "source": [
        "Matplotlib is a plotting library that provides functionality very similar to that seen in Matlab. In this tutorial we will give a brief introduction to making simple line/scatter plots, and a few other types of plots. You will be introduced to more advanced plots over the course of the lecture series. The first thing we need to do is import the modules used throughout the notebook, including the Matplotlib plotting module ```pyplot```, and adding ```%matplotlib inline``` to ensure all plots are rendered inline, after the cells that call them."
      ]
    },
    {
      "cell_type": "code",
      "execution_count": 6,
      "metadata": {
        "id": "ka2dwYXj2kly"
      },
      "outputs": [],
      "source": [
        "import numpy as np\n",
        "import matplotlib.pyplot as plt\n",
        "%matplotlib inline"
      ]
    },
    {
      "cell_type": "markdown",
      "metadata": {
        "id": "8w6olL_m2klz"
      },
      "source": [
        "__Note__\n",
        "*  ```%matplotlib inline``` will make your plot outputs appear and be stored within the notebook.\n",
        "* ```%matplotlib inline``` is a \"magic\" built-in command for jupyter/ipython; it is not a Python statement."
      ]
    },
    {
      "cell_type": "markdown",
      "metadata": {
        "id": "smpZaPJA2klz"
      },
      "source": [
        "## Basic Plotting"
      ]
    },
    {
      "cell_type": "markdown",
      "metadata": {
        "id": "dMaxfGa62klz"
      },
      "source": [
        "Let's start by plotting a simple linear function $y = 2x$.\n",
        "\n",
        "__Task 1.1__: Plot the function $y = 2x$ using the ```plt.plot``` function."
      ]
    },
    {
      "cell_type": "code",
      "execution_count": null,
      "metadata": {
        "id": "GJBVyau92klz"
      },
      "outputs": [],
      "source": [
        "# Prepare the data\n",
        "x = np.linspace(-10, 10, 50) # 50 values in the range [-10,10]\n",
        "print('x = \\n', x)\n",
        "\n",
        "# Create the function\n",
        "y = 2*x\n",
        "\n",
        "### (Task 1.1): Plot the data\n",
        "# Add your code here\n",
        "\n",
        "# Show the plot\n",
        "# (not necessary when plotting with %inline keyword\n",
        "#  but essential when plotting from scripts)\n",
        "plt.show()"
      ]
    },
    {
      "cell_type": "markdown",
      "metadata": {
        "id": "oBNIpzhh2klz"
      },
      "source": [
        "We can label the plot and the axes, and add a legend and a title to the plot.\n",
        "\n",
        "__Task 1.2__: Add labels to the axis using ```plt.xlabel``` and ```plt.ylabel```\n",
        "\n",
        "__Task 1.3__: Add a title to your plot using ```plt.title```\n"
      ]
    },
    {
      "cell_type": "code",
      "execution_count": null,
      "metadata": {
        "id": "dR7D2T5z2kl0"
      },
      "outputs": [],
      "source": [
        "# Plot the data\n",
        "plt.plot(x, y)\n",
        "\n",
        "### (Task 1.2): label both axis\n",
        "plt.xlabel('$x$') # The expression $x$ tells matplotlib to format x as an equation (and italicize x); you can use LaTeX-like formatting\n",
        "# Add your code for the y-axis label here\n",
        "\n",
        "### (Task 1.3): add a title\n",
        "# Add your code for the title here\n",
        "\n",
        "# Legend\n",
        "plt.legend(['$y = 2x$'], loc='lower right')\n",
        "# Note: the first argument is a list of strings;\n",
        "#       the second argument is the desired location for the legend (within the plot)\n",
        "\n",
        "# Note: Alternative to creating a legend is:\n",
        "#plt.plot(x, y, label = '$y = 2x$')\n",
        "#plt.legend(loc='lower right')\n",
        "\n",
        "plt.show()"
      ]
    },
    {
      "cell_type": "markdown",
      "metadata": {
        "id": "MayL7cWN2kl0"
      },
      "source": [
        "**In order to plot multiple functions in the same figure, one simply adds more ```plt.plot``` calls.**\n",
        "\n",
        "You can also add them in a single line such as: ```plt.plot(x, y, x, y2)```.\n",
        "\n",
        "Let's look at an example for $y = x^2$:"
      ]
    },
    {
      "cell_type": "code",
      "execution_count": null,
      "metadata": {
        "id": "KXFprV6l2kl0"
      },
      "outputs": [],
      "source": [
        "# Create a new function\n",
        "y2 = x**2\n",
        "\n",
        "# Plot y = 2x\n",
        "plt.plot(x, y)\n",
        "\n",
        "# Plot y = x^2\n",
        "plt.plot(x, y2)\n",
        "\n",
        "# Labels\n",
        "plt.xlabel('$x$')\n",
        "plt.ylabel('$y$')\n",
        "\n",
        "# Legend\n",
        "plt.legend(['$y = 2x$', '$y = x^{2}$'], loc='lower right')\n",
        "\n",
        "# Title\n",
        "plt.title('Two functions')\n",
        "\n",
        "plt.show()"
      ]
    },
    {
      "cell_type": "markdown",
      "metadata": {
        "id": "CYX4UTvO2kl0"
      },
      "source": [
        "__Task 1.4__: Add a third function $y = \\text{exp}(x/2)$. Change the labels to 'x' and 'f(x)' for the x and y axis respectively. Add the third function to the legend of the plot and change the title to 'My three functions'."
      ]
    },
    {
      "cell_type": "code",
      "execution_count": null,
      "metadata": {
        "id": "eFpt7oFW2kl1"
      },
      "outputs": [],
      "source": [
        "### (Task 1.4)\n",
        "\n",
        "# Create a third function\n",
        "y3 = np.exp(x/2)\n",
        "\n",
        "# Plot y_1\n",
        "plt.plot(x, y)\n",
        "\n",
        "# Plot y_2\n",
        "plt.plot(x, y2)\n",
        "\n",
        "# Plot y_3\n",
        "# Add your code here\n",
        "\n",
        "# Labels\n",
        "# Add your code here\n",
        "\n",
        "# Legend\n",
        "plt.legend(['$y = 2x$', '$y = x^2$', '$y = e^{x/2}$'], loc='lower right')\n",
        "\n",
        "# Title\n",
        "# Add your code here\n",
        "\n",
        "plt.show()"
      ]
    },
    {
      "cell_type": "markdown",
      "metadata": {
        "id": "K2zrVgQv2kl1"
      },
      "source": [
        "You have the option to modify the plot style through a third argument that specifies the format string. This string, informed by MATLAB conventions, allows you to define both the color and the line style for your plot; you simply need to combine the respective codes for each in one string. To give you an idea, **the default option is 'b-', which represents a solid blue line.**\n",
        "\n",
        "\n",
        "__Task 1.5__: Change the code below to use **red circles ('ro')** for $y = 2x$ and **green triangles ('g^')** for $y = x^2$.\n"
      ]
    },
    {
      "cell_type": "code",
      "execution_count": null,
      "metadata": {
        "id": "06OLB8He2kl1"
      },
      "outputs": [],
      "source": [
        "### (Task 1.5)\n",
        "plt.plot(x, y, 'b-', x, y2, 'b-') # Edit this line\n",
        "\n",
        "# Labels\n",
        "plt.xlabel('$x$')\n",
        "plt.ylabel('$y$')\n",
        "\n",
        "# Legend\n",
        "plt.legend(['$y = 2x$', '$y = x^2$'], loc='lower right')\n",
        "\n",
        "# Title\n",
        "plt.title('Different styles')\n",
        "\n",
        "plt.show()"
      ]
    },
    {
      "cell_type": "markdown",
      "metadata": {
        "id": "oxrG5Tbt2kl1"
      },
      "source": [
        "For many more arguments controlling the properties of ```pyplot``` lines and markers see https://matplotlib.org/stable/api/_as_gen/matplotlib.pyplot.plot.html"
      ]
    },
    {
      "cell_type": "markdown",
      "metadata": {
        "id": "_Wj51VKJ2kl1"
      },
      "source": [
        "**Task 1.6** Want to save a figure as a file? Use `savefig`"
      ]
    },
    {
      "cell_type": "code",
      "execution_count": null,
      "metadata": {
        "id": "S6Wd-SPx2kl2"
      },
      "outputs": [],
      "source": [
        "### (Task 1.6)\n",
        "plt.plot(x, y, 'ro', x, y2, 'g^')\n",
        "plt.xlabel('$x$')\n",
        "plt.ylabel('$y$')\n",
        "plt.legend(['$y = 2x$', '$y = x^2$'], loc='lower right')\n",
        "plt.title('Different styles')\n",
        "plt.savefig('saved_plot.png')"
      ]
    },
    {
      "cell_type": "markdown",
      "metadata": {
        "id": "qMZyoiZR2kl2"
      },
      "source": [
        "## Setting ticks and limits"
      ]
    },
    {
      "cell_type": "markdown",
      "metadata": {
        "id": "JNGOyc752kl2"
      },
      "source": [
        "In some cases, it may be necessary to **change the range of the x and y axis and/or change the regularity or spacing of the ticks on each axis**. This can be achieved using ```xlim/ylim``` and ```xticks/yticks``` functions"
      ]
    },
    {
      "cell_type": "markdown",
      "metadata": {
        "id": "hSBuktNd2kl2"
      },
      "source": [
        "__Task 2.1__: **Change the axis limits **\n",
        "\n",
        "to $[\\text{min}(x)-5, \\text{max}(x)+5]$ for the x axis and to $[\\text{min}(y)-5, \\text{max}(y)+5]$ for the y axis.\n",
        "\n",
        "*Hint*: use `plt.xlim(lower_limit, upper_limit)` and `plt.ylim(lower_limit, upper_limit)`"
      ]
    },
    {
      "cell_type": "code",
      "execution_count": null,
      "metadata": {
        "id": "JK5OOuWG2kl2"
      },
      "outputs": [],
      "source": [
        "### Task 2.1: changing the axis limits\n",
        "plt.xlim(x.min() - 5, x.max() + 5)\n",
        "# Add your code for the y-axis here\n",
        "\n",
        "# Plot data\n",
        "plt.plot(x, y, 'ro', x, y2, 'g^')\n",
        "\n",
        "# Labels\n",
        "plt.xlabel('$x$')\n",
        "plt.ylabel('$y$')\n",
        "\n",
        "# Legend\n",
        "plt.legend(['$y = 2x$', '$y = x^2$'], loc='lower right')\n",
        "\n",
        "# Title\n",
        "plt.title('New axis limits')\n",
        "\n",
        "plt.show()"
      ]
    },
    {
      "cell_type": "markdown",
      "metadata": {
        "id": "f80d9nXy2kl2"
      },
      "source": [
        "__Task 2.2__: **changing the axis ticks**\n",
        "\n",
        "to only show $\\{-10, 0, 10\\}$ for the x axis and $\\{0,50,100\\}$ for the y axis.\n",
        "\n",
        "*Hint*: use `plt.xticks(list_of_values)` and `plt.yticks(list_of_values)`"
      ]
    },
    {
      "cell_type": "code",
      "execution_count": null,
      "metadata": {
        "id": "oRfHv9m32kl3"
      },
      "outputs": [],
      "source": [
        "### Task 2.2: changing the axis ticks\n",
        "plt.xticks([-10, 0, 10])\n",
        "\n",
        "# Add your code for the y-axis here\n",
        "\n",
        "# Plot data\n",
        "plt.plot(x, y, 'ro', x, y2, 'g^')\n",
        "\n",
        "# Labels\n",
        "plt.xlabel('$x$')\n",
        "plt.ylabel('$y$')\n",
        "\n",
        "# Legend\n",
        "plt.legend(['y', 'y2'], loc='lower right')\n",
        "\n",
        "# Title\n",
        "plt.title('New ticks')\n",
        "\n",
        "plt.show()"
      ]
    },
    {
      "cell_type": "markdown",
      "metadata": {
        "id": "fqX0O_Xg2kl3"
      },
      "source": [
        "## Subplots"
      ]
    },
    {
      "cell_type": "markdown",
      "metadata": {
        "id": "3B77Eu1k2kl3"
      },
      "source": [
        "When using MATLAB and pyplot for your plots, you will work with two main components: **\"figures\"** and **\"axes\"**.\n",
        "\n",
        "A **\"figure\"** refers to the entire window that appears in the user interface. It is essentially the container for your plot.\n",
        "\n",
        "Within this \"figure,\" you can add \"axes.\" **Axes** are the specific areas where the data will be plotted. You can customize these areas with various functions such as `plot()` to include ticks, labels, and more to accurately represent your data.\n",
        "\n",
        "You have the flexibility to include multiple axes within a single figure. To organize multiple plots neatly, you can use \"**subplots**.\" This allows you to place different plots side by side within the same figure, providing a structured view of various data sets at once.\n"
      ]
    },
    {
      "cell_type": "code",
      "execution_count": null,
      "metadata": {
        "id": "3YUc6KzN2kl3"
      },
      "outputs": [],
      "source": [
        "# Initialize the plot specifying the figure size\n",
        "fig = plt.figure(figsize=(8,3)) # note the use of figsize to format figure size\n",
        "\n",
        "# subplot 1: similar to MATLAB: 121 = 1 row, 2 columns, 1st subplot\n",
        "plt.subplot(121)\n",
        "plt.plot(x, y, 'ro')\n",
        "plt.title('$2x$')\n",
        "\n",
        "# subplot 2: similar to MATLAB: 122 = 1 row, 2 columns, 2nd subplot\n",
        "plt.subplot(122)\n",
        "plt.plot(x, y2, 'g^')\n",
        "plt.title('$x^2$')\n",
        "\n",
        "plt.show()"
      ]
    },
    {
      "cell_type": "markdown",
      "metadata": {
        "id": "rMxFe65L2kl3"
      },
      "source": [
        "Here is another version where the axes are defined using variables:"
      ]
    },
    {
      "cell_type": "code",
      "execution_count": null,
      "metadata": {
        "id": "mdQXp9Pe2kl3"
      },
      "outputs": [],
      "source": [
        "# Initialize the plot specifying the figure size\n",
        "fig = plt.figure(figsize=(8,3))\n",
        "\n",
        "# Subplot 1\n",
        "ax1 = fig.add_subplot(121)\n",
        "ax1.plot(x, y, 'ro')\n",
        "ax1.set_title('$2x$')\n",
        "\n",
        "# Subplot 2\n",
        "ax2 = fig.add_subplot(122)\n",
        "ax2.plot(x, y2, 'g^')\n",
        "ax2.set_title('$x^2$')\n",
        "\n",
        "plt.show()"
      ]
    },
    {
      "cell_type": "markdown",
      "metadata": {
        "id": "dJGkkLLc2kl4"
      },
      "source": [
        "__Note__: Here we have also introduced the function argument ```figsize```.\n",
        "\n",
        "__Task 3.1__: In the code above, try changing the size dimensions to view the impact on the figure.\n",
        "\n",
        "__Task 3.2__: Add a third subplot to the code above to display also the function $y=\\exp(x/2)$\n",
        "\n",
        "\n",
        "__Note__: **The default use of ```subplot``` enforces an even share of the figure to each subplot. In order to fit plots of different sizes within each figure consider using ```gridspec```** (https://matplotlib.org/stable/api/gridspec_api.html)"
      ]
    },
    {
      "cell_type": "markdown",
      "metadata": {
        "id": "H_E2blCW2kl4"
      },
      "source": [
        "## Brief introduction to other plot styles"
      ]
    },
    {
      "cell_type": "markdown",
      "metadata": {
        "id": "sjxzVSEY2kl4"
      },
      "source": [
        "We'll go over the different types of plots in more detail when we come across them in examples. Just to give you a hint of what's to come, with matplotlib, you can create a variety of plots including __bar charts__, __histograms__ and __box plots__ - plenty to look forward to!\n",
        "\n",
        "Now, let's get hands-on. Run the following code to load the file named 40subjdata.pk1. This file gives us a peek into the data of 40 students, detailing their height, gender, and the distance they traveled to attend the class.\n"
      ]
    },
    {
      "cell_type": "code",
      "execution_count": 3,
      "metadata": {
        "id": "jxX_1vLJ2kl4"
      },
      "outputs": [],
      "source": [
        "import requests, os\n",
        "\n",
        "# Download a data file from GitHub\n",
        "def download_data(source, dest):\n",
        "    base_url = 'https://raw.githubusercontent.com/'\n",
        "    owner = 'SirTurtle'\n",
        "    repo = 'ML-BME-UofA-data'\n",
        "    branch = 'main'\n",
        "    url = '{}/{}/{}/{}/{}'.format(base_url, owner, repo, branch, source)\n",
        "    r = requests.get(url)\n",
        "    f = open(dest, 'wb')\n",
        "    f.write(r.content)\n",
        "    f.close()\n",
        "\n",
        "if not os.path.exists('temp'):\n",
        "   os.makedirs('temp')\n",
        "\n",
        "download_data('Week-1-Python-programming/data/40subjdata.pkl', 'temp/40subjdata.pkl')\n",
        "download_data('Week-1-Python-programming/data/fetalbrain.jpeg', 'temp/fetalbrain.jpeg')"
      ]
    },
    {
      "cell_type": "code",
      "execution_count": 4,
      "metadata": {
        "colab": {
          "base_uri": "https://localhost:8080/",
          "height": 228
        },
        "id": "TOVR-Xe52kl4",
        "outputId": "105035f9-578c-4760-bb2e-6ff404fcf61a"
      },
      "outputs": [
        {
          "output_type": "display_data",
          "data": {
            "text/plain": [
              "  gender  distance  height\n",
              "0      M        80     183\n",
              "1      F         3     163\n",
              "2      F        90     152\n",
              "3      F       272     157\n",
              "4      F        80     157"
            ],
            "text/html": [
              "\n",
              "  <div id=\"df-3fd2a076-ae0c-4980-8085-c270e3f11fa9\" class=\"colab-df-container\">\n",
              "    <div>\n",
              "<style scoped>\n",
              "    .dataframe tbody tr th:only-of-type {\n",
              "        vertical-align: middle;\n",
              "    }\n",
              "\n",
              "    .dataframe tbody tr th {\n",
              "        vertical-align: top;\n",
              "    }\n",
              "\n",
              "    .dataframe thead th {\n",
              "        text-align: right;\n",
              "    }\n",
              "</style>\n",
              "<table border=\"1\" class=\"dataframe\">\n",
              "  <thead>\n",
              "    <tr style=\"text-align: right;\">\n",
              "      <th></th>\n",
              "      <th>gender</th>\n",
              "      <th>distance</th>\n",
              "      <th>height</th>\n",
              "    </tr>\n",
              "  </thead>\n",
              "  <tbody>\n",
              "    <tr>\n",
              "      <th>0</th>\n",
              "      <td>M</td>\n",
              "      <td>80</td>\n",
              "      <td>183</td>\n",
              "    </tr>\n",
              "    <tr>\n",
              "      <th>1</th>\n",
              "      <td>F</td>\n",
              "      <td>3</td>\n",
              "      <td>163</td>\n",
              "    </tr>\n",
              "    <tr>\n",
              "      <th>2</th>\n",
              "      <td>F</td>\n",
              "      <td>90</td>\n",
              "      <td>152</td>\n",
              "    </tr>\n",
              "    <tr>\n",
              "      <th>3</th>\n",
              "      <td>F</td>\n",
              "      <td>272</td>\n",
              "      <td>157</td>\n",
              "    </tr>\n",
              "    <tr>\n",
              "      <th>4</th>\n",
              "      <td>F</td>\n",
              "      <td>80</td>\n",
              "      <td>157</td>\n",
              "    </tr>\n",
              "  </tbody>\n",
              "</table>\n",
              "</div>\n",
              "    <div class=\"colab-df-buttons\">\n",
              "\n",
              "  <div class=\"colab-df-container\">\n",
              "    <button class=\"colab-df-convert\" onclick=\"convertToInteractive('df-3fd2a076-ae0c-4980-8085-c270e3f11fa9')\"\n",
              "            title=\"Convert this dataframe to an interactive table.\"\n",
              "            style=\"display:none;\">\n",
              "\n",
              "  <svg xmlns=\"http://www.w3.org/2000/svg\" height=\"24px\" viewBox=\"0 -960 960 960\">\n",
              "    <path d=\"M120-120v-720h720v720H120Zm60-500h600v-160H180v160Zm220 220h160v-160H400v160Zm0 220h160v-160H400v160ZM180-400h160v-160H180v160Zm440 0h160v-160H620v160ZM180-180h160v-160H180v160Zm440 0h160v-160H620v160Z\"/>\n",
              "  </svg>\n",
              "    </button>\n",
              "\n",
              "  <style>\n",
              "    .colab-df-container {\n",
              "      display:flex;\n",
              "      gap: 12px;\n",
              "    }\n",
              "\n",
              "    .colab-df-convert {\n",
              "      background-color: #E8F0FE;\n",
              "      border: none;\n",
              "      border-radius: 50%;\n",
              "      cursor: pointer;\n",
              "      display: none;\n",
              "      fill: #1967D2;\n",
              "      height: 32px;\n",
              "      padding: 0 0 0 0;\n",
              "      width: 32px;\n",
              "    }\n",
              "\n",
              "    .colab-df-convert:hover {\n",
              "      background-color: #E2EBFA;\n",
              "      box-shadow: 0px 1px 2px rgba(60, 64, 67, 0.3), 0px 1px 3px 1px rgba(60, 64, 67, 0.15);\n",
              "      fill: #174EA6;\n",
              "    }\n",
              "\n",
              "    .colab-df-buttons div {\n",
              "      margin-bottom: 4px;\n",
              "    }\n",
              "\n",
              "    [theme=dark] .colab-df-convert {\n",
              "      background-color: #3B4455;\n",
              "      fill: #D2E3FC;\n",
              "    }\n",
              "\n",
              "    [theme=dark] .colab-df-convert:hover {\n",
              "      background-color: #434B5C;\n",
              "      box-shadow: 0px 1px 3px 1px rgba(0, 0, 0, 0.15);\n",
              "      filter: drop-shadow(0px 1px 2px rgba(0, 0, 0, 0.3));\n",
              "      fill: #FFFFFF;\n",
              "    }\n",
              "  </style>\n",
              "\n",
              "    <script>\n",
              "      const buttonEl =\n",
              "        document.querySelector('#df-3fd2a076-ae0c-4980-8085-c270e3f11fa9 button.colab-df-convert');\n",
              "      buttonEl.style.display =\n",
              "        google.colab.kernel.accessAllowed ? 'block' : 'none';\n",
              "\n",
              "      async function convertToInteractive(key) {\n",
              "        const element = document.querySelector('#df-3fd2a076-ae0c-4980-8085-c270e3f11fa9');\n",
              "        const dataTable =\n",
              "          await google.colab.kernel.invokeFunction('convertToInteractive',\n",
              "                                                    [key], {});\n",
              "        if (!dataTable) return;\n",
              "\n",
              "        const docLinkHtml = 'Like what you see? Visit the ' +\n",
              "          '<a target=\"_blank\" href=https://colab.research.google.com/notebooks/data_table.ipynb>data table notebook</a>'\n",
              "          + ' to learn more about interactive tables.';\n",
              "        element.innerHTML = '';\n",
              "        dataTable['output_type'] = 'display_data';\n",
              "        await google.colab.output.renderOutput(dataTable, element);\n",
              "        const docLink = document.createElement('div');\n",
              "        docLink.innerHTML = docLinkHtml;\n",
              "        element.appendChild(docLink);\n",
              "      }\n",
              "    </script>\n",
              "  </div>\n",
              "\n",
              "\n",
              "<div id=\"df-1d862a42-2ad5-4d31-98ef-2320d8ce8cd2\">\n",
              "  <button class=\"colab-df-quickchart\" onclick=\"quickchart('df-1d862a42-2ad5-4d31-98ef-2320d8ce8cd2')\"\n",
              "            title=\"Suggest charts.\"\n",
              "            style=\"display:none;\">\n",
              "\n",
              "<svg xmlns=\"http://www.w3.org/2000/svg\" height=\"24px\"viewBox=\"0 0 24 24\"\n",
              "     width=\"24px\">\n",
              "    <g>\n",
              "        <path d=\"M19 3H5c-1.1 0-2 .9-2 2v14c0 1.1.9 2 2 2h14c1.1 0 2-.9 2-2V5c0-1.1-.9-2-2-2zM9 17H7v-7h2v7zm4 0h-2V7h2v10zm4 0h-2v-4h2v4z\"/>\n",
              "    </g>\n",
              "</svg>\n",
              "  </button>\n",
              "\n",
              "<style>\n",
              "  .colab-df-quickchart {\n",
              "      --bg-color: #E8F0FE;\n",
              "      --fill-color: #1967D2;\n",
              "      --hover-bg-color: #E2EBFA;\n",
              "      --hover-fill-color: #174EA6;\n",
              "      --disabled-fill-color: #AAA;\n",
              "      --disabled-bg-color: #DDD;\n",
              "  }\n",
              "\n",
              "  [theme=dark] .colab-df-quickchart {\n",
              "      --bg-color: #3B4455;\n",
              "      --fill-color: #D2E3FC;\n",
              "      --hover-bg-color: #434B5C;\n",
              "      --hover-fill-color: #FFFFFF;\n",
              "      --disabled-bg-color: #3B4455;\n",
              "      --disabled-fill-color: #666;\n",
              "  }\n",
              "\n",
              "  .colab-df-quickchart {\n",
              "    background-color: var(--bg-color);\n",
              "    border: none;\n",
              "    border-radius: 50%;\n",
              "    cursor: pointer;\n",
              "    display: none;\n",
              "    fill: var(--fill-color);\n",
              "    height: 32px;\n",
              "    padding: 0;\n",
              "    width: 32px;\n",
              "  }\n",
              "\n",
              "  .colab-df-quickchart:hover {\n",
              "    background-color: var(--hover-bg-color);\n",
              "    box-shadow: 0 1px 2px rgba(60, 64, 67, 0.3), 0 1px 3px 1px rgba(60, 64, 67, 0.15);\n",
              "    fill: var(--button-hover-fill-color);\n",
              "  }\n",
              "\n",
              "  .colab-df-quickchart-complete:disabled,\n",
              "  .colab-df-quickchart-complete:disabled:hover {\n",
              "    background-color: var(--disabled-bg-color);\n",
              "    fill: var(--disabled-fill-color);\n",
              "    box-shadow: none;\n",
              "  }\n",
              "\n",
              "  .colab-df-spinner {\n",
              "    border: 2px solid var(--fill-color);\n",
              "    border-color: transparent;\n",
              "    border-bottom-color: var(--fill-color);\n",
              "    animation:\n",
              "      spin 1s steps(1) infinite;\n",
              "  }\n",
              "\n",
              "  @keyframes spin {\n",
              "    0% {\n",
              "      border-color: transparent;\n",
              "      border-bottom-color: var(--fill-color);\n",
              "      border-left-color: var(--fill-color);\n",
              "    }\n",
              "    20% {\n",
              "      border-color: transparent;\n",
              "      border-left-color: var(--fill-color);\n",
              "      border-top-color: var(--fill-color);\n",
              "    }\n",
              "    30% {\n",
              "      border-color: transparent;\n",
              "      border-left-color: var(--fill-color);\n",
              "      border-top-color: var(--fill-color);\n",
              "      border-right-color: var(--fill-color);\n",
              "    }\n",
              "    40% {\n",
              "      border-color: transparent;\n",
              "      border-right-color: var(--fill-color);\n",
              "      border-top-color: var(--fill-color);\n",
              "    }\n",
              "    60% {\n",
              "      border-color: transparent;\n",
              "      border-right-color: var(--fill-color);\n",
              "    }\n",
              "    80% {\n",
              "      border-color: transparent;\n",
              "      border-right-color: var(--fill-color);\n",
              "      border-bottom-color: var(--fill-color);\n",
              "    }\n",
              "    90% {\n",
              "      border-color: transparent;\n",
              "      border-bottom-color: var(--fill-color);\n",
              "    }\n",
              "  }\n",
              "</style>\n",
              "\n",
              "  <script>\n",
              "    async function quickchart(key) {\n",
              "      const quickchartButtonEl =\n",
              "        document.querySelector('#' + key + ' button');\n",
              "      quickchartButtonEl.disabled = true;  // To prevent multiple clicks.\n",
              "      quickchartButtonEl.classList.add('colab-df-spinner');\n",
              "      try {\n",
              "        const charts = await google.colab.kernel.invokeFunction(\n",
              "            'suggestCharts', [key], {});\n",
              "      } catch (error) {\n",
              "        console.error('Error during call to suggestCharts:', error);\n",
              "      }\n",
              "      quickchartButtonEl.classList.remove('colab-df-spinner');\n",
              "      quickchartButtonEl.classList.add('colab-df-quickchart-complete');\n",
              "    }\n",
              "    (() => {\n",
              "      let quickchartButtonEl =\n",
              "        document.querySelector('#df-1d862a42-2ad5-4d31-98ef-2320d8ce8cd2 button');\n",
              "      quickchartButtonEl.style.display =\n",
              "        google.colab.kernel.accessAllowed ? 'block' : 'none';\n",
              "    })();\n",
              "  </script>\n",
              "</div>\n",
              "    </div>\n",
              "  </div>\n"
            ]
          },
          "metadata": {}
        }
      ],
      "source": [
        "# Import pandas; we will cover pandas in the next notebook\n",
        "import pandas as pd\n",
        "\n",
        "# Load data\n",
        "df = pd.read_pickle('temp/40subjdata.pkl')\n",
        "\n",
        "# Inspect data with head()\n",
        "display(df.head())\n",
        "\n",
        "# Extract height data\n",
        "heights = df['height']\n",
        "\n",
        "# Select all heights for female, and all heights for males\n",
        "girls_height = df['height'][df['gender']=='F']\n",
        "boys_height  = df['height'][df['gender']=='M']"
      ]
    },
    {
      "cell_type": "markdown",
      "metadata": {
        "id": "UoSwxZGd2kl4"
      },
      "source": [
        "### Histogram\n",
        "\n",
        "Next up, we're going to create a histogram using the 'distance' values from our data. To do this, we'll set the optional `bins` parameter to 10, giving us a nice breakdown of the data into 10 segments. Give it a try by running the following code:\n",
        "\n",
        "__Task 4.1:__ Play with the number of bins"
      ]
    },
    {
      "cell_type": "code",
      "execution_count": 7,
      "metadata": {
        "colab": {
          "base_uri": "https://localhost:8080/",
          "height": 492
        },
        "id": "Rh6dTyBg2kl4",
        "outputId": "f9250b2b-ad0f-448d-dd54-1fa984d19002"
      },
      "outputs": [
        {
          "output_type": "display_data",
          "data": {
            "text/plain": [
              "<Figure size 640x480 with 1 Axes>"
            ],
            "image/png": "[encoded data removed]"
          },
          "metadata": {}
        }
      ],
      "source": [
        "### Task 4.1\n",
        "\n",
        "plt.hist(heights, bins=10, edgecolor='black', linewidth=1.2)\n",
        "# The edgecolor and linewidth parameters will add an outline to the histogram bars\n",
        "\n",
        "# Labels\n",
        "plt.xlabel('Height (cm)')\n",
        "plt.ylabel('Number of students')\n",
        "\n",
        "# Title\n",
        "plt.title('Student height histogram')\n",
        "\n",
        "plt.show()"
      ]
    },
    {
      "cell_type": "markdown",
      "metadata": {
        "id": "WBczqWtO2kl4"
      },
      "source": [
        "### Bar chart\n",
        "\n",
        "Bar charts can be created using function `bar` with 4 arguments:\n",
        "* the locations for the bars on the x-axis\n",
        "* the height of the bars\n",
        "* the width of the bars\n",
        "* the error bars (`yerr`)\n",
        "\n",
        "__Task 4.2__: Let's build a **bar chart** that displays the average height for both girls and boys. To give a clear picture of the variation in heights, we'll also include error bars representing the standard deviation on the y-axis. Here's a start, just fill in the missing parts in the code below to complete it:\n",
        "\n",
        "See documentation: https://matplotlib.org/api/_as_gen/matplotlib.pyplot.bar.html"
      ]
    },
    {
      "cell_type": "code",
      "execution_count": 9,
      "metadata": {
        "colab": {
          "base_uri": "https://localhost:8080/",
          "height": 472
        },
        "id": "AKjhwnJc2kl4",
        "outputId": "8fa6d3a1-110f-45ac-a4a7-e78c3f55f476"
      },
      "outputs": [
        {
          "output_type": "display_data",
          "data": {
            "text/plain": [
              "<Figure size 640x480 with 1 Axes>"
            ],
            "image/png": "[encoded data removed]"
          },
          "metadata": {}
        }
      ],
      "source": [
        "### Task 4.2\n",
        "\n",
        "# Define the locations of the bars on the x-axis\n",
        "bar_locs = [0,1]\n",
        "\n",
        "# Set the width of the bars\n",
        "width = 0.8\n",
        "\n",
        "# Calculate the average height for girls and for boys\n",
        "avg_girls = np.mean(girls_height)\n",
        "avg_boys  = None # Edit this line\n",
        "\n",
        "# Calculate the standard deviation in the height for girls and for boys\n",
        "std_girls = None # Edit this line\n",
        "std_boys  = None # Edit this line\n",
        "\n",
        "# Plot the bar chart - Uncomment and fill in\n",
        "# plt.bar(bar_locs, [None, None], width, yerr=[None, None], edgecolor='black', linewidth=1.2)\n",
        "\n",
        "# Change ticks to show girls and boys\n",
        "plt.xticks(bar_locs, ('girls','boys'))\n",
        "\n",
        "# Labels\n",
        "plt.ylabel('Average height (cm)')\n",
        "\n",
        "# Title\n",
        "plt.title('Student height bar chart')\n",
        "\n",
        "plt.show()"
      ]
    },
    {
      "cell_type": "markdown",
      "metadata": {
        "id": "b57RyjXD2kl4"
      },
      "source": [
        "__Task 4.3__: Next, let's create **boxplots** (use ```boxplot```) to visually represent the distribution of heights for girls and boys. Use the boxplot function to get this done. Go ahead and give it a try!\n",
        "\n",
        "See documentation: https://matplotlib.org/stable/api/_as_gen/matplotlib.pyplot.boxplot.html"
      ]
    },
    {
      "cell_type": "code",
      "execution_count": 8,
      "metadata": {
        "colab": {
          "base_uri": "https://localhost:8080/",
          "height": 472
        },
        "id": "XxE_uGXk2kl5",
        "outputId": "db1c1b86-6101-4bb0-e27f-b50d264b945b"
      },
      "outputs": [
        {
          "output_type": "display_data",
          "data": {
            "text/plain": [
              "<Figure size 640x480 with 1 Axes>"
            ],
            "image/png": "[encoded data removed]"
          },
          "metadata": {}
        }
      ],
      "source": [
        "### Task 4.3\n",
        "\n",
        "# Plot the boxplots - Uncomment and fill in\n",
        "#plt.boxplot([None, None], vert=True)\n",
        "\n",
        "# Label the x-axis - the first boxplot is at x=1 and the second at x=2\n",
        "plt.xticks((1,2), ('girls','boys'))\n",
        "\n",
        "# Labels\n",
        "plt.ylabel('Height (cm)')\n",
        "\n",
        "# Title\n",
        "plt.title('Student height boxplots')\n",
        "\n",
        "plt.show()"
      ]
    },
    {
      "cell_type": "markdown",
      "metadata": {
        "id": "WF98wy202kl5"
      },
      "source": [
        "Task 4.4: Create **violinplots** of the girls and the boys heights.\n",
        "\n",
        "See documentation: https://matplotlib.org/stable/api/_as_gen/matplotlib.pyplot.violinplot.html\n",
        "\n",
        "**Note:** A violin plot is a type of data visualization that **combines aspects of a boxplot and a kernel density plot**. Here's how it breaks down:\n",
        "\n",
        "**Boxplot component:**\n",
        "\n",
        "Like a boxplot, it shows the **median of the data**, which is typically marked by a white dot or a horizontal line. It also displays the interquartile range, which represents the middle 50% of the data.\n",
        "\n",
        "**Kernel Density Plot component:**\n",
        "\n",
        "This is what makes a violin plot distinctive. On each side of the boxplot, there is a rotated kernel density plot, which gives a visual representation of the data's distribution. This plot shows the density of the data points at different values, creating a shape like a violin, hence the name.\n",
        "\n",
        "Together, these components allow a violin plot to provide a deeper understanding of the **distribution of data points**, revealing not only the central tendency and spread of the data but also any bimodality, skewness, and other complex structures that might be present."
      ]
    },
    {
      "cell_type": "code",
      "execution_count": null,
      "metadata": {
        "id": "h8K9R3Ur2kl5"
      },
      "outputs": [],
      "source": [
        "### Task 4.4\n",
        "\n",
        "# Plot the violinplots - Uncomment and fill in\n",
        "# plt.violinplot([None, None], vert=True)\n",
        "\n",
        "# Label the x-axis - the first boxplot is at x=1 and the second at x=2\n",
        "plt.xticks((1,2), ('girls','boys'))\n",
        "\n",
        "# Labels\n",
        "plt.ylabel('Height (cm)')\n",
        "\n",
        "# Title\n",
        "plt.title('Student height violinplots')\n",
        "\n",
        "plt.show()"
      ]
    },
    {
      "cell_type": "markdown",
      "metadata": {
        "id": "aVZNsBLs2kl5"
      },
      "source": [
        "## Images"
      ]
    },
    {
      "cell_type": "markdown",
      "metadata": {
        "id": "8TRIvdYh2kl5"
      },
      "source": [
        "Images can be loaded and viewed using the `imread` and `imgshow` functions.\n",
        "\n",
        "__Task 4.4__: Load in the image called 'fetalbrain.jpeg' using `imread` function. Then plot it using the `imshow` function.\n",
        "\n",
        "See documentation: https://matplotlib.org/api/_as_gen/matplotlib.pyplot.imshow.html"
      ]
    },
    {
      "cell_type": "code",
      "execution_count": null,
      "metadata": {
        "id": "NV5yjIDC2kl5"
      },
      "outputs": [],
      "source": [
        "### Task 4.4\n",
        "\n",
        "# read image\n",
        "image = plt.imread('temp/fetalbrain.jpeg')\n",
        "\n",
        "# display image\n",
        "plt.imshow(image)\n",
        "\n",
        "plt.show()"
      ]
    },
    {
      "cell_type": "markdown",
      "metadata": {
        "id": "B0sZh20X2kl5"
      },
      "source": [
        "# Citation"
      ]
    },
    {
      "cell_type": "markdown",
      "metadata": {
        "id": "oBMeJoKX2kl5"
      },
      "source": [
        "John D. Hunter. Matplotlib: A 2D Graphics Environment, Computing in Science & Engineering, 9, 90-95 (2007), DOI:10.1109/MCSE.2007.55 (publisher link)"
      ]
    }
  ],
  "metadata": {
    "kernelspec": {
      "display_name": "Python 3 (ipykernel)",
      "language": "python",
      "name": "python3"
    },
    "language_info": {
      "codemirror_mode": {
        "name": "ipython",
        "version": 3
      },
      "file_extension": ".py",
      "mimetype": "text/x-python",
      "name": "python",
      "nbconvert_exporter": "python",
      "pygments_lexer": "ipython3",
      "version": "3.11.4"
    },
    "colab": {
      "provenance": []
    }
  },
  "nbformat": 4,
  "nbformat_minor": 0
}