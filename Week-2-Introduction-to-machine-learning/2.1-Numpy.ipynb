{
  "cells": [
    {
      "cell_type": "markdown",
      "metadata": {
        "id": "Usd7LXor2VhZ"
      },
      "source": [
        "# Advanced Python\n",
        "\n",
        "## Learning Objectives\n",
        "\n",
        "This week, we'll be diving deeper into Python. By the end of this week, we expect you to be familiar with the following modules:\n",
        "\n",
        "- **NumPy:** This is \"**numerical python**\". We will use NumPy to store vector and matrix data, and to perform linear algebra computaitons.\n",
        "\n",
        "- **Matplotlib:** We will use this for plotting and visualization of our data and results. Although we'll use Matplotlib primarily in the course, a few visualizations will be done with the Seaborn or Graphviz modules, which we'll encounter in later weeks.\n",
        "\n",
        "- **Pandas:** This is for handling tabular data. It provides similar functionality to a spreadsheet application such as Excel.\n",
        "\n",
        "- **Scikit-Learn:** This is the main module we'll use for machine learning. In the second half of the course, we'll introduce PyTorch for artificial neural networks. This week we'll just give a brief intro to its functionality, with many more features to be introduced in later weeks."
      ]
    },
    {
      "cell_type": "markdown",
      "metadata": {
        "id": "nVb2dL_x4_BD"
      },
      "source": [
        "# NumPy"
      ]
    },
    {
      "cell_type": "markdown",
      "metadata": {
        "id": "L3GuPHxP4_BF"
      },
      "source": [
        "Welcome to the fantastic world of NumPy! The name NumPy is short for \"Numeric Python\" or \"Numerical Python\", and it's a key building block for scientific programming in Python. It's open-source (which means it's free and everyone can contribute to it) and it's been designed with efficiency in mind.\n",
        "\n",
        "At the heart of NumPy is its **ability to create and handle data arrays (vectors)** with ease, and this includes **not just simple arrays, but matrices and even higher-dimensional tensors**! And the cherry on top? NumPy comes equipped with a host of **functions** to play around with these arrays, including some **advanced linear algebra** routines which are optimized for dealing with really, really **big matrices**.\n",
        "\n",
        "To get started with NumPy, we first need to import it into our notebook. This is like inviting NumPy into our coding party! We typically **abbreviate NumPy as `'np'`** to keep things short and sweet. Remember, we only need to do this once for the entire notebook. Now, let's roll out the red carpet for NumPy!"
      ]
    },
    {
      "cell_type": "markdown",
      "source": [
        "**Note: What is a tensor?**\n",
        "\n",
        "<img src='https://raw.githubusercontent.com/MaralAminpour/ML-BME-Course-UofA-Fall-2023/main/Week-2-Introduction-to-machine-learning/imgs/numpy-array.jpg' width=600px>\n",
        "\n",
        "\n",
        "A tensor is a mathematical object represented as **arrays of numbers arranged in a regular grid**, potentially of many dimensions. Tensors are a **generalization of scalars, vectors, and matrices to potentially higher dimensions**.\n",
        "\n",
        "Here is a breakdown of this hierarchy:\n",
        "\n",
        "**0-dimensional tensor:** A single number, also known as a **scalar**. It's a point in a space that contains only one element.\n",
        "\n",
        "**1-dimensional tensor:** **An array of numbers arranged in a straight line**, also known as a vector. It defines a point in a space that is linearly spanned by a set of basis vectors.\n",
        "\n",
        "**2-dimensional tensor:** An array of numbers arranged in a grid with rows and columns, also known as a **matrix**. It can define linear mappings from one vector space to another.\n",
        "\n",
        "**3-dimensional tensor (and more):** An array of numbers arranged in a multi-dimensional grid. These are often used to describe more complex relationships or data structures, and they become hard to visualize as the number of dimensions increase. **Can be imagined as a \"cube\" of numbers, where you have a matrix at every \"layer\", creating a three-dimensional grid.**\n",
        "\n",
        "**4-dimensional tensor:** It's a series of 3D tensors, forming a sort of \"**hypercube**\". Visualization becomes increasingly abstract at this level and above."
      ],
      "metadata": {
        "id": "05XKRHZ7dfzJ"
      }
    },
    {
      "cell_type": "code",
      "execution_count": 1,
      "metadata": {
        "id": "8d9jFEyo4_BG"
      },
      "outputs": [],
      "source": [
        "# Importing numpy\n",
        "import numpy as np"
      ]
    },
    {
      "cell_type": "markdown",
      "metadata": {
        "id": "9wvuLpxZ4_BS"
      },
      "source": [
        "## Starting with the basics"
      ]
    },
    {
      "cell_type": "markdown",
      "metadata": {
        "id": "eLMiwTn44_BS"
      },
      "source": [
        "###np.array() function\n",
        "\n",
        "Let's introduce you to NumPy arrays, they're a bit like the **neat and organized cousin of Python lists**. Just like a list, a NumPy array is represented by a bunch of values, a bit like a team huddled together. We can even **create a NumPy array from a list or a nested list**.\n",
        "\n",
        "However, NumPy arrays like to keep things **uniform**. This means that all of the values in an array need to be of the same type, kind of like wearing the same team jersey. Moreover, **all the rows and columns (and even higher dimensions) need to have the same length.** It's all about staying coordinated!\n",
        "\n",
        "You can create a NumPy array using the `np.array()` function and feeding it a list or nested list. Let's look at some examples:"
      ]
    },
    {
      "cell_type": "code",
      "execution_count": null,
      "metadata": {
        "id": "VFM2kYSX4_BS"
      },
      "outputs": [],
      "source": [
        "# Creating a NumPy array from a list\n",
        "my_array = np.array([1,2,3,4,5,6]) # constructing an array from a list\n",
        "print('My array \\n', my_array) # \\n is a newline\n",
        "\n",
        "# Creating a NumPy 2x6 matrix from 2D nested lists\n",
        "my_matrix = np.array([[1,2,3,4,5,6],[7,8,9,10,11,12]])\n",
        "print('My matrix \\n', my_matrix)"
      ]
    },
    {
      "cell_type": "markdown",
      "metadata": {
        "id": "uXwZZhyW4_BT"
      },
      "source": [
        "###Attributes of a NumPy array\n",
        "NumPy arrays are really quite expressive, just like an open book. Once you've created one, you can find out a lot about it using certain **attributes**.\n",
        "\n",
        "- **shape:** Think of this as the array's blueprint. It tells you the **length of each dimension**.\n",
        "\n",
        "- **size:** This is a quick **count of all elements in the array**. In other words, how many 'team members' the array has!\n",
        "\n",
        "- **ndim:** This tells you the **total number of dimensions in the array**, like asking, \"Is this a one-story house, or a multi-story one?\".\n",
        "\n",
        "- **dtype:** This tells you the data type of the array. It's like asking, \"What language does the team speak?\"\n",
        "\n",
        "With these attributes, we can get a pretty good snapshot of what our array looks like and how it's structured."
      ]
    },
    {
      "cell_type": "code",
      "execution_count": null,
      "metadata": {
        "id": "Oo836rEe4_BT"
      },
      "outputs": [],
      "source": [
        "# Print attributes of the array\n",
        "print('array shape:', my_array.shape)\n",
        "print('array size:', my_array.size)\n",
        "print('array total dimensions:', my_array.ndim)\n",
        "print('array data type:', my_array.dtype)\n",
        "\n",
        "# Print attributes of the matrix\n",
        "print('matrix shape:', my_matrix.shape)\n",
        "print('matrix size:', my_matrix.size)\n",
        "print('matrix total dimensions:', my_matrix.ndim)\n",
        "print('matrix data type:', my_matrix.dtype)"
      ]
    },
    {
      "cell_type": "markdown",
      "metadata": {
        "id": "CQI0YfZAUl-l"
      },
      "source": [
        "**Note:** **The shape attribute of a NumPy array returns a tuple representing the dimensions of the array** (here it is (6,)). For a 1-dimensional array, the shape will be a tuple with a single element, representing the length of the array along its only dimension. **The comma is necessary to indicate that the shape is a tuple with a single element, rather than just a parenthesized number**."
      ]
    },
    {
      "cell_type": "markdown",
      "metadata": {
        "id": "ayjnzCp34_BU"
      },
      "source": [
        "## Creating arrays"
      ]
    },
    {
      "cell_type": "markdown",
      "metadata": {
        "id": "V7jYBnA_4_BU"
      },
      "source": [
        "###Handy functions\n",
        "\n",
        "Did you know NumPy is also an excellent array architect? It comes equipped with a bunch of handy functions to whip up arrays for you in no time!\n",
        "\n",
        "- **zeros:** The `zeros` function is like a blank canvas; it gives you an **array filled with zeros**.\n",
        "\n",
        "- **ones:** `ones`, as the name suggests, creates **an array brimming with ones**.\n",
        "\n",
        "- **eye:** The `eye` function is a master at crafting **identity matrices**. ('I' for identity, get it?)\n",
        "\n",
        "- **empty:** Lastly, `empty` **creates an array of a certain shape, but leaves the values uninitialized, which means it's filled with some unknown values**. Make sure to initialize all the values before use!\n",
        "\n",
        "Also, keep in mind that NumPy likes to make arrays of **type float64** by default. But if you prefer a different type, no worries! You can specify the datatype (**`dtype`**) you want during initialization. Now isn't that handy?"
      ]
    },
    {
      "cell_type": "code",
      "execution_count": null,
      "metadata": {
        "id": "kYFroP7m4_BU"
      },
      "outputs": [],
      "source": [
        "# Creating a 3x3 matrix of all float zeros\n",
        "zeros = np.zeros((3,3))\n",
        "\n",
        "# Creating a 3x3 matrix of all integer ones\n",
        "ones = np.ones((3,3), dtype=np.int16)  # note how dtype can be specified\n",
        "\n",
        "# Creating a 3x3 identity matrix of float type\n",
        "identity = np.eye(3)\n",
        "\n",
        "# Creating a 3x3 empty matrix of unknown values\n",
        "empty = np.empty((3,3))\n",
        "\n",
        "# Here '\\n' forces a new line\n",
        "print('zeros:\\n', zeros)\n",
        "print('ones:\\n', ones)\n",
        "print('identity:\\n', identity)\n",
        "print('empty:\\n', empty)"
      ]
    },
    {
      "cell_type": "markdown",
      "metadata": {
        "id": "X_hbhUCD4_BU"
      },
      "source": [
        "###Array constructures (**arange** and **linspace**)\n",
        "\n",
        "Think of NumPy as your friendly neighbourhood sequence maker. It's got some nifty tools (array constructors) called `arange` and `linspace` that are pretty similar to the good old range function we use to create sequences of numbers.\n",
        "\n",
        "###arange function\n",
        "\n",
        "`arange` is the cool kid on the block. It's a lot like `range`, and works best **when you want a sequence of integers**. Call on `arange` **with one number N and it will happily give you an array with integers from 0 to N**. Note that (similarly to the Python range keyword), the **end number specified won't be included**. Want a specific start and end point or a particular interval? No problem! Just mention them and `arange` will get it done. Let's see it in action:"
      ]
    },
    {
      "cell_type": "code",
      "execution_count": null,
      "metadata": {
        "id": "u7HoGNeK4_BU"
      },
      "outputs": [],
      "source": [
        "# Integers from 0 to 4\n",
        "range1 = np.arange(5)\n",
        "\n",
        "# Integers from 5 to 9\n",
        "range2 = np.arange(5,10)\n",
        "\n",
        "# Integers from 50 to 75 in steps of 5 (note interval does not have to be an integer)\n",
        "range3 = np.arange(50,80,5)\n",
        "\n",
        "print('range1: \\n', range1)\n",
        "print('range2: \\n', range2)\n",
        "print('range3: \\n', range3)"
      ]
    },
    {
      "cell_type": "markdown",
      "metadata": {
        "id": "iLATcXPY4_BV"
      },
      "source": [
        "###np.linspace(start, end, num) function\n",
        "\n",
        "Did you know NumPy also has a great tool for when you're looking to find **evenly spaced numbers within a fixed range**? It's called linspace.\n",
        "\n",
        "It's like a precise ruler that creates equally spaced markers between your start and end points. All you need to do is call `np.linspace(start, end, num)`, where `num` is the **number of equally spaced samples you want**. It's super handy for when you need **precision and evenly distributed data**. Let's check"
      ]
    },
    {
      "cell_type": "code",
      "execution_count": null,
      "metadata": {
        "id": "Ec77bJNN4_BV",
        "colab": {
          "base_uri": "https://localhost:8080/"
        },
        "outputId": "d8597658-c2b2-471f-e0f9-749c67be74c3"
      },
      "outputs": [
        {
          "output_type": "stream",
          "name": "stdout",
          "text": [
            "integer range:\n",
            "[0 1 2 3 4 5 6 7 8 9]\n",
            "linearly space range:\n",
            "[0.   0.25 0.5  0.75 1.   1.25 1.5  1.75 2.  ]\n"
          ]
        }
      ],
      "source": [
        "# Create an array with all integers from 0 to 9\n",
        "integer_range = np.arange(10)\n",
        "\n",
        "# Create 9 linearly spaced numbers from 0 to 2\n",
        "linearly_spaced_seq = np.linspace(0, 2, 9)\n",
        "\n",
        "print('integer range:')\n",
        "print(integer_range)\n",
        "\n",
        "print('linearly space range:')\n",
        "print(linearly_spaced_seq)"
      ]
    },
    {
      "cell_type": "markdown",
      "metadata": {
        "id": "B0HgLUctsDdr"
      },
      "source": [
        "### meshgrid function\n",
        "\n",
        "Another function we'll use is [**meshgrid**](https://numpy.org/doc/stable/reference/generated/numpy.meshgrid.html). We'll use this function **to create a rectangular grid of points from two 1-dimensional vectors.** It's a little confusing: It will return two **2-dimensional matrices**, the first with x-component of each coordinate point and the second with the y-component.\n",
        "\n",
        "\n",
        "---\n",
        "<img src='https://raw.githubusercontent.com/MaralAminpour/ML-BME-Course-UofA-Fall-2023/main/Week-2-Introduction-to-machine-learning/imgs/numpy-meshgrid_2d-output-grid_full-explanation.png' width=500px>\n",
        "\n",
        "Figure from [Numpy Meshgrid, Explained](https://www.sharpsightlabs.com/blog/numpy-meshgrid/#meshgrid-examples)\n",
        "\n",
        "*   inputs are 1D Python lists.\n",
        "*   outputs are 2D Numpy arrays.\n",
        "*   the first array, [[1, 2, 3]], has been kept horizontal.\n",
        "*   the second array is structured vertically\n",
        "*   with 1D inputs, Numpy meshgrid takes the first input numbers and repeats them downward.\n",
        "*   It takes the second input numbers and repeats them across.\n",
        "\n",
        "** Picture this:** you have a bunch of points that you want to plot on a graph, but they are all in a straight line, just hanging out in one dimension. What if we could spread them out to play in a 2-dimensional space? Well, that's exactly what meshgrid helps us do!\n",
        "\n",
        "What it does is pretty cool - **it takes two lists of numbers (think of them like X and Y coordinates on a graph) and creates a grid of points that covers every possible combination of those numbers.** So, if one list is [1, 2, 3] and the other is [5, 6, 7], it will create points for (1,5), (1,6), (1,7), (2,5), (2,6)... you get the idea!\n",
        "\n",
        "**But here's where it gets a bit funky:** instead of giving us a nice list of pairs of coordinates, it gives us two separate grids – **one with just the X parts of each point and one with just the Y parts**. It might seem a bit odd at first, but it's actually super **useful for plotting graphs and working with 2D data in Python**!\n",
        "\n",
        "So, we'll be using meshgrid to take our one-dimensional arrays and turn them into a playground of 2D points that we can have all sorts of fun with! Let's get ready to start and play around with it!"
      ]
    },
    {
      "cell_type": "code",
      "execution_count": null,
      "metadata": {
        "id": "NnbeqXqCsDds"
      },
      "outputs": [],
      "source": [
        "x_grid, y_grid = np.meshgrid(linearly_spaced_seq, 2 * linearly_spaced_seq)\n",
        "\n",
        "print('x_grid =\\n', x_grid)\n",
        "print('y_grid =\\n', y_grid)"
      ]
    },
    {
      "cell_type": "markdown",
      "metadata": {
        "id": "LVbE_GCdsDds"
      },
      "source": [
        "So (x_grid[4,4], y_grid[4,4]) is the point in the center of our meshgrid."
      ]
    },
    {
      "cell_type": "code",
      "execution_count": null,
      "metadata": {
        "id": "jscJ_Lv9sDds",
        "colab": {
          "base_uri": "https://localhost:8080/"
        },
        "outputId": "0765f584-1498-4de6-8ed2-a70bdaf1bf89"
      },
      "outputs": [
        {
          "output_type": "stream",
          "name": "stdout",
          "text": [
            "(1.0, 2.0)\n"
          ]
        }
      ],
      "source": [
        "print((x_grid[4,4], y_grid[4,4]))"
      ]
    },
    {
      "cell_type": "markdown",
      "metadata": {
        "id": "z_FYPyLK4_BV"
      },
      "source": [
        "###submodule module\n",
        "And guess what? NumPy has yet another trick up its sleeve. It contains a dedicated **submodule** filled with random number generators! In NumPy, **a submodule refers to a module within the main NumPy module that organizes related functionalities into a single unit**\n",
        "\n",
        "These generators can create arrays filled with numbers that follow **specific random distributions**. It's like having your very own lottery machine, but with you setting the rules! Let's see how this works:\n",
        "\n",
        "Briefly, NumPy has a submodule containing a range of random number generators to create arrays that follow specific random distributions i.e."
      ]
    },
    {
      "cell_type": "code",
      "execution_count": null,
      "metadata": {
        "id": "zB097q_z4_BV",
        "colab": {
          "base_uri": "https://localhost:8080/"
        },
        "outputId": "960082d5-e964-4107-f6c0-6ada406989b4"
      },
      "outputs": [
        {
          "output_type": "stream",
          "name": "stdout",
          "text": [
            "random numbers in range [0,1]:\n",
            " [[0.30186414 0.28410266 0.0060322 ]\n",
            " [0.35422052 0.65569282 0.97571428]\n",
            " [0.18398356 0.09664151 0.63654402]]\n",
            "random integers in range [5,20]:\n",
            " [[ 6 13 14]\n",
            " [19 10 15]\n",
            " [ 5 13  7]]\n",
            "random floats drawn from standard normal distribution:\n",
            " [[ 1.53836394 -0.56619212  0.86282605]\n",
            " [ 0.01849352  1.17936426  0.61950557]\n",
            " [ 0.46835938  1.22112584 -0.03769308]]\n"
          ]
        }
      ],
      "source": [
        "# Create a random number generator\n",
        "rng = np.random.default_rng()\n",
        "\n",
        "# Creating matrices of shape (3,3)\n",
        "# with random numbers in range [0.0, 1.0)\n",
        "rand1 = rng.random((3,3))\n",
        "\n",
        "# Creating matrices of shape (3,3)\n",
        "# in range low (5) to high (20)\n",
        "rand2 = rng.integers(5,20,(3,3))\n",
        "\n",
        "# Sampling random floats from the standard normal distribution\n",
        "# Note how dimensions are defined as separate arguments\n",
        "rand3 = rng.standard_normal((3,3))\n",
        "\n",
        "print('random numbers in range [0,1]:\\n', rand1)\n",
        "print('random integers in range [5,20]:\\n', rand2)\n",
        "print('random floats drawn from standard normal distribution:\\n', rand3)"
      ]
    },
    {
      "cell_type": "markdown",
      "metadata": {
        "id": "OsiMLN7v4_BV"
      },
      "source": [
        "Now, let's get into the  nitty-gritty of how these random number generators work.\n",
        "\n",
        "- `np.random.default_rng()` Creates a new random number generator. You can explicitly set a random seed with the parameter `seed=n`, e.g. `seed=0`, **if you want the sequence of random numbers to be consistent; this is normally done only for testing or debugging code**.\n",
        "\n",
        "- `rng.random`, you give it a tuple defining the array size, and like a magician pulling numbers out of a hat, it creates a **matrix filled **with random variables, sampled from a **continuous uniform distribution** over the stated interval.\n",
        "\n",
        "- `rng.integers`, it's your own personal slot machine! You tell it the range (from low to high) and the size of your array, and voilà, it spits out an a**rray filled with random integers**. If you don't define high, it'll default to a range **from 0 to low.**\n",
        "\n",
        "- `rng.standard_normal`, it's like having your own bingo ball machine, but instead of numbers, it's drawing samples from the **standard normal distribution**.\n",
        "\n",
        "For even more magic tricks (or rather, examples), check out this link: https://numpy.org/doc/stable/reference/random/index.html"
      ]
    },
    {
      "cell_type": "markdown",
      "metadata": {
        "id": "ITWq9Zn-4_BV"
      },
      "source": [
        "## 4.3. Loading from files"
      ]
    },
    {
      "cell_type": "markdown",
      "metadata": {
        "id": "euVuNmHT4_BV"
      },
      "source": [
        "###loadtxt function\n",
        "During our journey together in this course, we'll frequently make use of **pre-generated array data that are stored in text files**.\n",
        "\n",
        "But, no worries, **we won't be manually loading data line by line with Python's standard functions**. That's just not our style! Instead, we'll be using NumPy's `loadtxt` function. (Or even more commonly we'll use pandas to load data files; see the notebook on pandas.)\n",
        "\n",
        "It's like having our own personal butler who swiftly and efficiently unloads these matrices and arrays from text files for us. So, we can save our energy for the fun stuff! Let's keep going, my friend!"
      ]
    },
    {
      "cell_type": "code",
      "execution_count": null,
      "metadata": {
        "id": "jKV_4vVNbyti"
      },
      "outputs": [],
      "source": [
        "import requests, os\n",
        "\n",
        "# Download data from GitHub\n",
        "def download_data(source, dest):\n",
        "    base_url = 'https://raw.githubusercontent.com/'\n",
        "    owner = 'SirTurtle'\n",
        "    repo = 'ML-BME-UofA-data'\n",
        "    branch = 'main'\n",
        "    url = '{}/{}/{}/{}/{}'.format(base_url, owner, repo, branch, source)\n",
        "    r = requests.get(url)\n",
        "    f = open(dest, 'wb')\n",
        "    f.write(r.content)\n",
        "    f.close()\n",
        "\n",
        "if not os.path.exists('temp'):\n",
        "   os.makedirs('temp')\n",
        "\n",
        "download_data('Week-1-Python-programming/data/matrix.txt', 'temp/matrix.txt')"
      ]
    },
    {
      "cell_type": "code",
      "execution_count": null,
      "metadata": {
        "id": "wp5jcfwX4_BW",
        "colab": {
          "base_uri": "https://localhost:8080/"
        },
        "outputId": "ca59ee07-3d93-477c-bd8e-37c73cbf3c26"
      },
      "outputs": [
        {
          "output_type": "stream",
          "name": "stdout",
          "text": [
            "[[-0.05117679 -0.62723348 -0.04125068 -1.29827409 -0.0655964  -1.00543125\n",
            "  -1.0831345   0.01155352  0.24766376  0.94264478]\n",
            " [-0.63283927 -0.03772665 -0.69827689 -0.1052899   0.61800768 -1.55363743\n",
            "  -0.34921845  1.1285718  -0.7752054  -1.85557745]\n",
            " [ 0.81062212 -1.25557838 -0.88833737  0.50138339 -0.44753964  0.7569975\n",
            "  -0.17064013  0.57047556 -0.32382926 -0.47187674]\n",
            " [-1.12529374 -0.23521637 -0.61800694 -0.56430634  0.4527447   0.03960641\n",
            "   0.47565486 -0.80647691 -1.0366784   0.24002272]\n",
            " [ 1.57188442  0.08403489  0.66643652 -0.24020642 -0.23311341  0.01853213\n",
            "  -1.46649328 -1.25634881 -0.98202555 -0.05224428]\n",
            " [ 1.84854548  1.43911413 -0.90022799  1.56078049 -0.20948503 -0.740694\n",
            "   0.2036504  -0.77925612  0.20793743 -0.02193292]\n",
            " [ 0.38801326  0.15731882 -0.62093488 -1.38791008 -0.36185926 -0.1668012\n",
            "   0.0717035   0.16855269  0.16238424  0.74886967]\n",
            " [ 1.02804171 -0.55283394 -0.66957722 -0.47886764  0.10912133  0.18720818\n",
            "   0.45316169 -1.40592268  0.15264444  0.14787058]\n",
            " [-0.39147033 -0.47606627  2.8759175   0.98070651  0.48039432 -0.26457708\n",
            "  -0.4842991   1.0623337  -0.98279693 -0.74622556]\n",
            " [-1.95312743 -0.60510157  0.21782785  1.12745207  0.17329847 -0.58097088\n",
            "  -1.64813519  0.02097916 -0.07204213  1.52646652]]\n"
          ]
        }
      ],
      "source": [
        "new_mat = np.loadtxt('temp/matrix.txt', delimiter=',') # note use of optional argument delimiter to load files with comma separated values\n",
        "print(new_mat)"
      ]
    },
    {
      "cell_type": "markdown",
      "metadata": {
        "id": "F1Ib6i-14_BW"
      },
      "source": [
        "###savetxt\n",
        "Got a matrix you need to keep for later? No problem at all! NumPy's got your back with `savetxt`. It neatly tucks away your matrices, defaulting to a **format where values are separated by spaces**.\n",
        "\n",
        "###save function (.npy format)\n",
        "But hey, maybe you're thinking, \"I want something even more efficient.\" Well, you're in luck! NumPy also offers the **save function**. This little helper stores your arrays in a **special `.npy` format**, which makes reading and writing arrays a breeze.\n",
        "\n",
        "And when you're ready to bring back those saved arrays, just call on `load`, and it'll retrieve them in a jiffy!\n",
        "\n",
        "**Summary: **\n",
        "In NumPy, you have several options for saving arrays to disk: using numpy.savetxt to **save an array to a text file** (usually with a .txt extension) and using numpy.save to **save an array to a binary file** in NumPy's .npy format."
      ]
    },
    {
      "cell_type": "code",
      "execution_count": null,
      "metadata": {
        "id": "wsk2jLun4_BW"
      },
      "outputs": [],
      "source": [
        "# Saving in npy format\n",
        "np.save('temp/matrix.npy', new_mat)\n",
        "\n",
        "# Loading in npy format\n",
        "new_mat2 = np.load('temp/matrix.npy')\n",
        "print(new_mat2)"
      ]
    },
    {
      "cell_type": "markdown",
      "metadata": {
        "id": "Gx24g8v94_BW"
      },
      "source": [
        "## Exercise 4: Creating NumPy arrays"
      ]
    },
    {
      "cell_type": "markdown",
      "metadata": {
        "id": "TKXz8gsN4_BW"
      },
      "source": [
        "Let's put what we've learnt so far into practice! Here are some fun exercises for you to try out:\n",
        "\n",
        "1) Get those fingers typing and create some arrays using the nested list notation.\n",
        "\n",
        "- Go ahead and make a NumPy array with 6 integer values using the function `np.array`.\n",
        "\n",
        "- Then, let's get to know your array a bit better. Print out its various attributes: `shape`, `size`, `ndim`, `dtype`.\n",
        "\n",
        "- Fancy a bit of variation? Repeat the process, but this time create an array with float values, and then another one with string values.\n",
        "\n",
        "- Feeling adventurous? Make a 2D array with dimensions 3x2, and print out its shape and dimensions.\n",
        "\n",
        "- And if you're up for a challenge, how about trying your hand at creating a 3D array?\n",
        "\n",
        "2) Time to play architect! Create a neat 3x4 array filled with zeros using the `np.zeros` function.\n",
        "\n",
        "3) Add a dash of unpredictability! Use `np.random.default_rng()` and `rng.integers` to create a 2x4 array filled with random integers in the range of 10 to 20.\n",
        "\n",
        "4) Lastly, let's go for a bit of order amidst the chaos. Create an array that neatly lines up every even number from 0 to 20.\n",
        "\n",
        "Take your time, and most importantly, have fun with it! Remember, practice makes perfect, and these exercises are a great way to reinforce what you've learned. Happy coding!"
      ]
    },
    {
      "cell_type": "code",
      "execution_count": null,
      "metadata": {
        "id": "o6aNzrPA4_BW"
      },
      "outputs": [],
      "source": [
        "# Exercise 4.1. To do - try creating arrays from 1D, 2D and 3D nested lists, print attributes\n",
        "\n",
        "\n",
        "# Exercise 4.2. Create a 3x4 array full of zeros\n",
        "\n",
        "\n",
        "# Exercise 4.3. Create a random 2x4 array of random integers in the range 10 to 20\n",
        "\n",
        "\n",
        "# Exercise 4.4. Create an array that returns every even number from 0 to 20\n",
        "\n"
      ]
    },
    {
      "cell_type": "markdown",
      "metadata": {
        "id": "oXmPUJDg4_BW"
      },
      "source": [
        "## Indexing, slicing and iterating"
      ]
    },
    {
      "cell_type": "markdown",
      "metadata": {
        "id": "CGL3A7M54_BW"
      },
      "source": [
        "Arrays, like lists are indexed from 0. **Just like lists, arrays in Python are also zero-indexed**, which means the counting begins from 0, not 1:"
      ]
    },
    {
      "cell_type": "code",
      "execution_count": null,
      "metadata": {
        "id": "HG5LQS-i4_BW"
      },
      "outputs": [],
      "source": [
        "my_array = np.array([1,2,3,4,5,5,6,7,9,10])\n",
        "\n",
        "print('Value of first item of array:', my_array[0])\n",
        "print('Value of last item of array:', my_array[-1])\n",
        "print('Value of penultimate index of array:', my_array[-2])"
      ]
    },
    {
      "cell_type": "markdown",
      "metadata": {
        "id": "kdpy1H2z4_BX"
      },
      "source": [
        " ### Slicing\n",
        "\n",
        " Slicing is a super useful feature in Python that we can also use with NumPy arrays. Remember, when we slice, **we need to specify a start index, an end index, and a step for each dimension of our array**. It's just like making precise cuts on a piece of cake (or any of your favorite treats!). Let's look at some examples:\n",
        "\n",
        "<img src='https://raw.githubusercontent.com/MaralAminpour/ML-BME-Course-UofA-Fall-2023/main/Week-2-Introduction-to-machine-learning/imgs/numpy_slicing.png' width=300px>\n",
        "\n",
        "**[:2,1:]**\n",
        "\n",
        "**:2** selects the first two rows of the array. It starts at the beginning and goes up to but does not include the second index (so it includes indices 0 and 1, corresponding to the first and second rows).\n",
        "\n",
        "**1:** selects all columns starting from column index 1 to the end of the array (so it includes indices 1,2. So, it includes all columns except the first one.\n",
        "\n",
        "**arr[2]**\n",
        "\n",
        "arr[0] would refer to the first row, arr[1] would refer to the second row, and arr[2] refers to the third row\n",
        "\n",
        "In np.shape output, (3,) is a tuple indicating that the result array is a 1-dimensional array with 3 elements. The comma is necessary to indicate that this is a tuple with one element, rather than just a parenthesized number.\n",
        "\n",
        "**arr[2,:]**\n",
        "\n",
        "In this case, 2 specifies that we are accessing the third row, and : specifies that we are taking all columns in that row. So, this will give us the entire third row of the array.\n",
        "\n",
        "The slicing arr[2:,:] indicates that you are selecting all rows starting from the third row (index 2) up to the end of the array, and all columns. This kind of slicing will return a 2D array if there are rows after the third one; otherwise, it would return a 2D array with just one row, i.e., the third row itself.\n",
        "\n",
        "**[[0,2],:]**\n",
        "\n",
        "you are asking NumPy to return the rows at indices 0 and 2, along with all the columns from arr. In other words, you are selecting the first and third rows from the array, and taking all the columns in these rows."
      ]
    },
    {
      "cell_type": "code",
      "execution_count": null,
      "metadata": {
        "hidePrompt": true,
        "id": "rtd_zQ_i4_BX",
        "colab": {
          "base_uri": "https://localhost:8080/"
        },
        "outputId": "189bf7aa-3989-441a-c14a-c3200d283b09"
      },
      "outputs": [
        {
          "output_type": "stream",
          "name": "stdout",
          "text": [
            "my_matrix =\n",
            " [[ 1  2  3  4  5  6]\n",
            " [ 7  8  9 10 11 12]]\n",
            "the first row: [1 2 3 4 5 6]\n",
            "the fourth column (and all rows) [ 4 10]\n",
            "the sub-matrix given by columns with indices = 1 and 2:\n",
            "[[2 3]\n",
            " [8 9]]\n"
          ]
        }
      ],
      "source": [
        "my_matrix = np.array([[1,2,3,4,5,6],[7,8,9,10,11,12]]) # redefined from above\n",
        "print('my_matrix =\\n', my_matrix)\n",
        "\n",
        "# to return a whole row (with all columns); specifically the first row\n",
        "print('the first row:', my_matrix[0,:])\n",
        "\n",
        "# to return a whole column (with all rows); specifically the fourth column (indexed by 3)\n",
        "print('the fourth column (and all rows)', my_matrix[:,3])\n",
        "\n",
        "print('the sub-matrix given by columns with indices = 1 and 2:')\n",
        "# this returns all rows with ':' and then the columns corresponding to the 2nd and 3rd columns\n",
        "# as the slice does not include the last index in the range (similar to range and arange))\n",
        "print(my_matrix[:,1:3])"
      ]
    },
    {
      "cell_type": "markdown",
      "metadata": {
        "id": "B_MRAe8a4_BX"
      },
      "source": [
        "### Integer indexing\n",
        "\n",
        "When you're slicing an array, **it's good to remember that the last index isn't included.** So, if you want everything from a particular dimension, you can use **`:`** all on its own. That'll give you all the indices for that dimension.\n",
        "\n",
        "Now, let's chat about **integer indexing**. This is a neat trick that **lets you grab any values you want from your array**, no matter where they are. It's like picking out all your favorite candies from a mixed bag. Just **provide a list of the indices you're after**, and you're good to go! Check it out:\n",
        "\n",
        "In summary, similarly to list slicing the range is non inclusive of the last index in the range. Use of ```:``` on its own will return all indices (columns/rows etc.) for that dimension of the array.\n",
        "\n",
        "While slicing extracts sub-matrices in fixed ranges, integer indexing (using lists) allows arbitrary values to be selected from the array:"
      ]
    },
    {
      "cell_type": "code",
      "execution_count": null,
      "metadata": {
        "id": "7-jU19df4_BX",
        "colab": {
          "base_uri": "https://localhost:8080/"
        },
        "outputId": "c417d57b-aa8e-4ebd-ac73-454473704286"
      },
      "outputs": [
        {
          "output_type": "stream",
          "name": "stdout",
          "text": [
            "row 1 and columns with indices = 1, 3, 5: [2 4 6]\n"
          ]
        }
      ],
      "source": [
        "# This slice will extract one row (corresponding to index 0), and 3 columns (corresponding to indices 1, 3 and 5)\n",
        "print('row 1 and columns with indices = 1, 3, 5:', my_matrix[0,[1,3,5]])"
      ]
    },
    {
      "cell_type": "markdown",
      "metadata": {
        "id": "ZtjvQpI44_BX"
      },
      "source": [
        "##boolean indexing\n",
        "\n",
        "**It is also possible to return all indices from an array, whose values meet certain boolean conditions** e.g.\n",
        "\n",
        "This is one of the cool things about NumPy arrays - you can use conditions to **pick out just the values you want**. Imagine you're trying to find all the numbers in your array that meet a certain condition - say, all the numbers greater than 2. You can do that using something called **'boolean indexing'**. It's like having a treasure map that only shows you the spots where the treasure is! Here's an example of how it works:\n",
        "\n",
        "<img src='https://raw.githubusercontent.com/MaralAminpour/ML-BME-Course-UofA-Fall-2023/main/Week-2-Introduction-to-machine-learning/imgs/boolean_slicing.png' width=400px>"
      ]
    },
    {
      "cell_type": "code",
      "execution_count": null,
      "metadata": {
        "id": "Oa2boe6c4_BX",
        "colab": {
          "base_uri": "https://localhost:8080/"
        },
        "outputId": "441ddf70-44f1-471c-df83-81f74e812f41"
      },
      "outputs": [
        {
          "output_type": "stream",
          "name": "stdout",
          "text": [
            "Return all indices correponding to values from my_matrix that are > 4:\n",
            "[[False False False False  True  True]\n",
            " [ True  True  True  True  True  True]]\n"
          ]
        }
      ],
      "source": [
        "print('Return all indices correponding to values from my_matrix that are > 4:')\n",
        "boolean_cond = (my_matrix >= 4)\n",
        "print(boolean_cond)"
      ]
    },
    {
      "cell_type": "markdown",
      "metadata": {
        "id": "Ezk5VXnu4_BX"
      },
      "source": [
        "### Masking using boolean indexing\n",
        "\n",
        "This can be useful when for example **the goal is to mask one array using the values of another.**\n",
        "\n",
        "Think of it like using one array as a stencil to pick out just the bits you want from another array. Let's say you have **two arrays of the same shape and you want to replace some values in the first one based on conditions from the second one**. You can totally do that with NumPy arrays! You just need to use the second array to create a mask and then apply it to the first one. It's like using a sieve to filter out the grains of sand you don't want. Let's see it in action!"
      ]
    },
    {
      "cell_type": "code",
      "execution_count": null,
      "metadata": {
        "id": "PJHtuHcA4_BX",
        "colab": {
          "base_uri": "https://localhost:8080/"
        },
        "outputId": "2a98fcc3-bd9d-4c0b-afb3-dd9afa073fc5"
      },
      "outputs": [
        {
          "output_type": "stream",
          "name": "stdout",
          "text": [
            "[[11 12 13 14 15 16]\n",
            " [17 18 19 20 21 22]]\n",
            "[15 16 17 18 19 20 21 22]\n"
          ]
        }
      ],
      "source": [
        "my_matrix2 = np.array([[11,12,13,14,15,16],[17,18,19,20,21,22]])\n",
        "print(my_matrix2)\n",
        "\n",
        "# This will mask my_matrix2 to return the values at indices where boolean_cond == True,\n",
        "# where boolean_cond is the boolean matrix we calculated early using my_matrix > 4\n",
        "print(my_matrix2[boolean_cond])\n",
        "# Note that the result is an array, without the same shape as my_matrix2"
      ]
    },
    {
      "cell_type": "markdown",
      "metadata": {
        "id": "W51hGG9f4_BX"
      },
      "source": [
        "## Changing the shape of an array (flatten and ravel functions)"
      ]
    },
    {
      "cell_type": "markdown",
      "metadata": {
        "id": "CqtU38a34_BX"
      },
      "source": [
        "In some occasions over the course, it will become necessary to **reshape or flatten an array before performing operations on it**. There are several built-in functions in NumPy for this purpose like ```flatten``` or ```ravel``` for **squashing our arrays into a single dimension**, and **we can reshape them to fit our needs** using functions like ```reshape``` or ```resize```. Now, let's dive deeper into what each of these functions can do for us!\n",
        "\n",
        "### Flattening matrices/tensors into one long vector\n",
        "\n",
        "The functions (```ravel``` and ```flatten```) seem to do the same thing on the surface, but there's a key difference between them. When `flatten` reshapes an array, **it creates a brand new copy in your computer's memory**. On the other hand, `ravel` is like a thrifty tailor - **it reshapes the array but doesn't use any extra memory** because it keeps referring back to the original array. While this makes `ravel`faster and more memory-efficient than `flatten`, it could also lead to some unexpected results or may result in undesired behaviour, as you'll see in the example below.\n",
        "\n",
        "When it comes to unraveling an array using the `ravel` and `flatten` functions in NumPy, you have the option to specify the order in which the elements are flattened. The **\"order\" parameter** allows you to choose between three options: \"C\" (default), \"F\", and \"A\".\n",
        "\n",
        "- \"C\" represents the **row-major ordering**, which is the same as how it would be done in languages like C/C++. It flattens the array in a way where the row index varies slowest, and the column index varies quickest.\n",
        "\n",
        "- \"F\" stands for **Fortran column-major ordering**. It flattens the array in a column-major fashion, where the **column index varies slowest and the row index varies quickest**.\n",
        "\n",
        "- \"A\" is a special option that **preserves the original ordering style** of the array. This can be either C or Fortran style, **depending on how the array was originally created.** The ordering style is saved as an attribute when the array is first created.\n",
        "\n",
        "By specifying the order parameter, you have the flexibility to choose how you want the array to be flattened.\n",
        "\n",
        "**Note:** The term \"unraveling\" in the context of arrays refers to the process of **transforming a multidimensional array into a one-dimensional array**. It essentially means flattening the array, collapsing all the dimensions into a single sequence of elements. This can be useful when you want to work with the array in a linear fashion or when **you need to apply certain operations that expect a one-dimensional input**. Unraveling allows you to access each element of the array individually, regardless of its original shape or dimensions."
      ]
    },
    {
      "cell_type": "markdown",
      "source": [
        "<img src='https://raw.githubusercontent.com/MaralAminpour/ML-BME-Course-UofA-Fall-2023/main/Week-2-Introduction-to-machine-learning/imgs/matrix_A.png' width=200px>\n",
        "\n"
      ],
      "metadata": {
        "id": "riNbuF30Jdts"
      }
    },
    {
      "cell_type": "markdown",
      "source": [
        "<img src='https://raw.githubusercontent.com/MaralAminpour/ML-BME-Course-UofA-Fall-2023/main/Week-2-Introduction-to-machine-learning/imgs/flatten.png' width=500px>\n"
      ],
      "metadata": {
        "id": "R4lhHw38N7t2"
      }
    },
    {
      "cell_type": "code",
      "execution_count": null,
      "metadata": {
        "id": "Z5MHtQvy4_Bc"
      },
      "outputs": [],
      "source": [
        "A = np.array([[1,2,3],[4,5,6],[7,8,9],[10,11,12]])\n",
        "print(A)\n",
        "Flattened_X = A.flatten()\n",
        "print('the result of flattening A', Flattened_X)\n",
        "print('flattening A with row-major ordering', A.flatten(order=\"C\"))\n",
        "print('flattening A with column-major ordering', A.flatten(order=\"F\"))\n",
        "print('flattening A preserving the C/Fortran style of the original array', A.flatten(order=\"A\")) # in this case it will be C ordering)"
      ]
    },
    {
      "cell_type": "markdown",
      "metadata": {
        "id": "AX1XylZM4_Bc"
      },
      "source": [
        "###Difference between flatten and ravel\n",
        "\n",
        "This behaviour is true for both ```ravel``` and ```flatten.``` The important difference is that if we subsequently edit the values of ```Flattened_X``` (the output of the ```flatten()``` operation) the original array ```A``` remains unchanged. On the other hand, this is not the case with **```ravel```, which continues to point to the location of ```A``` in memory**. Thus it's important to carefully consider which behaviour is desired.\n",
        "\n",
        "While both `ravel` and `flatten` functions in NumPy offer the same flattening behavior, there is an important distinction in how they handle the **memory** and the **relationship with the original array**.\n",
        "\n",
        "When you use flatten, it creates a new array `Flattened_X `that is a complete copy of the original array `A`. Any modifications made to `Flattened_X` won't affect the values in `A`, as they are separate entities in memory.\n",
        "\n",
        "On the other hand, `ravel` doesn't create a copy of the array. It returns a new array that shares the same memory location as `A`. This means that any modifications made to ravel output will also affect the values in `A`, as they are essentially pointing to the same memory location.\n",
        "\n",
        "Therefore, it's crucial to consider this difference and choose the appropriate function based on whether you want the modifications to propagate back to the original array or not. It gives you the flexibility to decide which behavior aligns with your specific requirements."
      ]
    },
    {
      "cell_type": "code",
      "execution_count": null,
      "metadata": {
        "id": "AzR_Me0d4_Bc"
      },
      "outputs": [],
      "source": [
        "Flattened_X[0] = 100\n",
        "print('We see that after flatten() any changes to the new array \\n {} do not impact A \\n {}'.format(Flattened_X,A))\n",
        "\n",
        "B = A.ravel()\n",
        "B[0] = 200\n",
        "\n",
        "print('On the other hand, changing the output of ravel (B): \\n {} does change A \\n {} this is because they point to the same location in memory'.format(B,A))"
      ]
    },
    {
      "cell_type": "markdown",
      "metadata": {
        "id": "b51E6imc4_Bd"
      },
      "source": [
        "### General reshaping (reshape and resize)\n",
        "\n",
        "Alternatively, **arrays can be reshaped to generic sizes** using the ```reshape``` and ```resize``` functions. **Here reshape creates a copy of the array, whereas resize modifies the original array**\n",
        "\n",
        "When it comes to reshaping arrays to different sizes, NumPy provides us with two useful functions: ```reshape``` and ```resize```.\n",
        "\n",
        "**difference between reshape and resize**\n",
        "\n",
        "The `reshape` function allows you **to create a new array with a different shape while keeping the values of the original array intact.** It's like taking a piece of clay and molding it into a new shape, without altering the clay itself.\n",
        "\n",
        "On the other hand, `resize` **modifies the original array itself to the desired shape.** It's like using a pair of scissors to cut a piece of fabric into a new shape.\n",
        "\n",
        "**So, depending on whether you want to create a new array with a different shape or modify the original array, you can choose between reshape or resize accordingly.** They give you the flexibility to manipulate arrays in different ways to suit your needs.\n",
        "\n",
        "<img src='https://raw.githubusercontent.com/MaralAminpour/ML-BME-Course-UofA-Fall-2023/main/Week-2-Introduction-to-machine-learning/imgs/resize.png' width=500px>\n"
      ]
    },
    {
      "cell_type": "code",
      "execution_count": null,
      "metadata": {
        "id": "m-1COQmQ4_Bd"
      },
      "outputs": [],
      "source": [
        "A = np.array([[1,2,3],[4,5,6],[7,8,9],[10,11,12]])\n",
        "\n",
        "new_A = A.reshape((2,6))\n",
        "print('original shape: {}; new shape {} - note A retains its original shape'.format(A.shape,new_A.shape) )\n",
        "print(new_A)\n",
        "\n",
        "# Now resize the original array\n",
        "A.resize((2,6))\n",
        "print('note following resize the original array shape is changed', A.shape)"
      ]
    },
    {
      "cell_type": "markdown",
      "metadata": {
        "id": "EWTuWyIxsDdz"
      },
      "source": [
        "The numbers are resampled to the new shape following the order the array is stored in memory (generally C-style)."
      ]
    },
    {
      "cell_type": "markdown",
      "metadata": {
        "id": "IGQrI0xV4_Bd"
      },
      "source": [
        "### Concatenation (`np.concatenate`, `np.vstack`, or `np.hstack` functions)\n",
        "\n",
        "When concatenating arrays in NumPy, **you can create new arrays by combining two arrays along compatible dimensions**. This can be done using functions like `np.concatenate`, `np.vstack`, or `np.hstack`.\n",
        "\n",
        "The arrays to be concatenated should have **compatible dimensions along the axis you want to concatenate**. For example, if you have two 1D arrays, you can concatenate them to create a larger 1D array. If you have two 2D arrays, you can concatenate them along either the rows (**vertical concatenation**) or the columns (**horizontal concatenation**).\n",
        "\n",
        "The order in which the arrays are concatenated follows **the order in which they are provided as arguments** to the concatenation function. It's like stacking building blocks one on top of the other or side by side to create a larger structure.\n",
        "\n",
        "By using these concatenation functions, you can create new arrays by combining existing arrays in various ways to suit your needs.\n",
        "\n",
        "It is also possible to create new arrays by concatenating two arrays, **with (at least one) compatible dimension**:\n",
        "\n",
        "<img src='https://raw.githubusercontent.com/MaralAminpour/ML-BME-Course-UofA-Fall-2023/main/Week-2-Introduction-to-machine-learning/imgs/concatenate.png' width=700px >\n"
      ]
    },
    {
      "cell_type": "code",
      "execution_count": null,
      "metadata": {
        "id": "xubsGyRA4_Bd"
      },
      "outputs": [],
      "source": [
        "rng = np.random.default_rng()\n",
        "B = rng.integers(100, size=(2,6))\n",
        "A_and_B = np.concatenate((A,B),axis=1) # first argument is a tuple containing arrays to be concatenated in order\n",
        "print(A)\n",
        "print(B)\n",
        "print(A_and_B)\n",
        "print('shape of concatenated array', A_and_B.shape)"
      ]
    },
    {
      "cell_type": "markdown",
      "metadata": {
        "id": "HxRzPH2m4_Bd"
      },
      "source": [
        "**To do**\n",
        "\n",
        "What happens when you change the axis of concatenation to 0? (When you change the axis of concatenation to 0, it means you want to concatenate the arrays along the vertical axis or the rows. )"
      ]
    },
    {
      "cell_type": "code",
      "execution_count": null,
      "metadata": {
        "id": "r501jR8j2Vhr"
      },
      "outputs": [],
      "source": [
        "# To do"
      ]
    },
    {
      "cell_type": "markdown",
      "metadata": {
        "id": "0e8Dvl3b4_Bd"
      },
      "source": [
        "## Broadcasting"
      ]
    },
    {
      "cell_type": "markdown",
      "metadata": {
        "id": "NRJ1cY5K4_Bd"
      },
      "source": [
        "Broadcasting is like a magical wand that allows us to **perform operations on arrays of different sizes, as long as their dimensions match or can be adjusted to match**. It's like having a superhero power that brings arrays of different shapes into alignment!\n",
        "\n",
        "Here's how it works: Let's say we have two arrays, one with a **shape of (3, 4)** and the other with a **shape of (1, 4)**. These arrays have different dimensions, but broadcasting comes to the rescue!\n",
        "\n",
        "First, **broadcasting adds extra dimensions to the smaller array to match the dimensionality of the larger array**. In this case, the smaller array will be transformed from a length-4 vector to a 1x4 matrix, making it compatible with the larger array.\n",
        "\n",
        "**Next, the smaller array is copied along the new dimension as many times as needed to match the size of the larger array.** In our example, the smaller array will be repeated **3 times along the row dimension** until it has the same shape as the larger array.\n",
        "\n",
        "Now, with both arrays having the same shape, we can perform operations on them together. We can sum the values of the corresponding elements, thanks to the broadcasting magic!\n",
        "\n",
        "**So, broadcasting allows us to seamlessly combine arrays of different sizes, as long as their dimensions can be aligned.** It's like bringing puzzle pieces together, making them fit perfectly for our operations.\n",
        "\n",
        "What this specifically means is if you have two arrays with different numbers of dimensions (e.g. a vector and a matrix), extra dimensions will be added to the smaller array to give it the same dimensionality e.g. and **$1 \\times n $ matrix rather than a length $n$ vector - shape (,$n$).**\n",
        "\n",
        "In this specific example, broadcasting allows us to sum a (3, 4) shaped matrix with a (1, 4) shaped array. The smaller array is broadcasted along the row dimension, copying it three times to match the shape of the matrix. This allows us to perform the summation effortlessly.\n",
        "\n",
        "Keep in mind that broadcasting can be a powerful tool, but it's important to ensure that the dimensions align properly for the desired operations.\n",
        "\n",
        "<img src='https://raw.githubusercontent.com/MaralAminpour/ML-BME-Course-UofA-Fall-2023/main/Week-2-Introduction-to-machine-learning/imgs/broadcasting.png' width=700px>\n"
      ]
    },
    {
      "cell_type": "code",
      "execution_count": null,
      "metadata": {
        "id": "ec1QD5tH4_Bd"
      },
      "outputs": [],
      "source": [
        "# We will add the vector v to each row of the matrix x,\n",
        "# storing the result in the matrix y\n",
        "x = np.array([[1, 2, 3, 4], [5, 6, 7, 8], [9, 10, 11,12]])\n",
        "print(x)\n",
        "\n",
        "v = np.array([10,20,30,40])\n",
        "print(v)\n",
        "\n",
        "y = x + v\n",
        "print(y)"
      ]
    },
    {
      "cell_type": "markdown",
      "metadata": {
        "id": "YESAjtuC4_Bd"
      },
      "source": [
        "## Exercise 5: Slicing, Reshaping and broadcasting\n",
        "\n",
        "<img src='https://raw.githubusercontent.com/MaralAminpour/ML-BME-Course-UofA-Fall-2023/main/Week-2-Introduction-to-machine-learning/imgs/numpy-vector-matrix-3d-matrix.width-1200.jpg' width=700px>\n",
        "\n",
        "Let's have some fun with the 3D array called X! Here are some exciting tasks for you to try:\n",
        "\n",
        "1. Slice the third row and the second and fourth columns from array X.\n",
        "2. Reshape X into a (6, 4) matrix.\n",
        "3. Let your imagination run wild! Explore different reshaping options for array 5. (What other configuration can you reshape X into?)\n",
        "6. Create a matrix of ones with the same size as X and concatenate it with X.\n",
        "7. Get creative! Create a new array of size (1, 4, 1) and add it to X using broadcasting.\n",
        "8. Challenge yourself! Create a (4, 6) array and add a row vector to it using broadcasting.\n",
        "\n",
        "Ready for the adventure? Let's go!"
      ]
    },
    {
      "cell_type": "code",
      "execution_count": null,
      "metadata": {
        "id": "WTu25ldZ4_Bd"
      },
      "outputs": [],
      "source": [
        "X = np.array([[0, 1, 2],[3,4,5],[6,7,8], [9,10,11], [12,13,14], [15,16,17],[18,19,20],[21,22,23]])\n",
        "\n",
        "# Print X shape\n",
        "\n",
        "\n",
        "# 5.1 slice the third and sixth row, with the second column to return a 2 x 1 array\n",
        "\n",
        "\n",
        "# 5.2. reshape X into a (6,4) matrix\n",
        "\n",
        "\n",
        "# 5.3 What other configuration can you reshape X into?\n",
        "\n",
        "\n",
        "# 5.4 Create a matrix of ones in the same size as X; concatenate with X first on rows then columns\n",
        "\n",
        "\n",
        "# 5.5 Create a new array of size (1,3) add it to X using broadcasting\n",
        "\n",
        "\n",
        "# 5.6 Create an array of size (4,6) and add a row vector to it by broadcasting\n",
        "\n"
      ]
    },
    {
      "cell_type": "markdown",
      "metadata": {
        "id": "LPbeVpID4_Be"
      },
      "source": [
        "## Array Operations"
      ]
    },
    {
      "cell_type": "markdown",
      "metadata": {
        "id": "OwdbQJTS4_Be"
      },
      "source": [
        "### add, subtract, multiply, divide functions\n",
        "\n",
        "NumPy is like a magical toolbox filled with incredible functions for operating on arrays. In this section, we'll explore some of the most commonly used NumPy functions that will come in handy throughout this course.\n",
        "\n",
        "Let's start with a few examples of elementwise operations. **Just like the familiar operators (`+, -, *, /`), NumPy provides equivalent functions (`add, subtract, multiply, divide`) for performing elementwise operations on arrays**. The beauty of NumPy is that it allows us to unleash the power of these operations on arrays effortlessly.\n",
        "\n",
        "###Elementwise operations with scalars\n",
        "\n",
        "Not only that, but NumPy also lets us perform **elementwise operations with scalars**, thanks to its broadcasting magic! It's like having a magic wand that **extends the scalar value to match the size of the array**, allowing us to perform the operation seamlessly. Let's take a look at some examples to bring this to life:\n",
        "\n",
        "Let's start with some examples of elementwise operations. For these operators (```+,-,*,/``` etc.) we have equivalent NumPy functions (```add,subtract,multiply,divide```). Elementwise operations with scalars are also possible (essentially through broadcasting); see examples:"
      ]
    },
    {
      "cell_type": "code",
      "execution_count": null,
      "metadata": {
        "id": "TRbs-Zpj4_Be"
      },
      "outputs": [],
      "source": [
        "# Define arrays of floats; ensures results of operations are also expressed as floats\n",
        "scalar = 5\n",
        "A = np.array([[1,2],[3,4]], dtype=np.float64)\n",
        "B = np.array([[10,20],[30,40]], dtype=np.float64)\n",
        "\n",
        "# Elementwise sum; can use + or add\n",
        "print('Elementwise sum between array {} and scalar {} using + : {}'.format(A,scalar,A + scalar))\n",
        "print('Elementwise sum using + :')\n",
        "print(A + B)\n",
        "print('Elementwise sum using np.add:')\n",
        "print(np.add(A, B))\n",
        "\n",
        "# Elementwise difference; can use - or subtract\n",
        "print('Elementwise subtract using - :')\n",
        "print(A - B)\n",
        "print('Elementwise sum using np.subtract :')\n",
        "print(np.subtract(A, B))\n",
        "\n",
        "# Elementwise product; can use * or multiple\n",
        "print('Elementwise multiply using * :')\n",
        "print(A * B)\n",
        "print('Elementwise multiple using np.multiply :')\n",
        "print(np.multiply(A, B))\n",
        "\n",
        "# Elementwise division; can use / or divide\n",
        "print('Elementwise division using / :')\n",
        "print(A/B)\n",
        "print('Elementwise division using np.divide :')\n",
        "print(np.divide(A,B))"
      ]
    },
    {
      "cell_type": "markdown",
      "metadata": {
        "id": "NN0rECYp4_Be"
      },
      "source": [
        "###**dot product calculation**: np.inner, np.dot, and np.matmul\n",
        "\n",
        "In the vast world of NumPy, you'll discover a **treasure trove of matrix operations** waiting to be explored. However, it's essential to understand how these operations differ when working with vectors, matrices, and higher dimensional tensors.\n",
        "\n",
        "**When it comes to 1D arrays, NumPy provides three distinct functions for calculating the dot product**: `np.inner`, `np.dot`, and `np.matmul`. These functions come into play when we want to compute the **dot product of two vectors**. However, as we venture into higher dimensions, their behaviors begin to diverge.\n",
        "\n",
        "So, grab your adventurer's hat and get ready to uncover the secrets of NumPy's matrix operations!\n",
        "\n",
        "<img src='https://raw.githubusercontent.com/MaralAminpour/ML-BME-Course-UofA-Fall-2023/main/Week-2-Introduction-to-machine-learning/imgs/products.png' width=700px>\n",
        "\n",
        "**`np.inner`**: This function calculates the sum product of two matrices. In the context of two matrices A and B, np.inner estimates the matrix product $\\textbf{A}\\textbf{B}^T$. It multiplies and sums corresponding elements from the rows of A and the rows of B.\n",
        "\n",
        "**`np.dot`** and **`np.matmul`**: These functions estimate the **literal matrix product of two matrices**, A and B. They multiply and sum elements from the **rows of A and the columns of B**. For two matrices A and B, `np.dot` and `np.matmul` both estimate the matrix product AB.\n",
        "\n",
        "To put it simply, `np.inner` performs the matrix product by multiplying and summing corresponding elements from the rows of A and B, while `np.dot` and `np.matmul` perform the matrix product by **multiplying and summing elements from the rows of A and the columns of B**.\n",
        "\n",
        "It's crucial to select the appropriate function based on the desired matrix product and the dimensionality of the arrays involved. By understanding the nuances of these functions, you can navigate the world of matrix operations with confidence and precision.\n",
        "\n",
        "So, grab your adventurer's hat and get ready to uncover the secrets of NumPy's matrix operations!"
      ]
    },
    {
      "cell_type": "code",
      "execution_count": null,
      "metadata": {
        "id": "T4UM7CKx4_Be",
        "scrolled": true
      },
      "outputs": [],
      "source": [
        "a = np.array([1,2,3])\n",
        "b = np.array([0,1,0])\n",
        "\n",
        "# perform inner product\n",
        "# for vectors all three of these method return\n",
        "# [a1b1,a2b2,a3b3]\n",
        "print('inner product of vectors :')\n",
        "print(np.inner(a,b))\n",
        "\n",
        "print('dot product of vectors :')\n",
        "print(np.dot(a,b))\n",
        "\n",
        "print('matrix product of vectors :')\n",
        "print(np.matmul(a,b))\n",
        "\n",
        "# For 2D arrays inner returns the sum product\n",
        "print('For matrices \\n A = {} \\n B = {} \\n inner product = {} '.format(A,B,np.inner(A,B)))\n",
        "\n",
        "# whereas matmul and dot return matrix product\n",
        "print('For matrices dot product =\\n{} '.format(np.dot(A,B)))\n",
        "print('For matrices matrix product =\\n{} '.format(np.matmul(A,B)))"
      ]
    },
    {
      "cell_type": "markdown",
      "source": [
        "**np.inner**\n",
        "\n",
        "Given two 1-D arrays \\( \\vec{a} \\) and \\( \\vec{b} \\), represented as:\n",
        "\n",
        "$$\n",
        "\\vec{a} = \\begin{bmatrix} a_1 & a_2 & \\ldots & a_n \\end{bmatrix}, \\quad \\vec{b} = \\begin{bmatrix} b_1 & b_2 & \\ldots & b_n \\end{bmatrix}\n",
        "$$\n",
        "\n",
        "The `numpy.inner` function computes the inner product of the two arrays, which is defined as:\n",
        "\n",
        "$$\n",
        "\\text{result} = \\sum_{i=1}^{n} a_i b_i\n",
        "$$\n",
        "\n",
        "In the case of higher-dimensional arrays, the inner product is computed over the last dimension of the arrays. For instance, if \\( A \\) is an \\( m \\times n \\) array and \\( B \\) is an \\( n \\times p \\) array, represented as:\n",
        "\n",
        "$$\n",
        "A = \\begin{bmatrix}\n",
        "a_{11} & a_{12} & \\ldots & a_{1n} \\\\\n",
        "a_{21} & a_{22} & \\ldots & a_{2n} \\\\\n",
        "\\vdots & \\vdots & \\ddots & \\vdots \\\\\n",
        "a_{m1} & a_{m2} & \\ldots & a_{mn}\n",
        "\\end{bmatrix},\n",
        "\\quad\n",
        "B = \\begin{bmatrix}\n",
        "b_{11} & b_{12} & \\ldots & b_{1p} \\\\\n",
        "b_{21} & b_{22} & \\ldots & b_{2p} \\\\\n",
        "\\vdots & \\vdots & \\ddots & \\vdots \\\\\n",
        "b_{n1} & b_{n2} & \\ldots & b_{np}\n",
        "\\end{bmatrix}\n",
        "$$\n",
        "\n",
        "The `numpy.inner` function computes a new array \\( C \\) with shape \\( m \\times p \\) where each element \\( c_{ij} \\) is given by:\n",
        "\n",
        "$$\n",
        "c_{ij} = \\sum_{k=1}^{n} a_{ik} b_{kj}\n",
        "$$\n"
      ],
      "metadata": {
        "id": "6JJdIjPmVZlV"
      }
    },
    {
      "cell_type": "markdown",
      "source": [
        "\n",
        "\n",
        "---\n",
        "\n",
        "\n",
        "**np.vdot**\n",
        "\n",
        "Given two vectors\n",
        "\n",
        "$$\n",
        "\\vec{a} = \\begin{bmatrix} a_1 \\\\ a_2 \\\\ \\vdots \\\\ a_n \\end{bmatrix}, \\quad \\vec{b} = \\begin{bmatrix} b_1 \\\\ b_2 \\\\ \\vdots \\\\ b_n \\end{bmatrix}\n",
        "$$\n",
        "\n",
        "The `numpy.vdot` function computes the dot product as\n",
        "\n",
        "$$\n",
        "\\text{result} = a_1b_1 + a_2b_2 + \\ldots + a_nb_n\n",
        "$$\n",
        "\n",
        "In a generalized form for any two vectors of length \\( n \\), it would be\n",
        "\n",
        "$$\n",
        "\\text{result} = \\sum_{i=1}^{n} a_ib_i\n",
        "$$\n",
        "\n",
        "\n",
        "\n",
        "---\n",
        "\n",
        "\n",
        "\n",
        "Given two matrices\n",
        "\n",
        "$$\n",
        "A = \\begin{bmatrix} a_{11} & a_{12} \\\\ a_{21} & a_{22} \\end{bmatrix}, \\quad B = \\begin{bmatrix} b_{11} & b_{12} \\\\ b_{21} & b_{22} \\end{bmatrix}\n",
        "$$\n",
        "\n",
        "The `numpy.vdot` function will first flatten these matrices to\n",
        "\n",
        "$$\n",
        "A_{\\text{flat}} = [a_{11}, a_{12}, a_{21}, a_{22}], \\quad B_{\\text{flat}} = [b_{11}, b_{12}, b_{21}, b_{22}]\n",
        "$$\n",
        "\n",
        "And then compute the dot product as\n",
        "\n",
        "$$\n",
        "\\text{result} = a_{11}b_{11} + a_{12}b_{12} + a_{21}b_{21} + a_{22}b_{22}\n",
        "$$\n",
        "\n",
        "In a generalized form for any two n x m matrices, it would be\n",
        "\n",
        "$$\n",
        "\\text{result} = \\sum_{i=1}^{n} \\sum_{j=1}^{m} a_{ij}b_{ij}\n",
        "$$\n"
      ],
      "metadata": {
        "id": "qwfR3vPxOdGM"
      }
    },
    {
      "cell_type": "markdown",
      "metadata": {
        "id": "EcV4U-Wh4_Be"
      },
      "source": [
        "As we venture into higher dimensions, the behavior of `np.dot` and `np.matmul` in NumPy diverges. When working with higher dimensional arrays, it's important to understand the differences between these functions.\n",
        "\n",
        "Here's a brief overview:\n",
        "\n",
        "**`np.dot`**:\n",
        "\n",
        "When applied to two arrays A and B, `np.dot` estimates the sum product between the last axis of A and the penultimate axis of B. It performs the dot product along these specific axes, resulting in a new array.\n",
        "\n",
        "Given a row vector and a column vector\n",
        "\n",
        "$$\n",
        "\\vec{a} = \\begin{bmatrix} a_1 & a_2 & \\ldots & a_n \\end{bmatrix}, \\quad \\vec{b} = \\begin{bmatrix} b_1 & b_2 & \\ldots & b_n \\end{bmatrix}\n",
        "$$\n",
        "\n",
        "The `numpy.dot` function computes the dot product of these vectors, which can be visually represented as:\n",
        "\n",
        "$$\n",
        "\\text{result} = \\vec{a} \\cdot \\vec{b} = \\sum_{i=1}^{n} a_i b_i = a_1 b_1 + a_2 b_2 + \\ldots + a_n b_n\n",
        "$$\n",
        "\n",
        "Or, in matrix multiplication form, it can be viewed as\n",
        "\n",
        "$$\n",
        "\\text{result} = \\vec{a} \\cdot \\vec{b} = \\begin{bmatrix} a_1 & a_2 & \\ldots & a_n \\end{bmatrix} \\cdot \\begin{bmatrix} b_1 \\\\ b_2 \\\\ \\vdots \\\\ b_n \\end{bmatrix}\n",
        "$$\n",
        "\n",
        "This operation reduces to a single scalar value.\n",
        "\n",
        "\n",
        "\n",
        "---\n",
        "\n",
        "\n",
        "\n",
        "**`np.matmul`**:\n",
        "\n",
        "This function is specifically designed for matrix multiplication and assumes stacks of matrices. When used with two arrays A and B, `np.matmul` performs matrix multiplication between them, taking into account their dimensions and shapes.\n",
        "\n",
        "Given two arrays \\( A \\) and \\( B \\) where \\( A \\) has dimensions \\( m \\times n \\) and \\( B \\) has dimensions \\( n \\times p \\), represented as:\n",
        "\n",
        "$$\n",
        "A = \\begin{bmatrix}\n",
        "a_{11} & a_{12} & \\ldots & a_{1n} \\\\\n",
        "a_{21} & a_{22} & \\ldots & a_{2n} \\\\\n",
        "\\vdots & \\vdots & \\ddots & \\vdots \\\\\n",
        "a_{m1} & a_{m2} & \\ldots & a_{mn}\n",
        "\\end{bmatrix},\n",
        "\\quad\n",
        "B = \\begin{bmatrix}\n",
        "b_{11} & b_{12} & \\ldots & b_{1p} \\\\\n",
        "b_{21} & b_{22} & \\ldots & b_{2p} \\\\\n",
        "\\vdots & \\vdots & \\ddots & \\vdots \\\\\n",
        "b_{n1} & b_{n2} & \\ldots & b_{np}\n",
        "\\end{bmatrix}\n",
        "$$\n",
        "\n",
        "The `numpy.matmul` function computes the matrix product of these arrays, producing a new matrix \\( C \\) with dimensions \\( m \\times p \\) given by\n",
        "\n",
        "$$\n",
        "C = A \\cdot B\n",
        "$$\n",
        "\n",
        "where each element \\( c_{ij} \\) of \\( C \\) is computed as\n",
        "\n",
        "$$\n",
        "c_{ij} = \\sum_{k=1}^{n} a_{ik} b_{kj}\n",
        "$$\n",
        "\n",
        "So the resulting matrix \\( C \\) will be\n",
        "\n",
        "$$\n",
        "C = \\begin{bmatrix}\n",
        "c_{11} & c_{12} & \\ldots & c_{1p} \\\\\n",
        "c_{21} & c_{22} & \\ldots & c_{2p} \\\\\n",
        "\\vdots & \\vdots & \\ddots & \\vdots \\\\\n",
        "c_{m1} & c_{m2} & \\ldots & c_{mp}\n",
        "\\end{bmatrix}\n",
        "$$\n",
        "\n",
        "where, for instance,\n",
        "\n",
        "$$\n",
        "c_{11} = a_{11}b_{11} + a_{12}b_{21} + \\ldots + a_{1n}b_{n1}\n",
        "$$\n",
        "\n",
        "\n",
        "\n",
        "In a nutshell, when it comes to matrix and vector multiplication operations, it's generally safest to use `np.matmul`. It's **specifically designed for matrix multiplication and provides consistent results across different dimensionalities**.\n",
        "\n",
        "\n",
        "---\n",
        "\n",
        "\n",
        "In addition to `np.matmul`, NumPy offers other useful matrix product operations that you may find beneficial. Some of these include:\n",
        "\n",
        "**`np.vdot`**:\n",
        "\n",
        "Calculates the dot product between two vectors and flattens the input arrays before performing the computation.\n",
        "\n",
        "Given two vectors \\( \\vec{a} \\) and \\( \\vec{b} \\) represented as row vectors:\n",
        "\n",
        "$$\n",
        "\\vec{a} = \\begin{bmatrix} a_1 & a_2 & \\ldots & a_n \\end{bmatrix}, \\quad \\vec{b} = \\begin{bmatrix} b_1 & b_2 & \\ldots & b_n \\end{bmatrix}\n",
        "$$\n",
        "\n",
        "The `numpy.vdot` function computes the dot product of the vectors, but unlike the standard dot product, it handles the vectors as if they are flattened (if they are not already 1-D), and then it computes the dot product of the conjugate of the first vector with the second vector. The operation is defined as:\n",
        "\n",
        "$$\n",
        "\\text{result} = \\sum_{i=1}^{n} \\overline{a_i} b_i\n",
        "$$\n",
        "\n",
        "For complex numbers, the conjugate of \\( a_i \\) is used, meaning if we have complex vectors:\n",
        "\n",
        "$$\n",
        "\\vec{a} = \\begin{bmatrix} a_1 + i a_2 & a_3 + i a_4 & \\ldots & a_{n-1} + i a_n \\end{bmatrix}, \\quad \\vec{b} = \\begin{bmatrix} b_1 + i b_2 & b_3 + i b_4 & \\ldots & b_{n-1} + i b_n \\end{bmatrix}\n",
        "$$\n",
        "\n",
        "The result of `numpy.vdot(a, b)` will be:\n",
        "\n",
        "$$\n",
        "\\text{result} = \\sum_{k=1}^{n/2} \\left( (a_{2k-1} - i a_{2k}) (b_{2k-1} + i b_{2k}) \\right)\n",
        "$$\n",
        "\n",
        "\n",
        "\n",
        "---\n",
        "\n",
        "\n",
        "**`np.outer`**:\n",
        "\n",
        "Computes the outer product of two vectors, resulting in a matrix.\n",
        "\n",
        "Given two vectors\n",
        "\n",
        "$$\n",
        "\\vec{a} = \\begin{bmatrix} a_1 & a_2 & \\ldots & a_n \\end{bmatrix}, \\quad \\vec{b} = \\begin{bmatrix} b_1 \\\\ b_2 \\\\ \\vdots \\\\ b_n \\end{bmatrix}\n",
        "$$\n",
        "\n",
        "The `numpy.outer` function computes the outer product of these vectors, resulting in a matrix \\( C \\) where the elements are given by\n",
        "\n",
        "$$\n",
        "C_{ij} = a_i b_j\n",
        "$$\n",
        "\n",
        "In a more visual representation, the resultant matrix \\( C \\) will be\n",
        "\n",
        "$$\n",
        "C = \\begin{bmatrix}\n",
        "a_1 b_1 & a_1 b_2 & \\ldots & a_1 b_n \\\\\n",
        "a_2 b_1 & a_2 b_2 & \\ldots & a_2 b_n \\\\\n",
        "\\vdots & \\vdots & \\ddots & \\vdots \\\\\n",
        "a_n b_1 & a_n b_2 & \\ldots & a_n b_n \\\\\n",
        "\\end{bmatrix}\n",
        "$$\n",
        "\n",
        "And in a generalized form for any two vectors of length \\( n \\), it would be\n",
        "\n",
        "$$\n",
        "C = \\sum_{i=1}^{n} \\sum_{j=1}^{n} a_i b_j \\, e_i e_j^T\n",
        "$$\n",
        "\n",
        "\n",
        "\n",
        "---\n",
        "\n",
        "\n",
        "**`np.tensordot`**:\n",
        "\n",
        "Given two tensors \\( A \\) and \\( B \\) with respective sets of indices \\( \\{i_1, i_2, \\ldots, i_n\\} \\) and \\( \\{j_1, j_2, \\ldots, j_m\\} \\), the `numpy.tensordot` function computes a generalized \"dot product\" of the two tensors along specified axes.\n",
        "\n",
        "To illustrate, let's consider tensors \\( A \\) and \\( B \\) each with two axes:\n",
        "\n",
        "$$\n",
        "A = \\begin{bmatrix}\n",
        "a_{11} & a_{12} \\\\\n",
        "a_{21} & a_{22} \\\\\n",
        "\\end{bmatrix},\n",
        "\\quad\n",
        "B = \\begin{bmatrix}\n",
        "b_{11} & b_{12} \\\\\n",
        "b_{21} & b_{22} \\\\\n",
        "\\end{bmatrix}\n",
        "$$\n",
        "\n",
        "Using `numpy.tensordot(A, B, axes=1)`, the summation is performed over the last axis of \\( A \\) and the second-to-last of \\( B \\), yielding:\n",
        "\n",
        "$$\n",
        "C = \\sum_{k=1}^{2} A_{ik} B_{kj} = \\begin{bmatrix}\n",
        "a_{11}b_{11} + a_{12}b_{21} & a_{11}b_{12} + a_{12}b_{22} \\\\\n",
        "a_{21}b_{11} + a_{22}b_{21} & a_{21}b_{12} + a_{22}b_{22} \\\\\n",
        "\\end{bmatrix}\n",
        "$$\n",
        "\n",
        "In general, for axes = \\( p \\), the operation is defined as:\n",
        "\n",
        "$$\n",
        "C_{i_1i_2\\ldots i_{n-p}j_{p+1}\\ldots j_m} = \\sum_{k=1}^{\\text{dim}} A_{i_1i_2\\ldots i_{n-p}k} B_{k j_{p+1}\\ldots j_m}\n",
        "$$\n",
        "\n",
        "Where \"dim\" refers to the size of the dimensions over\n",
        "\n",
        "\n",
        "\n",
        "---\n",
        "\n",
        "\n",
        "**`np.einsum`**:\n",
        "\n",
        "Provides a powerful mechanism for performing a variety of tensor operations, including matrix multiplication, contraction, and summation, using a compact string notation.\n",
        "\n",
        "$$\n",
        "\\text{{np.einsum}}('ijk,klm->ijlm', a, b) = \\sum_{k=1}^{K} a_{ijk} \\cdot b_{klm}\n",
        "$$\n",
        "\n",
        "\n",
        "These additional matrix product operations offer versatility and flexibility in performing various tensor operations.\n",
        "\n",
        "So, with **`np.matmul`** as your trusted companion and these additional functions at your disposal, you're well-equipped to conquer the world of matrix operations in NumPy!\n",
        "\n",
        "**In summary:**\n",
        "\n",
        "Regardless, the TL;DR (\"Too Long; Didn't Read\") of all this is that you are probably safest using ```np.matmul()``` for your matrix and vector multiplication operations.\n",
        "\n",
        "Other potentially useful matrix product operations are:"
      ]
    },
    {
      "cell_type": "code",
      "execution_count": null,
      "metadata": {
        "id": "WEgF-J4p4_Be"
      },
      "outputs": [],
      "source": [
        "# perform outer product  =\n",
        "#[a1b1,a1b2,a1b3;\n",
        "# a2b1,a2b2,a2b3]\n",
        "# a3b1,a3b2,a3b3]\n",
        "print('outer product :')\n",
        "print(np.outer(a,b))\n",
        "\n",
        "# perform cross product  =\n",
        "# [ (a2b3-b2a3) , (a1b3-b1a3), (a1b2-b1a2)]\n",
        "print('cross product :')\n",
        "print(np.cross(a,b))\n",
        "\n",
        "# estimating a matrix transpose\n",
        "print('matrix transpose:')\n",
        "print(A.transpose()) # note here use of transpose as object attribute, equally accessible as np.transpose(A)"
      ]
    },
    {
      "cell_type": "markdown",
      "metadata": {
        "id": "5YPlOG2l4_Be"
      },
      "source": [
        "And, operations for matrix factorisation are available including methods for square (```eig```) and non-square matrices (cholesky, ```cholesky``` and singular value decomposition, ```svd```):"
      ]
    },
    {
      "cell_type": "code",
      "execution_count": null,
      "metadata": {
        "id": "aI_6NOAQ4_Be"
      },
      "outputs": [],
      "source": [
        "# First estimate eigenvalues and vectors of a square matrix\n",
        "# A=PQP^(-1) with eigenvalues (Q) and vectors (P)\n",
        "mat1 = np.array([[1, 2, 3], [4, 5, 6], [7, 8, 9]])\n",
        "Q,P = np.linalg.eig(mat1)\n",
        "print('Eigenvalues of square matrix:',Q)\n",
        "print('Eigenvectors of square matrix:')\n",
        "print(P)\n",
        "\n",
        "# Now estimate eigenvalues and vectors of a non-square matrix using svd\n",
        "# svd decomposition:\n",
        "# A=UDV* (where V* is conjugate transpose of V; U and V are the left and right singular vectors of A,\n",
        "# D is a diagonal matrix containing singular values)\n",
        "mat2 = np.array([[1, 2, 3, 4], [5, 6, 7, 8], [9, 10, 11,12]])\n",
        "u,d,v = np.linalg.svd(mat2)\n",
        "print('Singular values of non-square matrix:',d)\n",
        "print('left singular vectors of non-square matrix:')\n",
        "print(u)\n",
        "print('right singular vectors of non-square matrix:')\n",
        "print(v)"
      ]
    },
    {
      "cell_type": "markdown",
      "metadata": {
        "id": "SvVsLVHb4_Be"
      },
      "source": [
        "There are many more functions to explore and discover as we progress through the lecture series. If you're curious about the full range of functions available in NumPy, you can always refer to the comprehensive library manual at: [numpy library manual](https://numpy.org/doc/stable/reference/index.html#reference).\n",
        "\n",
        "This resource will be your go-to guide, providing detailed information on various mathematical functions [here](https://numpy.org/doc/stable/reference/routines.math.html) and linear algebra operations [here](https://numpy.org/doc/stable/reference/routines.linalg.html).\n",
        "\n",
        "In addition to the library manual, you can also rely on online resources like Stack Overflow to search for specific functions or seek assistance from the vibrant programming community. With numpy being widely used, you'll find a wealth of examples and discussions readily available."
      ]
    },
    {
      "cell_type": "markdown",
      "metadata": {
        "id": "looFRDoZ4_Bf"
      },
      "source": [
        "## Exercise 6: Array Operations"
      ]
    },
    {
      "cell_type": "markdown",
      "metadata": {
        "id": "myc-ikP84_Bf"
      },
      "source": [
        "NumPy offers a wide range of elementwise operations that can come in handy for various tasks. Here are some of the commonly used ones:\n",
        "\n",
        "**`mean:`** Calculates the mean value of all elements in an array.\n",
        "\n",
        "**`std`**: Computes the standard deviation of all elements in an array.\n",
        "\n",
        "**`var`**: Estimates the variance of all elements in an array.\n",
        "\n",
        "**`sum`**: Calculates the sum of all elements in an array.\n",
        "\n",
        "**`sqrt`**: Computes the square root of all elements in an array.\n",
        "\n",
        "**`fabs`**: Returns the absolute values of all elements in an array.\n",
        "\n",
        "**`exp`**: Calculates the exponential value of all elements in an array.\n",
        "\n",
        "**`log`**: Computes the natural logarithm of all elements in an array.\n",
        "\n",
        "Additionally, you can find more examples and information about other mathematical functions in the NumPy documentation [here](https://numpy.org/doc/stable/reference/routines.math.html).\n",
        "\n",
        "Now let's try out some of these functions and explore their capabilities:"
      ]
    },
    {
      "cell_type": "code",
      "execution_count": null,
      "metadata": {
        "id": "eBCS9cKv4_Bf"
      },
      "outputs": [],
      "source": [
        "# Define array with positives and negatives\n",
        "C = np.array([[16,64],[-25,4]], dtype=np.float64)\n",
        "\n",
        "# Estimate mean of matrix elements (replace `None` with correct NumPy function call)\n",
        "meanC = None\n",
        "\n",
        "# or\n",
        "meanC = None\n",
        "\n",
        "# Estimate the standard deviation and variance\n",
        "stdC = None\n",
        "varC = None\n",
        "\n",
        "# Get absolute values\n",
        "fabsC = None # not available as a class method\n",
        "\n",
        "# estimate square root of fabsC\n",
        "sqrtC = None\n",
        "\n",
        "# Estimate exponential of fabsC\n",
        "expC = None\n",
        "\n",
        "# Estimate natural log of fabsC\n",
        "logC = None\n",
        "\n",
        "# Try some other functions\n",
        "\n",
        "# MATRIX OPERATIONS\n",
        "# If you are getting confused consider comparing results against those obtained in matlab\n",
        "\n",
        "# Create 2 3x3 matrices\n",
        "\n",
        "\n",
        "# Perform elementwise multiplication\n",
        "\n",
        "\n",
        "# Perform matrix multiplication - use matmul or dot\n",
        "\n",
        "\n",
        "\n",
        "# Estimate the eigenvalues and vectors of one matrix\n",
        "\n"
      ]
    },
    {
      "cell_type": "markdown",
      "metadata": {
        "id": "yXJ7IExl4_Bf"
      },
      "source": [
        "# Citation"
      ]
    },
    {
      "cell_type": "markdown",
      "metadata": {
        "id": "mne6b0Jq4_Bf"
      },
      "source": [
        "Travis E, Oliphant. A guide to NumPy, USA: Trelgol Publishing, (2006)."
      ]
    }
  ],
  "metadata": {
    "colab": {
      "provenance": []
    },
    "kernelspec": {
      "display_name": "Python 3 (ipykernel)",
      "language": "python",
      "name": "python3"
    },
    "language_info": {
      "codemirror_mode": {
        "name": "ipython",
        "version": 3
      },
      "file_extension": ".py",
      "mimetype": "text/x-python",
      "name": "python",
      "nbconvert_exporter": "python",
      "pygments_lexer": "ipython3",
      "version": "3.11.4"
    }
  },
  "nbformat": 4,
  "nbformat_minor": 0
}