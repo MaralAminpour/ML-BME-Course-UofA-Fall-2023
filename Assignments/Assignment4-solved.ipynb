{
 "cells": [
  {
   "cell_type": "markdown",
   "metadata": {
    "hideCode": false,
    "hidePrompt": false,
    "id": "7pnRBmZYMW5p"
   },
   "source": [
    "# Assignment 4\n",
    "# Ensemble Learning: Random Forests and Adaboost\n",
    "\n",
    "## Deadline: Monday, November 20 at 11:59 PM\n",
    "## The assignment must be submitted in the form of a Jupyter notebook and uploaded to eClass.\n",
    "\n",
    "In this assignment, you will use the Gestational Age dataset that you have already worked on during in-class exercises and in Assignment 3. You will explore ensemble learning through two applications: Random Forests and boosting with Adaboost.\n",
    "\n",
    "## Marks:\n",
    "<ul type=\"none\">\n",
    "  <li><b>Exercise 1: 4 marks</b></li>\n",
    "    <ul>\n",
    "      <li>Implement the training and testing of a DecisionTreeRegressor: 1 mark;</li>\n",
    "      <li>Implement the training and testing of the RandomForestRegressor: 1 mark;</li>\n",
    "      <li>Return and plot feature importances: 0.5 marks;</li>\n",
    "      <li>Compare and discuss the performance of the two implemented regressors (max 200 words): 1.5 marks.</li>\n",
    "    </ul>\n",
    "  <li><b>Exercise 2: 3 marks</b></li>\n",
    "    <ul>\n",
    "      <li>Create a dictionary called param_dist which specifies parameters for max_depth, max_features and n_estimators: 1 mark;</li>\n",
    "      <li>Create an instance (grid) of GridSearchCV with RandomForestRegressor() as the model and param_dist as the search grid (with cross validation: cv=5); then run on the training data: 1 mark;</li>\n",
    "      <li>Apply the tuned parameters to the model and get a new test prediction: 0.5 marks;</li>\n",
    "      <li>Compare the performance with the previously implemented Random Forest regressor: 0.5 marks.</li>\n",
    "    </ul>\n",
    "  <li><b>Exercise 3: 3 marks</b></li>\n",
    "    <ul>\n",
    "      <li>Try Adaboost Regression using default parameters: 1 mark;</li>\n",
    "      <li>Try optimising parameters (such as min_samples_leaf and n_estimators) using GridSearchCV: 1 mark;</li>\n",
    "      <li>Apply the optimised parameters to train and test a new model: 1 mark.</li>\n",
    "    </ul>   \n",
    "\n"
   ]
  },
  {
   "cell_type": "markdown",
   "metadata": {
    "id": "r19gIGINJpXQ"
   },
   "source": [
    "First load all needed modules and download the dataset."
   ]
  },
  {
   "cell_type": "code",
   "execution_count": 1,
   "metadata": {
    "executionInfo": {
     "elapsed": 2322,
     "status": "ok",
     "timestamp": 1698100510323,
     "user": {
      "displayName": "Paola Vottero",
      "userId": "14795987863697753346"
     },
     "user_tz": 360
    },
    "hideCode": false,
    "hidePrompt": false,
    "id": "WOtGKsQVMW5r"
   },
   "outputs": [],
   "source": [
    "import matplotlib.pyplot as plt\n",
    "from sklearn.tree import DecisionTreeRegressor\n",
    "from sklearn.ensemble import RandomForestRegressor\n",
    "from sklearn.model_selection import train_test_split\n",
    "from sklearn.ensemble import AdaBoostRegressor\n",
    "from sklearn.model_selection import GridSearchCV\n",
    "import pandas as pd\n",
    "import numpy as np\n",
    "%matplotlib inline"
   ]
  },
  {
   "cell_type": "code",
   "execution_count": 2,
   "metadata": {
    "executionInfo": {
     "elapsed": 1074,
     "status": "ok",
     "timestamp": 1698100517783,
     "user": {
      "displayName": "Paola Vottero",
      "userId": "14795987863697753346"
     },
     "user_tz": 360
    },
    "id": "PzMpqSeKqPzY"
   },
   "outputs": [],
   "source": [
    "# This code will download the required data files from GitHub\n",
    "import requests\n",
    "def download_data(source, dest):\n",
    "    base_url = 'https://raw.githubusercontent.com/'\n",
    "    owner = 'SirTurtle'\n",
    "    repo = 'ML-BME-UofA-data'\n",
    "    branch = 'main'\n",
    "    url = '{}/{}/{}/{}/{}'.format(base_url, owner, repo, branch, source)\n",
    "    r = requests.get(url)\n",
    "    f = open(dest, 'wb')\n",
    "    f.write(r.content)\n",
    "    f.close()\n",
    "\n",
    "# Create the temp directory, if it doesn't already exist\n",
    "import os\n",
    "if not os.path.exists('temp'):\n",
    "   os.makedirs('temp')\n",
    "\n",
    "download_data('Week-6-Feature-extraction-and-selection/data/GA-structure-volumes-preterm.csv', 'temp/GA-structure-volumes-preterm.csv')"
   ]
  },
  {
   "cell_type": "markdown",
   "metadata": {
    "hideCode": false,
    "hidePrompt": false,
    "id": "6PXtCsjXMW58"
   },
   "source": [
    "### Exercise 1: Training Random Forests to Predict Gestational Age from Regional Brain Volumes"
   ]
  },
  {
   "cell_type": "markdown",
   "metadata": {
    "hideCode": false,
    "hidePrompt": false,
    "id": "SdSMif7JMW58"
   },
   "source": [
    "Apply Scikit-Learn's Random Forest Regressor to the task of predicting gestational age (GA) from regional brain volumes. Complete the code below to:\n",
    "\n",
    "   1. Implement the training and testing of the ```DecisionTreeRegressor()```\n",
    "   2. Implement the training and testing of the  ```RandomForestRegressor()```\n",
    "   3. Return and plot feature importances (see the [scikit-learn tutorial](https://scikit-learn.org/stable/auto_examples/ensemble/plot_forest_importances.html) for guidance)\n",
    "   4. Compare and discuss the performance of the two implemented regressors\n",
    "   \n",
    "Data pre-processing has been performed for you"
   ]
  },
  {
   "cell_type": "code",
   "execution_count": 3,
   "metadata": {
    "colab": {
     "base_uri": "https://localhost:8080/",
     "height": 1000
    },
    "executionInfo": {
     "elapsed": 1052,
     "status": "ok",
     "timestamp": 1698100855953,
     "user": {
      "displayName": "Paola Vottero",
      "userId": "14795987863697753346"
     },
     "user_tz": 360
    },
    "hideCode": false,
    "hidePrompt": false,
    "id": "2G6XFOzOMW58",
    "outputId": "6fe693a3-1135-4908-e5b6-e023dabb711b"
   },
   "outputs": [
    {
     "name": "stdout",
     "output_type": "stream",
     "text": [
      "Decision Tree Score 0.7872742274443362\n",
      "Random Forest initial Score 0.910875895609417\n",
      "Feature ranking:\n",
      "1. feature 29 (0.202537)\n",
      "2. feature 85 (0.134310)\n",
      "3. feature 28 (0.122371)\n",
      "4. feature 17 (0.080268)\n",
      "5. feature 35 (0.051614)\n",
      "6. feature 11 (0.046644)\n",
      "7. feature 37 (0.040346)\n",
      "8. feature 23 (0.034194)\n",
      "9. feature 38 (0.029000)\n",
      "10. feature 34 (0.021605)\n",
      "11. feature 27 (0.021435)\n",
      "12. feature 16 (0.021350)\n",
      "13. feature 21 (0.020629)\n",
      "14. feature 36 (0.018081)\n",
      "15. feature 33 (0.016214)\n",
      "16. feature 84 (0.015195)\n",
      "17. feature 46 (0.011310)\n",
      "18. feature 22 (0.011049)\n",
      "19. feature 10 (0.008937)\n",
      "20. feature 13 (0.008394)\n",
      "21. feature 30 (0.007769)\n",
      "22. feature 6 (0.007124)\n",
      "23. feature 45 (0.006736)\n",
      "24. feature 18 (0.004053)\n",
      "25. feature 15 (0.004008)\n",
      "26. feature 82 (0.003533)\n",
      "27. feature 26 (0.003104)\n",
      "28. feature 12 (0.002727)\n",
      "29. feature 14 (0.002648)\n",
      "30. feature 19 (0.002444)\n",
      "31. feature 55 (0.002395)\n",
      "32. feature 60 (0.002373)\n",
      "33. feature 68 (0.002334)\n",
      "34. feature 7 (0.001851)\n",
      "35. feature 5 (0.001651)\n",
      "36. feature 24 (0.001365)\n",
      "37. feature 83 (0.001306)\n",
      "38. feature 75 (0.001284)\n",
      "39. feature 67 (0.001087)\n",
      "40. feature 42 (0.001081)\n",
      "41. feature 1 (0.001051)\n",
      "42. feature 41 (0.001010)\n",
      "43. feature 56 (0.000881)\n",
      "44. feature 31 (0.000873)\n",
      "45. feature 61 (0.000853)\n",
      "46. feature 43 (0.000818)\n",
      "47. feature 62 (0.000813)\n",
      "48. feature 72 (0.000811)\n",
      "49. feature 54 (0.000776)\n",
      "50. feature 44 (0.000758)\n",
      "51. feature 53 (0.000720)\n",
      "52. feature 9 (0.000682)\n",
      "53. feature 66 (0.000672)\n",
      "54. feature 52 (0.000628)\n",
      "55. feature 4 (0.000616)\n",
      "56. feature 50 (0.000600)\n",
      "57. feature 25 (0.000585)\n",
      "58. feature 3 (0.000575)\n",
      "59. feature 40 (0.000538)\n",
      "60. feature 51 (0.000529)\n",
      "61. feature 20 (0.000523)\n",
      "62. feature 49 (0.000522)\n",
      "63. feature 47 (0.000518)\n",
      "64. feature 73 (0.000512)\n",
      "65. feature 69 (0.000512)\n",
      "66. feature 70 (0.000495)\n",
      "67. feature 64 (0.000495)\n",
      "68. feature 57 (0.000473)\n",
      "69. feature 48 (0.000465)\n",
      "70. feature 65 (0.000435)\n",
      "71. feature 63 (0.000434)\n",
      "72. feature 2 (0.000393)\n",
      "73. feature 78 (0.000383)\n",
      "74. feature 39 (0.000381)\n",
      "75. feature 0 (0.000255)\n",
      "76. feature 8 (0.000224)\n",
      "77. feature 81 (0.000220)\n",
      "78. feature 71 (0.000216)\n",
      "79. feature 74 (0.000211)\n",
      "80. feature 80 (0.000202)\n",
      "81. feature 58 (0.000197)\n",
      "82. feature 32 (0.000188)\n",
      "83. feature 79 (0.000179)\n",
      "84. feature 77 (0.000164)\n",
      "85. feature 76 (0.000160)\n",
      "86. feature 59 (0.000098)\n"
     ]
    },
    {
     "data": {
      "image/png": "[encoded data removed]",
      "text/plain": [
       "<Figure size 1000x800 with 1 Axes>"
      ]
     },
     "metadata": {},
     "output_type": "display_data"
    }
   ],
   "source": [
    "# Load data\n",
    "DATAMAT = pd.read_csv('temp/GA-structure-volumes-preterm.csv', header=None)\n",
    "\n",
    "# Separate out data from labals\n",
    "DATA = DATAMAT.loc[:,1:] # volumes - we have 86 features and 164 samples\n",
    "LABELS = DATAMAT[0] # GA - 164\n",
    "\n",
    "# Split data into test and train\n",
    "X_train_GA, X_test_GA, y_train_GA, y_test_GA = train_test_split(DATA, LABELS, test_size=.4, random_state=42)\n",
    "\n",
    "# 1.1 Get baseline prediction from decision tree (no param optimisation)\n",
    "\n",
    "# 1.1.1 Create instance of DecisionTreeRegressor with default parameters\n",
    "tree_model = DecisionTreeRegressor()\n",
    "\n",
    "# 1.1.2 Train\n",
    "tree_model.fit(X_train_GA, y_train_GA)\n",
    "\n",
    "# 1.1.3 Test\n",
    "score_DT = tree_model.score(X_test_GA, y_test_GA)\n",
    "print('Decision Tree Score', score_DT)\n",
    "\n",
    "# 1.2 Get baseline prediction from Random Forest (no param optimisation)\n",
    "\n",
    "# 1.2.1 Create instance of RandomForestRegressor with default parameters. Use 100 trees (n_estimators=100)\n",
    "forest_model = RandomForestRegressor(n_estimators=100, random_state=42)\n",
    "\n",
    "# 1.2.2 Train\n",
    "forest_model.fit(X_train_GA, y_train_GA)\n",
    "\n",
    "# 1.2.3 Test\n",
    "score_RF1 = forest_model.score(X_test_GA, y_test_GA)\n",
    "print('Random Forest initial Score', score_RF1)\n",
    "\n",
    "# 1.3. Get feature importances\n",
    "importances = forest_model.feature_importances_\n",
    "std = np.std([tree.feature_importances_ for tree in forest_model.estimators_], axis=0)\n",
    "indices = np.argsort(importances)[::-1]\n",
    "\n",
    "# Print the feature ranking\n",
    "print('Feature ranking:')\n",
    "\n",
    "for f in range(X_train_GA.shape[1]):\n",
    "    print('%d. feature %d (%f)' % (f + 1, indices[f], importances[indices[f]]))\n",
    "\n",
    "# Plot the impurity-based feature importances of the 20 most important features in the forest\n",
    "plt.figure(figsize=(10,8))\n",
    "plt.title('Feature importances')\n",
    "plt.bar(range(20), importances[indices][0:20], color='r', yerr=std[indices][0:20], align='center')\n",
    "plt.xticks(range(20), indices[0:20])\n",
    "plt.xlim([-1, 20])\n",
    "plt.show()"
   ]
  },
  {
   "cell_type": "markdown",
   "metadata": {
    "id": "uHtbi6hdpCyD"
   },
   "source": [
    "1.4 Compare and discuss the performance of the two implemented regressors."
   ]
  },
  {
   "cell_type": "markdown",
   "metadata": {
    "id": "GwmIFYhFpWzk"
   },
   "source": [
    "*Add your discussion here:*"
   ]
  },
  {
   "cell_type": "markdown",
   "metadata": {
    "hideCode": false,
    "hideOutput": true,
    "hidePrompt": false,
    "id": "fL008ABrMW59"
   },
   "source": [
    "The Scikit-learn module allows for tuning of several key parameters of the model. Of these, perhaps the most important are:\n",
    "\n",
    "- Number of features\n",
    "- Max depth of trees\n",
    "- Number of estimators\n",
    "\n",
    "We will now use Scikit-Learn's ```GridSearchCV``` function to optimise the parameters of our Random Forest and improve performance on the above problem.\n",
    "\n",
    "For help on how to implement parameter optimisation using GridSearch, look at the scikit learn [documentation](https://scikit-learn.org/stable/auto_examples/model_selection/plot_grid_search_digits.html#sphx-glr-auto-examples-model-selection-plot-grid-search-digits-py)."
   ]
  },
  {
   "cell_type": "markdown",
   "metadata": {
    "hideCode": false,
    "hidePrompt": false,
    "id": "cP8tzjxqMW59"
   },
   "source": [
    "### Exercise 2:  Perform Parameter Optimisation for Random Forests using ```GridSearchCV```\n",
    "\n",
    "Implement parameter optimisation using ```GridSearchCV```:\n",
    "   1. Create a ```dict``` called ```param_dist``` which specifies parameters for ```max_depth```, ```max_features``` and ```n_estimators ```\n",
    "   2. Create an instance (```grid```) of  ```GridSearchCV``` with ```RandomForestRegressor()``` as the model and ```param_dist``` as the search grid (with cross validation: ```cv=5```); then run on the training data\n",
    "   3. Apply the tuned parameters to the model and get a new test prediction\n",
    "   4. Compare the performance with the previously implemented Random Forest regressor\n",
    "  "
   ]
  },
  {
   "cell_type": "code",
   "execution_count": 4,
   "metadata": {
    "colab": {
     "base_uri": "https://localhost:8080/"
    },
    "executionInfo": {
     "elapsed": 54447,
     "status": "ok",
     "timestamp": 1698102433883,
     "user": {
      "displayName": "Paola Vottero",
      "userId": "14795987863697753346"
     },
     "user_tz": 360
    },
    "hideCode": false,
    "hidePrompt": false,
    "id": "I6MgpR4zMW59",
    "outputId": "4c3a6c17-5196-4e41-8fd8-7a111c88987f"
   },
   "outputs": [
    {
     "name": "stdout",
     "output_type": "stream",
     "text": [
      "Best classification score achieved using grid search: 0.9187755869300558\n",
      "The parameters resulting in the best score are depth: 15, max_f: 86, and n_estimators: 40 \n",
      "{'max_depth': 15, 'max_features': 86, 'n_estimators': 40}\n",
      "Random Forest refined test Score 0.9116850711202801\n"
     ]
    }
   ],
   "source": [
    "# 2.1 Specify parameters and distributions to sample from in the form of a dict\n",
    "# Hint: try selecting 5 values in the range [3; 50] for max_depth and 4 values in the range [10; 100] for n_estimators\n",
    "param_dist = {\"max_depth\": [3, 15, 25, 40, 50],\n",
    "              \"max_features\": np.linspace(10, DATA.shape[1], 5).astype(int),\n",
    "              \"n_estimators\": [10, 40, 70, 100]}\n",
    "\n",
    "model = RandomForestRegressor(random_state=42)\n",
    "\n",
    "# 2.2 Create an instance of GridSearchCV\n",
    "grid = GridSearchCV(estimator=model, param_grid=param_dist, cv=5)\n",
    "\n",
    "# 2.2.1 Run gridsearch on the training data\n",
    "grid.fit(X_train_GA, y_train_GA)\n",
    "\n",
    "# Summarize the results of the grid search\n",
    "print('Best classification score achieved using grid search:', grid.best_score_)\n",
    "print('The parameters resulting in the best score are depth: {}, max_f: {}, and n_estimators: {} '\\\n",
    "      .format(grid.best_estimator_.max_depth,\n",
    "              grid.best_estimator_.max_features,\\\n",
    "              grid.best_estimator_.n_estimators))\n",
    "print(grid.best_params_)\n",
    "\n",
    "# 2.3 Apply the tuned parameters to the model and get a new test prediction\n",
    "\n",
    "# 2.3.1 Create RF model using optimised parameters\n",
    "model = RandomForestRegressor(max_depth=grid.best_estimator_.max_depth,\n",
    "                              max_features=grid.best_estimator_.max_features,\n",
    "                              n_estimators=grid.best_estimator_.n_estimators,\n",
    "                              random_state=42)\n",
    "\n",
    "# 2.3.2 fit model to training data\n",
    "model.fit(X_train_GA, y_train_GA)\n",
    "\n",
    "# 2.3.3 Test\n",
    "score_RF2 = model.score(X_test_GA, y_test_GA)\n",
    "print('Random Forest refined test Score', score_RF2)"
   ]
  },
  {
   "cell_type": "markdown",
   "metadata": {
    "id": "wkLsWpAzq6v7"
   },
   "source": [
    "2.4 Compare the performance with the previously implemented Random Forest regressor."
   ]
  },
  {
   "cell_type": "markdown",
   "metadata": {
    "id": "1IWl6ZPTq-tu"
   },
   "source": [
    "*Add your discussion here:*"
   ]
  },
  {
   "cell_type": "markdown",
   "metadata": {
    "id": "-Y5kcaQIMW5-"
   },
   "source": [
    "\n",
    "### Exercise 3: Training Adaboost to Predict Gestational Age from Regional Brain Volumes"
   ]
  },
  {
   "cell_type": "markdown",
   "metadata": {
    "id": "YkE1PEMiMW5-"
   },
   "source": [
    "Apply Scikit-Learn's Adaboost regressor to the task of predicting gestational age (GA) from regional brain volumes.\n",
    "\n",
    "Using the test training data split from above (```X_train_GA, X_test_GA, y_train_GA, y_test_GA```) complete the code below to:\n",
    "   1.  Trial Adaboost Regression using default parameters\n",
    "   2.  Try optimising parameters (such as min_samples_leaf and n_estimators) using GridSearchCV. Note, the entry for min_samples_leaf in the parameter dict has been completed for you to demonstrate how to tune the parameters of a base learner (in this case a decision tree)\n",
    "   3.  Apply the optimised parameters to train and test a new model."
   ]
  },
  {
   "cell_type": "code",
   "execution_count": 5,
   "metadata": {
    "colab": {
     "base_uri": "https://localhost:8080/"
    },
    "executionInfo": {
     "elapsed": 129720,
     "status": "ok",
     "timestamp": 1698102563599,
     "user": {
      "displayName": "Paola Vottero",
      "userId": "14795987863697753346"
     },
     "user_tz": 360
    },
    "id": "PdVDfIoxMW5_",
    "outputId": "a18be4e2-0c46-414e-d930-d22fad129496"
   },
   "outputs": [
    {
     "name": "stdout",
     "output_type": "stream",
     "text": [
      "Adaboost initial Score 0.9055990872670802\n",
      "Best regression score achieved using grid search: -1.4070296084057834\n",
      "The parameters resulting in the best score are min samples per leaf: 3, and n_estimators 40 \n",
      "Adaboost refined test Score 0.9064099770601408\n"
     ]
    }
   ],
   "source": [
    "# 3 Get baseline prediction from Adaboost (no param optimisation)\n",
    "\n",
    "# 3.1 Create instance of Adaboost with default parameters\n",
    "clf = AdaBoostRegressor(random_state=42)\n",
    "\n",
    "# 3.1.1 Train on data X_train_GA, y_train_GA\n",
    "clf.fit(X_train_GA, y_train_GA)\n",
    "\n",
    "# 3.1.2 Test\n",
    "score_AB1 = clf.score(X_test_GA, y_test_GA)\n",
    "print('Adaboost initial Score', score_AB1)\n",
    "\n",
    "# 3.2 Optimise parameters using GridSearchCV\n",
    "\n",
    "# 3.2.1 Specify parameters and distributions to sample from in the form of a dict\n",
    "param_dist = {\"estimator__min_samples_leaf\": [1, 2, 3, 5, 10],\n",
    "              \"estimator__max_depth\": [3, 15, 25, 40, 50],\n",
    "              \"n_estimators\": [10, 40, 70, 100]}\n",
    "model = AdaBoostRegressor(estimator=DecisionTreeRegressor(random_state=42))\n",
    "\n",
    "# 3.2.2 Create an instance of GridSearchCV\n",
    "grid = GridSearchCV(estimator=model, param_grid=param_dist, cv=5, scoring='neg_mean_squared_error')  # Hint: use scoring='neg_mean_squared_error'\n",
    "\n",
    "# 3.2.3 Run gridsearch on the training data\n",
    "grid.fit(X_train_GA, y_train_GA)\n",
    "print('Best regression score achieved using grid search:', grid.best_score_)\n",
    "print('The parameters resulting in the best score are min samples per leaf: {}, and n_estimators {} '.format(\n",
    "    grid.best_estimator_.estimator_.min_samples_leaf,grid.best_estimator_.n_estimators))\n",
    "\n",
    "# 3.3 create RF model using optimised parameters\n",
    "model = AdaBoostRegressor(estimator=DecisionTreeRegressor(\n",
    "                                min_samples_leaf=grid.best_estimator_.estimator_.min_samples_leaf,\n",
    "                                random_state=42),\n",
    "                          n_estimators=grid.best_estimator_.n_estimators)\n",
    "\n",
    "# 3.3.1 Fit model to training data\n",
    "model.fit(X_train_GA, y_train_GA)\n",
    "\n",
    "# 3.3.2 Test\n",
    "score_AB2 = model.score(X_test_GA, y_test_GA)\n",
    "print('Adaboost refined test Score', score_AB2)"
   ]
  }
 ],
 "metadata": {
  "celltoolbar": "Hide code",
  "colab": {
   "provenance": [
    {
     "file_id": "1XEoM2N2tlwXkOeKAlyWnTcXsEP3cPFTZ",
     "timestamp": 1698100478878
    },
    {
     "file_id": "1g_k4ZjinWddZ0NkPlhVaMCW1_ZP6nb0u",
     "timestamp": 1698090869436
    }
   ]
  },
  "hide_code_all_hidden": false,
  "kernelspec": {
   "display_name": "Python 3 (ipykernel)",
   "language": "python",
   "name": "python3"
  },
  "language_info": {
   "codemirror_mode": {
    "name": "ipython",
    "version": 3
   },
   "file_extension": ".py",
   "mimetype": "text/x-python",
   "name": "python",
   "nbconvert_exporter": "python",
   "pygments_lexer": "ipython3",
   "version": "3.11.6"
  }
 },
 "nbformat": 4,
 "nbformat_minor": 4
}
