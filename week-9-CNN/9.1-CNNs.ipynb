{
  "nbformat": 4,
  "nbformat_minor": 0,
  "metadata": {
    "colab": {
      "provenance": []
    },
    "kernelspec": {
      "name": "python3",
      "display_name": "Python 3"
    },
    "language_info": {
      "name": "python"
    },
    "accelerator": "GPU"
  },
  "cells": [
    {
      "cell_type": "markdown",
      "source": [
        "[![Open in Colab](https://colab.research.google.com/assets/colab-badge.svg)](https://colab.research.google.com/github/MaralAminpour/ML-BME-Course-UofA-Fall-2023/blob/main/week-9-CNN/9.1-CNNs.ipynb)\n"
      ],
      "metadata": {
        "id": "WeiHX6AeGb9C"
      }
    },
    {
      "cell_type": "markdown",
      "metadata": {
        "id": "t_H8Td7XaPLh"
      },
      "source": [
        "# Convolutional Neural Networks in Pytorch\n",
        "\n",
        "The aim of this tutorial is to extend on what you learnt in Week 8 on basic Pytorch syntax for fully connected networks, and apply this to coding simple convolutional neural networks, or CNNs."
      ]
    },
    {
      "cell_type": "markdown",
      "metadata": {
        "id": "7s4d6dkau7kL"
      },
      "source": [
        "Import pytorch and all the libraries you will need"
      ]
    },
    {
      "cell_type": "code",
      "metadata": {
        "id": "43XjRZ0Bu754"
      },
      "source": [
        "import matplotlib.pyplot as plt\n",
        "from PIL import Image\n",
        "\n",
        "import tarfile\n",
        "import zipfile\n",
        "from pathlib import Path\n",
        "\n",
        "import pandas as pd\n",
        "import io\n",
        "import os\n",
        "import time\n",
        "\n",
        "import numpy as np\n",
        "import torch\n",
        "import torch.nn as nn\n",
        "import torch.nn.functional as F\n",
        "import torch.optim as optim\n",
        "\n"
      ],
      "execution_count": null,
      "outputs": []
    },
    {
      "cell_type": "markdown",
      "metadata": {
        "id": "JxOudnostsac"
      },
      "source": [
        "## Building blocks\n",
        "\n",
        "The basic components of a convolutional neural networks are convolutional layers and downsampling operations. In this notebook we will downsample through max pooling.\n",
        "\n",
        "### Convolutions\n",
        "\n",
        "The convolutional operation works similarly to what you have previously seen for hand engineered localised feature descriptors such as the Gray level co-occurrence matrix (and Sobel, Laplacian and Gaussian filters).\n",
        "\n",
        "These work by translating a hand engineered filter kernel across an image, at each position, multiplying each element of the filter with the element of the image that they overlap with. This operation is shown below for the vertical sobel edge filter, for the first filter location:\n",
        "\n",
        "<img src=\"https://drive.google.com/uc?id=1gb2QaE8lW6GgNFwCEk5mJqP0Uo91xxn8\" alt=\"Drawing\" style=\"width: 100px;\"/>\n",
        "\n",
        "The second, translated one step to the right:\n",
        "\n",
        "<img src=\"https://drive.google.com/uc?id=1gcsv7870kjTCwnUV043k2u4iM2uydzBn\" alt=\"Drawing\" style=\"width: 100px;\"/>\n",
        "\n",
        "This continues until the filter has been fit at all possible locations in the image. The final output of the convolution is another image:\n",
        "\n",
        "<img src=\"https://drive.google.com/uc?id=1geRXevPNs_sSMeKWyEnEEKFszz3ptqcV\" alt=\"Drawing\" style=\"width: 100px;\"/>\n",
        "\n",
        "This will be slightly smaller than the input image by default, since it corresponds to all locations in the input image on which the filter can be centered. This excludes the outer rows and columns of the image.\n",
        "\n",
        "By default however, Pytorch will return you an image of the same size by using padding:\n",
        "\n",
        "<img src=\"https://drive.google.com/uc?id=1ggS0vucaH_mM9X1aBTRX4lSEDnZlmyZg\" alt=\"Drawing\" style=\"width: 100px;\"/>\n",
        "\n",
        "**The key difference between CNNs and traditional filters is that CNNs learn the best filters for a specific feature recognition problem, whereas traditional feature detectors are hand engineered.**\n",
        "\n",
        "### Max pooling\n",
        "\n",
        "The next most important component of a CNN is downsampling. Downsampling allows a CNN to increase its _receptive field_ :\n",
        "\n",
        "<img src=\"https://drive.google.com/uc?id=1gV1ZqsV5JGkWys5H0bDcnw9pgR-EYtvf\" alt=\"Drawing\" style=\"width: 100px;\"/>\n",
        "\n",
        "<img src=\"https://drive.google.com/uc?id=1gYKvI9ULXFhdyHSGp4XoUmyMFmCijbsI\" alt=\"Drawing\" style=\"width: 100px;\"/>\n",
        "\n",
        "As you saw in the previous section, the filter kernels themselves are small. The only way the network can 'see' the full context of the image is by aggregating across layers, and by downsampling at regular intervals. This way, as you go through the network the filters will learn more and more complex textures, at larger scales, until they can recognise whole objects.\n",
        "\n"
      ]
    },
    {
      "cell_type": "markdown",
      "metadata": {
        "id": "xtiZFWBCknar"
      },
      "source": [
        "## Coding CNNs in Pytorch\n",
        "\n",
        "You already saw last week how to set up a basic fully connected network, choose a cost function and write a training loop. All this stays the same for CNNs. All you need in addition is convolutional and max pool layers.\n",
        "\n",
        "In PyTorch, A 2D convolution class is defined within the `torch.nn` module as follows:\n",
        "\n",
        "<img src=\"https://drive.google.com/uc?id=12hvQSk-kCsPWTnEE16KKPkA0zo1R3Wzc\" alt=\"Drawing\" style=\"width: 800px;\"/>\n",
        "\n",
        "And the maxpool function in pytorch is [```nn.MaxPool2d```](https://pytorch.org/docs/stable/nn.html?highlight=maxpool#torch.nn.MaxPool2d)."
      ]
    },
    {
      "cell_type": "markdown",
      "metadata": {
        "id": "haicmhGukw4L"
      },
      "source": [
        "## Exercise 1 - MedMNIST Example\n",
        "\n",
        "In this first example we will use a dataset known as MedMNIST. Its name is inspired by the MNIST dataset, which was the original benchmark used to train CNNs. MNIST contains a large dataset of images of handwritten digits (0-9). MedMNIST collates several X-Ray datasets and standardizes them to the same size. In this example, we will select hand images, chest CT images, abdomen CT images and head CT images, only. Each class has 10000 images. We will use 800 for training, 100 for validation, and 100 for testing.\n",
        "\n",
        "\n",
        "**Task 1.1** run all these code blocks and make sure you understand what they are doing:\n",
        "- Setting the device\n",
        "- Pushing the network and data to the device\n",
        "- Converting data to torch tensors of correct types\n",
        "- Creating network layers of an appropriate size\n",
        "- Choosing suitable losses\n"
      ]
    },
    {
      "cell_type": "markdown",
      "metadata": {
        "id": "w15ZYbd8LAxC"
      },
      "source": [
        "Make sure to check which device you are running on - should be GPU"
      ]
    },
    {
      "cell_type": "code",
      "metadata": {
        "colab": {
          "base_uri": "https://localhost:8080/"
        },
        "id": "wj_NYtkRMyIY",
        "outputId": "8a37c5ab-fb0e-4b52-e63d-55437f5196a9"
      },
      "source": [
        "# This will allow the network to run on GPUs\n",
        "device = torch.device(\"cuda\" if torch.cuda.is_available() else \"cpu\")\n",
        "torch.cuda.empty_cache()\n",
        "print(device)"
      ],
      "execution_count": null,
      "outputs": [
        {
          "output_type": "stream",
          "name": "stdout",
          "text": [
            "cuda\n"
          ]
        }
      ]
    },
    {
      "cell_type": "markdown",
      "metadata": {
        "id": "bUu3KB-2O1Zb"
      },
      "source": [
        "Then download the data"
      ]
    },
    {
      "cell_type": "code",
      "metadata": {
        "id": "Pg6HpjE3aKB3",
        "colab": {
          "base_uri": "https://localhost:8080/"
        },
        "outputId": "d3640337-d320-4cc3-a14b-d2b46d104b74"
      },
      "source": [
        "# This block of code will download the MedNIST dataset and extract it to the current directory\n",
        "\n",
        "# Download MedNIST dataset\n",
        "!curl -L -o MedNISTSmall.tar.gz 'https://github.com/irinagrigorescu/tempmri/raw/main/MedNISTSmall.tar.gz'\n",
        "\n",
        "# Unzip the '.tar.gz' file to the current directory\n",
        "datafile = tarfile.open(\"MedNISTSmall.tar.gz\")\n",
        "datafile.extractall()\n",
        "datafile.close()"
      ],
      "execution_count": null,
      "outputs": [
        {
          "output_type": "stream",
          "name": "stdout",
          "text": [
            "  % Total    % Received % Xferd  Average Speed   Time    Time     Time  Current\n",
            "                                 Dload  Upload   Total   Spent    Left  Speed\n",
            "  0     0    0     0    0     0      0      0 --:--:-- --:--:-- --:--:--     0\n",
            "100 4109k  100 4109k    0     0  2858k      0  0:00:01  0:00:01 --:--:-- 26.4M\n"
          ]
        }
      ]
    },
    {
      "cell_type": "markdown",
      "metadata": {
        "id": "vcW9U683wDJY"
      },
      "source": [
        "Anf then select a subset for train, validation and test"
      ]
    },
    {
      "cell_type": "code",
      "metadata": {
        "colab": {
          "base_uri": "https://localhost:8080/"
        },
        "id": "HVTEGELtwDpd",
        "outputId": "6a2ad35a-2dab-45bb-f05a-97e181853ec4"
      },
      "source": [
        "# Get data\n",
        "data_dir = Path('./MedNISTSmall/')\n",
        "# class_names = sorted([p.stem for p in data_dir.iterdir() if p.is_dir()])\n",
        "\n",
        "# Choose image files from the four classes below\n",
        "class_names = ['Hand', 'ChestCT', 'HeadCT', 'AbdomenCT']\n",
        "image_files = [[x for x in (data_dir / class_name).iterdir()] for class_name in class_names]\n",
        "\n",
        "# Create a training / validation / testing split for the images\n",
        "# 800 hand + 800 chest + 800 head + 800 abdomen        TRAIN\n",
        "dataset_train = image_files[0][:800] + image_files[1][:800] + image_files[2][:800] + image_files[3][:800]\n",
        "\n",
        "# 100 hand + 100 chest + 100 head + 100 abdomen        VALIDATION\n",
        "dataset_valid = image_files[0][800:900] + image_files[1][800:900] + image_files[2][800:900] + image_files[3][800:900]\n",
        "\n",
        "# 100 hand + 100 chest + 100 head + 100 abdomen        TEST\n",
        "dataset_test  = image_files[0][900:] + image_files[1][900:] + image_files[2][900:] + image_files[3][900:]\n",
        "\n",
        "# Create a training / validation / testing split for the labels\n",
        "labels_train = [\"hand\"] * 800 + [\"chest\"] * 800 + [\"head\"] * 800 + [\"abdomen\"] * 800\n",
        "labels_valid = [\"hand\"] * 100 + [\"chest\"] * 100 + [\"head\"] * 100 + [\"abdomen\"] * 100\n",
        "labels_test = [\"hand\"] * 100 + [\"chest\"] * 100 + [\"head\"] * 100 + [\"abdomen\"] * 100\n",
        "\n",
        "print('train', len(dataset_train), len(labels_train))\n",
        "print('valid', len(dataset_valid), len(labels_valid))\n",
        "print('test ', len(dataset_test), len(labels_test))"
      ],
      "execution_count": null,
      "outputs": [
        {
          "output_type": "stream",
          "name": "stdout",
          "text": [
            "train 3200 3200\n",
            "valid 400 400\n",
            "test  400 400\n"
          ]
        }
      ]
    },
    {
      "cell_type": "markdown",
      "metadata": {
        "id": "F2yPnqTzwKiZ"
      },
      "source": [
        "Let's visualise a few of these to see what they look like:\n",
        "\n",
        "**Task 1.2**\n",
        "\n",
        "- Change ```i``` to different values to view different images from the training set (there are 3200)\n",
        "- Print the labels: you'll notice they are currently words - we will need integers ```y={0,1,2..}```\n"
      ]
    },
    {
      "cell_type": "code",
      "metadata": {
        "colab": {
          "base_uri": "https://localhost:8080/",
          "height": 449
        },
        "id": "UFr8uRGiwbpa",
        "outputId": "bf02ce26-3904-4d9c-99e3-6b3370267054"
      },
      "source": [
        "i=100\n",
        "\n",
        "example_image=np.array(Image.open(dataset_train[i]))\n",
        "\n",
        "# plot image\n",
        "plt.imshow(example_image)\n",
        "# print its label\n",
        "print(labels_train[i])"
      ],
      "execution_count": null,
      "outputs": [
        {
          "output_type": "stream",
          "name": "stdout",
          "text": [
            "hand\n"
          ]
        },
        {
          "output_type": "display_data",
          "data": {
            "text/plain": [
              "<Figure size 640x480 with 1 Axes>"
            ],
            "image/png": "[encoded data removed]"
          },
          "metadata": {}
        }
      ]
    },
    {
      "cell_type": "markdown",
      "metadata": {
        "id": "7kKZ3O1hw-9v"
      },
      "source": [
        "Now we'll set up our train, test and validation sets as torch tensors. This will require:\n",
        "\n",
        "1. Reading in each image as a .jpg file using the PIL library (imported above)\n",
        "2. Normalising each image into the range 0 to 1 (to standardise each image into a constant range)\n",
        "3. Combining all images into one 3D array of shape (n_examples, image_height, image_width)\n",
        "4. Converting the array to a torch tensor of type float\n"
      ]
    },
    {
      "cell_type": "code",
      "metadata": {
        "colab": {
          "base_uri": "https://localhost:8080/"
        },
        "id": "OKwN6LV3w_VF",
        "outputId": "9b12bad6-5448-4e99-873a-73f62df6fb46"
      },
      "source": [
        "def convert_to_torch_tensor(dataset):\n",
        "  ''' takes list of image paths and reads them into an array;\n",
        "      converts to tensor '''\n",
        "  image_list=[]\n",
        "\n",
        "  for image_path in dataset:\n",
        "    # Read in each jpeg and convert to array,\n",
        "    image=np.array(Image.open(image_path))\n",
        "    # Normalise into range 0-1\n",
        "    if np.max(image)-np.min(image) !=0:\n",
        "      image=(image-np.min(image))/(np.max(image)-np.min(image))\n",
        "\n",
        "    # Read into list\n",
        "    image_list.append(image)\n",
        "\n",
        "  # Convert list to np array\n",
        "  image_array=np.asarray(image_list)\n",
        "\n",
        "  # Convert numpy array to torch tensor with added dimension corresponding to the number of channels (1)\n",
        "  torch_tensor=torch.from_numpy(np.expand_dims(image_array,axis=1)).to(torch.float)\n",
        "  return torch_tensor\n",
        "\n",
        "# Create torch tensors for train, validation and test\n",
        "X_train=convert_to_torch_tensor(dataset_train)\n",
        "X_valid=convert_to_torch_tensor(dataset_valid)\n",
        "X_test=convert_to_torch_tensor(dataset_test)\n",
        "\n",
        "print('train shape', X_train.shape)\n",
        "print('valid shape', X_valid.shape)\n",
        "print('test shape ', X_test.shape)"
      ],
      "execution_count": null,
      "outputs": [
        {
          "output_type": "stream",
          "name": "stdout",
          "text": [
            "train shape torch.Size([3200, 1, 64, 64])\n",
            "valid shape torch.Size([400, 1, 64, 64])\n",
            "test shape  torch.Size([400, 1, 64, 64])\n"
          ]
        }
      ]
    },
    {
      "cell_type": "markdown",
      "metadata": {
        "id": "CIFKAprS2Baq"
      },
      "source": [
        "Finally (in terms of preprocessing) we need to converting our labels from text to integer labels"
      ]
    },
    {
      "cell_type": "code",
      "metadata": {
        "colab": {
          "base_uri": "https://localhost:8080/"
        },
        "id": "lVvmp2t22Brs",
        "outputId": "c23eaeb6-8212-482c-b5ea-7144c979579c"
      },
      "source": [
        "LABEL_MAPPING = {\"hand\": 0, \"chest\": 1, \"head\": 2, \"abdomen\": 3}\n",
        "\n",
        "def convert_labels(label_list):\n",
        "  ''' will loop throuhg all labels and convert to integers'''\n",
        "  label_ids=[]\n",
        "\n",
        "  for lb in label_list:\n",
        "    label_ids.append(LABEL_MAPPING[lb])\n",
        "\n",
        "  labels_tensor=torch.from_numpy(np.asarray(label_ids)).to(torch.long)\n",
        "\n",
        "  return labels_tensor\n",
        "\n",
        "# Create torch tensors for train, validation and test\n",
        "y_train=convert_labels(labels_train)\n",
        "y_valid=convert_labels(labels_valid)\n",
        "y_test=convert_labels(labels_test)\n",
        "\n",
        "print('train labels', y_train)"
      ],
      "execution_count": null,
      "outputs": [
        {
          "output_type": "stream",
          "name": "stdout",
          "text": [
            "train labels tensor([0, 0, 0,  ..., 3, 3, 3])\n"
          ]
        }
      ]
    },
    {
      "cell_type": "markdown",
      "metadata": {
        "id": "coJiI_7Z6j38"
      },
      "source": [
        "Now that we have our data in the right format we need to set up our network:\n",
        "- Layers must be defined in the ```__init__``` function\n",
        "- The forward pass is defined in the ```forward``` function\n",
        "- The backwards pass is taken care of automatically\n",
        "- Once set up, we push the network to the device\n",
        "\n",
        "*Architecture:*\n",
        "- Four convolutional layers, each fitting 3x3 filter kernels with same convolution\n",
        "- Two linear layers\n",
        "\n",
        "**Task 1.3** input the number of input neurons of the first linear layer (set ``fc1_input_dim``)\n",
        "\n",
        "- *Hint:* if the images start as $64\\times64$ and you downsample 4 times (once for each convolutional layer) by a factor of 2, what will be the output dimensions of the final convolutional layer? Note that it must be flattened.\n",
        "- Don't forget the channel dimension!\n",
        "- If you are stuck, add print statements between the layers and get the code interpreter to do the work for you."
      ]
    },
    {
      "cell_type": "code",
      "metadata": {
        "id": "11t7NYQd6kIT"
      },
      "source": [
        "class MedNet(nn.Module):\n",
        "\n",
        "    def __init__(self, flattened_dim):\n",
        "        super(MedNet,self).__init__()\n",
        "\n",
        "        # The syntax to define the convolutional layers is:\n",
        "          # nn.Conv2d(channels in, channels out, filter size)\n",
        "\n",
        "        # For layer 1:\n",
        "                      # channels in = 1 (input has 1 channel - greyscale)\n",
        "                      # channels out = 8 (hyperparameter - you can try different values here)\n",
        "                      # the filter kernel size is 3\n",
        "                      # padding is set to True (or same)\n",
        "        self.conv1 = nn.Conv2d(1, 8, 3, padding='same')\n",
        "\n",
        "        # For layer 2:\n",
        "                      # channels in = 8 (equal to the output channel dimension of the previous layer)\n",
        "                      # channels out = 16 (hyperparameter - you can try different values here)\n",
        "        self.conv2 = nn.Conv2d(8, 16, 3, padding='same')\n",
        "\n",
        "        # For layer 3:\n",
        "                      # channels in = 16\n",
        "                      # channels out = 32 (hyperparameter - you can try different values here)\n",
        "        self.conv3 = nn.Conv2d(16, 32, 3, padding='same')\n",
        "\n",
        "        # For layer 4:\n",
        "                      # channels in = 32\n",
        "                      # channels out = 48 (hyperparameter - you can try different values here)\n",
        "        self.conv4 = nn.Conv2d(32, 48, 3, padding='same')\n",
        "\n",
        "        # Max pooling kernel of size 2x2\n",
        "        self.pool = nn.MaxPool2d(2, 2)\n",
        "\n",
        "        # The syntax to define the linear layers is:\n",
        "          # nn.Linear(nodes in, nodes out)\n",
        "\n",
        "        # The first linear layer will have input dimensions equal to the length of the flattened output from conv2\n",
        "        # The output dimensions are a hyperparameter - we choose 25\n",
        "        self.ful1 = nn.Linear(flattened_dim, 25)\n",
        "\n",
        "        # The second linear layer will have input dimensions equal to the output of the first linear layer\n",
        "        # The output will be equal to the number of classes (here 4)\n",
        "        self.ful2 = nn.Linear(25, 4)\n",
        "\n",
        "\n",
        "    def forward(self,x):\n",
        "        # Here we put the layers together, implementing ReLU activations after each weight learning layer\n",
        "        # First convolutional layer followed by ReLU, then pooling:\n",
        "        x = self.pool(F.relu(self.conv1(x)))\n",
        "\n",
        "        # Second convolutional layer + ReLU and pooling\n",
        "        x = self.pool(F.relu(self.conv2(x)))\n",
        "\n",
        "        # Third convolutional layer + ReLU and pooling\n",
        "        x = self.pool(F.relu(self.conv3(x)))\n",
        "\n",
        "        # Fourth convolutional layer + ReLU and pooling\n",
        "        x = self.pool(F.relu(self.conv4(x)))\n",
        "\n",
        "        # The last activation map is flattened:\n",
        "        x = torch.flatten(x, 1) # flatten all dimensions except batch\n",
        "\n",
        "        # x is then passed through one linear layer with input dims equal to the flattened dims\n",
        "        x = F.relu(self.ful1(x))\n",
        "\n",
        "        # And a second linear layer with output dim equal to the number of classes\n",
        "        x = self.ful2(x)\n",
        "\n",
        "        return x\n",
        "\n",
        "\n",
        "fc1_input_dim = None  # Complete this line of code #\n",
        "\n",
        "# Push the network to the device\n",
        "net = MedNet(fc1_input_dim).to(device)"
      ],
      "execution_count": null,
      "outputs": []
    },
    {
      "cell_type": "markdown",
      "metadata": {
        "id": "-PaH1LZlCIic"
      },
      "source": [
        "Next we must define our losses and our choice of optimiser. Here, as it is a classifier, we implement cross entropy loss. We will use the ``SGD`` (stochastic gradient descent) optimiser."
      ]
    },
    {
      "cell_type": "code",
      "metadata": {
        "id": "bKl2CwrqC6Hg"
      },
      "source": [
        "loss_fun = nn.CrossEntropyLoss()\n",
        "loss_fun = loss_fun.to(device) # send to device\n",
        "\n",
        "# Note the optimiser takes the network as an argument\n",
        "optimizer = optim.SGD(net.parameters(), lr=0.005, momentum=0.9)"
      ],
      "execution_count": null,
      "outputs": []
    },
    {
      "cell_type": "markdown",
      "source": [
        "On momentum: \"The momentum method (Polyak,1964), which we refer to as classical momentum (CM) is a technique for accelerating gradient descent that accumulates a velocity vector in directions of persistent reduction in the objective across iterations.\" from: http://www.cs.toronto.edu/%7Ehinton/absps/momentum.pdf."
      ],
      "metadata": {
        "id": "sGklmfUK5wMt"
      }
    },
    {
      "cell_type": "markdown",
      "metadata": {
        "id": "L1CRbgVFMyUq"
      },
      "source": [
        "Run training and validation and plot losses\n",
        "\n",
        "**Note:** here we pass all training examples in a single block. More generally, in DL, the data set is too large for this and you have to pass batches."
      ]
    },
    {
      "cell_type": "code",
      "metadata": {
        "colab": {
          "base_uri": "https://localhost:8080/",
          "height": 1000
        },
        "id": "U6duS1cDLA8C",
        "outputId": "56526347-bcec-424d-ce85-a02d3bc84bc5"
      },
      "source": [
        "from sklearn.metrics import accuracy_score\n",
        "\n",
        "epochs = 150\n",
        "accuracy = []\n",
        "train_losses = []\n",
        "val_losses = []\n",
        "\n",
        "for epoch in range(epochs):\n",
        "    # Set network to training mode\n",
        "    net.train()\n",
        "\n",
        "    # Perform a training loop\n",
        "    data = X_train.to(device)\n",
        "    label = y_train.to(device)\n",
        "\n",
        "    # Clear the gradients\n",
        "    optimizer.zero_grad()\n",
        "\n",
        "    # Feed the input and acquire the output from network\n",
        "    x_out = net(data)\n",
        "\n",
        "    # Calculate the loss\n",
        "    err = loss_fun(x_out, label)\n",
        "    train_losses.append(err)\n",
        "\n",
        "    # Compute the gradient\n",
        "    err.backward()\n",
        "\n",
        "    # Update the parameters\n",
        "    optimizer.step()\n",
        "\n",
        "    with torch.no_grad():\n",
        "      net.eval()\n",
        "\n",
        "      valdata = X_valid.to(device)\n",
        "      vallabel = y_valid.to(device)\n",
        "      x_out = net(valdata)\n",
        "      val_err = loss_fun(x_out, vallabel)\n",
        "      val_losses.append(val_err)\n",
        "      pred = x_out.data.max(1)[1].cpu() # Get the index of the max log-probability\n",
        "      accuracy.append(accuracy_score(y_valid, pred))\n",
        "\n",
        "      print('Train loss : {:.4f}, Val Loss: {:.4f}, Val accuracy: {:.4f}'.format(err, val_err,accuracy[-1]))\n",
        "\n",
        "print(['Best val error: ', np.min(accuracy)])\n",
        "\n",
        "# This step is needed to manipulate lists of tensors from the gpu device locally with numpy.\n",
        "# Try printing train_losses and val_losses before this step to understand why that's needed.\n",
        "train_losses = [tl.cpu().detach().numpy() for tl in train_losses]\n",
        "val_losses = [vl.cpu().detach().numpy() for vl in val_losses]\n",
        "\n",
        "# Plot the losses\n",
        "plt.plot(np.arange(len(train_losses)),train_losses,'b')\n",
        "plt.plot(np.arange(len(train_losses)),val_losses,'r')\n",
        "plt.show()"
      ],
      "execution_count": null,
      "outputs": [
        {
          "output_type": "stream",
          "name": "stdout",
          "text": [
            "torch.Size([3200, 48, 4, 4])\n",
            "torch.Size([400, 48, 4, 4])\n",
            "Train loss : 0.0184, Val Loss: 0.0329, Val accuracy: 0.9900\n",
            "torch.Size([3200, 48, 4, 4])\n",
            "torch.Size([400, 48, 4, 4])\n",
            "Train loss : 0.0183, Val Loss: 0.0328, Val accuracy: 0.9900\n",
            "torch.Size([3200, 48, 4, 4])\n",
            "torch.Size([400, 48, 4, 4])\n",
            "Train loss : 0.0182, Val Loss: 0.0327, Val accuracy: 0.9900\n",
            "torch.Size([3200, 48, 4, 4])\n",
            "torch.Size([400, 48, 4, 4])\n",
            "Train loss : 0.0182, Val Loss: 0.0326, Val accuracy: 0.9900\n",
            "torch.Size([3200, 48, 4, 4])\n",
            "torch.Size([400, 48, 4, 4])\n",
            "Train loss : 0.0181, Val Loss: 0.0325, Val accuracy: 0.9900\n",
            "torch.Size([3200, 48, 4, 4])\n",
            "torch.Size([400, 48, 4, 4])\n",
            "Train loss : 0.0180, Val Loss: 0.0324, Val accuracy: 0.9900\n",
            "torch.Size([3200, 48, 4, 4])\n",
            "torch.Size([400, 48, 4, 4])\n",
            "Train loss : 0.0179, Val Loss: 0.0324, Val accuracy: 0.9900\n",
            "torch.Size([3200, 48, 4, 4])\n",
            "torch.Size([400, 48, 4, 4])\n",
            "Train loss : 0.0179, Val Loss: 0.0323, Val accuracy: 0.9900\n",
            "torch.Size([3200, 48, 4, 4])\n",
            "torch.Size([400, 48, 4, 4])\n",
            "Train loss : 0.0178, Val Loss: 0.0322, Val accuracy: 0.9900\n",
            "torch.Size([3200, 48, 4, 4])\n",
            "torch.Size([400, 48, 4, 4])\n",
            "Train loss : 0.0177, Val Loss: 0.0321, Val accuracy: 0.9900\n",
            "torch.Size([3200, 48, 4, 4])\n",
            "torch.Size([400, 48, 4, 4])\n",
            "Train loss : 0.0176, Val Loss: 0.0320, Val accuracy: 0.9900\n",
            "torch.Size([3200, 48, 4, 4])\n",
            "torch.Size([400, 48, 4, 4])\n",
            "Train loss : 0.0175, Val Loss: 0.0320, Val accuracy: 0.9900\n",
            "torch.Size([3200, 48, 4, 4])\n",
            "torch.Size([400, 48, 4, 4])\n",
            "Train loss : 0.0175, Val Loss: 0.0319, Val accuracy: 0.9900\n",
            "torch.Size([3200, 48, 4, 4])\n",
            "torch.Size([400, 48, 4, 4])\n",
            "Train loss : 0.0174, Val Loss: 0.0318, Val accuracy: 0.9900\n",
            "torch.Size([3200, 48, 4, 4])\n",
            "torch.Size([400, 48, 4, 4])\n",
            "Train loss : 0.0173, Val Loss: 0.0318, Val accuracy: 0.9900\n",
            "torch.Size([3200, 48, 4, 4])\n",
            "torch.Size([400, 48, 4, 4])\n",
            "Train loss : 0.0173, Val Loss: 0.0317, Val accuracy: 0.9900\n",
            "torch.Size([3200, 48, 4, 4])\n",
            "torch.Size([400, 48, 4, 4])\n",
            "Train loss : 0.0172, Val Loss: 0.0316, Val accuracy: 0.9900\n",
            "torch.Size([3200, 48, 4, 4])\n",
            "torch.Size([400, 48, 4, 4])\n",
            "Train loss : 0.0171, Val Loss: 0.0316, Val accuracy: 0.9900\n",
            "torch.Size([3200, 48, 4, 4])\n",
            "torch.Size([400, 48, 4, 4])\n",
            "Train loss : 0.0170, Val Loss: 0.0315, Val accuracy: 0.9900\n",
            "torch.Size([3200, 48, 4, 4])\n",
            "torch.Size([400, 48, 4, 4])\n",
            "Train loss : 0.0170, Val Loss: 0.0315, Val accuracy: 0.9900\n",
            "torch.Size([3200, 48, 4, 4])\n",
            "torch.Size([400, 48, 4, 4])\n",
            "Train loss : 0.0169, Val Loss: 0.0314, Val accuracy: 0.9900\n",
            "torch.Size([3200, 48, 4, 4])\n",
            "torch.Size([400, 48, 4, 4])\n",
            "Train loss : 0.0168, Val Loss: 0.0313, Val accuracy: 0.9900\n",
            "torch.Size([3200, 48, 4, 4])\n",
            "torch.Size([400, 48, 4, 4])\n",
            "Train loss : 0.0167, Val Loss: 0.0313, Val accuracy: 0.9900\n",
            "torch.Size([3200, 48, 4, 4])\n",
            "torch.Size([400, 48, 4, 4])\n",
            "Train loss : 0.0167, Val Loss: 0.0312, Val accuracy: 0.9900\n",
            "torch.Size([3200, 48, 4, 4])\n",
            "torch.Size([400, 48, 4, 4])\n",
            "Train loss : 0.0166, Val Loss: 0.0312, Val accuracy: 0.9900\n",
            "torch.Size([3200, 48, 4, 4])\n",
            "torch.Size([400, 48, 4, 4])\n",
            "Train loss : 0.0165, Val Loss: 0.0311, Val accuracy: 0.9900\n",
            "torch.Size([3200, 48, 4, 4])\n",
            "torch.Size([400, 48, 4, 4])\n",
            "Train loss : 0.0165, Val Loss: 0.0311, Val accuracy: 0.9900\n",
            "torch.Size([3200, 48, 4, 4])\n",
            "torch.Size([400, 48, 4, 4])\n",
            "Train loss : 0.0164, Val Loss: 0.0310, Val accuracy: 0.9900\n",
            "torch.Size([3200, 48, 4, 4])\n",
            "torch.Size([400, 48, 4, 4])\n",
            "Train loss : 0.0163, Val Loss: 0.0310, Val accuracy: 0.9900\n",
            "torch.Size([3200, 48, 4, 4])\n",
            "torch.Size([400, 48, 4, 4])\n",
            "Train loss : 0.0163, Val Loss: 0.0309, Val accuracy: 0.9900\n",
            "torch.Size([3200, 48, 4, 4])\n",
            "torch.Size([400, 48, 4, 4])\n",
            "Train loss : 0.0162, Val Loss: 0.0309, Val accuracy: 0.9900\n",
            "torch.Size([3200, 48, 4, 4])\n",
            "torch.Size([400, 48, 4, 4])\n",
            "Train loss : 0.0161, Val Loss: 0.0308, Val accuracy: 0.9900\n",
            "torch.Size([3200, 48, 4, 4])\n",
            "torch.Size([400, 48, 4, 4])\n",
            "Train loss : 0.0161, Val Loss: 0.0307, Val accuracy: 0.9900\n",
            "torch.Size([3200, 48, 4, 4])\n",
            "torch.Size([400, 48, 4, 4])\n",
            "Train loss : 0.0160, Val Loss: 0.0307, Val accuracy: 0.9900\n",
            "torch.Size([3200, 48, 4, 4])\n",
            "torch.Size([400, 48, 4, 4])\n",
            "Train loss : 0.0159, Val Loss: 0.0306, Val accuracy: 0.9900\n",
            "torch.Size([3200, 48, 4, 4])\n",
            "torch.Size([400, 48, 4, 4])\n",
            "Train loss : 0.0159, Val Loss: 0.0306, Val accuracy: 0.9900\n",
            "torch.Size([3200, 48, 4, 4])\n",
            "torch.Size([400, 48, 4, 4])\n",
            "Train loss : 0.0158, Val Loss: 0.0305, Val accuracy: 0.9900\n",
            "torch.Size([3200, 48, 4, 4])\n",
            "torch.Size([400, 48, 4, 4])\n",
            "Train loss : 0.0157, Val Loss: 0.0305, Val accuracy: 0.9900\n",
            "torch.Size([3200, 48, 4, 4])\n",
            "torch.Size([400, 48, 4, 4])\n",
            "Train loss : 0.0157, Val Loss: 0.0304, Val accuracy: 0.9900\n",
            "torch.Size([3200, 48, 4, 4])\n",
            "torch.Size([400, 48, 4, 4])\n",
            "Train loss : 0.0156, Val Loss: 0.0304, Val accuracy: 0.9900\n",
            "torch.Size([3200, 48, 4, 4])\n",
            "torch.Size([400, 48, 4, 4])\n",
            "Train loss : 0.0155, Val Loss: 0.0303, Val accuracy: 0.9900\n",
            "torch.Size([3200, 48, 4, 4])\n",
            "torch.Size([400, 48, 4, 4])\n",
            "Train loss : 0.0155, Val Loss: 0.0303, Val accuracy: 0.9900\n",
            "torch.Size([3200, 48, 4, 4])\n",
            "torch.Size([400, 48, 4, 4])\n",
            "Train loss : 0.0154, Val Loss: 0.0302, Val accuracy: 0.9900\n",
            "torch.Size([3200, 48, 4, 4])\n",
            "torch.Size([400, 48, 4, 4])\n",
            "Train loss : 0.0153, Val Loss: 0.0302, Val accuracy: 0.9900\n",
            "torch.Size([3200, 48, 4, 4])\n",
            "torch.Size([400, 48, 4, 4])\n",
            "Train loss : 0.0153, Val Loss: 0.0302, Val accuracy: 0.9900\n",
            "torch.Size([3200, 48, 4, 4])\n",
            "torch.Size([400, 48, 4, 4])\n",
            "Train loss : 0.0152, Val Loss: 0.0301, Val accuracy: 0.9900\n",
            "torch.Size([3200, 48, 4, 4])\n",
            "torch.Size([400, 48, 4, 4])\n",
            "Train loss : 0.0151, Val Loss: 0.0301, Val accuracy: 0.9900\n",
            "torch.Size([3200, 48, 4, 4])\n",
            "torch.Size([400, 48, 4, 4])\n",
            "Train loss : 0.0151, Val Loss: 0.0300, Val accuracy: 0.9900\n",
            "torch.Size([3200, 48, 4, 4])\n",
            "torch.Size([400, 48, 4, 4])\n",
            "Train loss : 0.0150, Val Loss: 0.0300, Val accuracy: 0.9900\n",
            "torch.Size([3200, 48, 4, 4])\n",
            "torch.Size([400, 48, 4, 4])\n",
            "Train loss : 0.0149, Val Loss: 0.0299, Val accuracy: 0.9900\n",
            "torch.Size([3200, 48, 4, 4])\n",
            "torch.Size([400, 48, 4, 4])\n",
            "Train loss : 0.0149, Val Loss: 0.0299, Val accuracy: 0.9900\n",
            "torch.Size([3200, 48, 4, 4])\n",
            "torch.Size([400, 48, 4, 4])\n",
            "Train loss : 0.0148, Val Loss: 0.0298, Val accuracy: 0.9900\n",
            "torch.Size([3200, 48, 4, 4])\n",
            "torch.Size([400, 48, 4, 4])\n",
            "Train loss : 0.0147, Val Loss: 0.0298, Val accuracy: 0.9900\n",
            "torch.Size([3200, 48, 4, 4])\n",
            "torch.Size([400, 48, 4, 4])\n",
            "Train loss : 0.0147, Val Loss: 0.0297, Val accuracy: 0.9900\n",
            "torch.Size([3200, 48, 4, 4])\n",
            "torch.Size([400, 48, 4, 4])\n",
            "Train loss : 0.0146, Val Loss: 0.0297, Val accuracy: 0.9900\n",
            "torch.Size([3200, 48, 4, 4])\n",
            "torch.Size([400, 48, 4, 4])\n",
            "Train loss : 0.0146, Val Loss: 0.0296, Val accuracy: 0.9900\n",
            "torch.Size([3200, 48, 4, 4])\n",
            "torch.Size([400, 48, 4, 4])\n",
            "Train loss : 0.0145, Val Loss: 0.0296, Val accuracy: 0.9900\n",
            "torch.Size([3200, 48, 4, 4])\n",
            "torch.Size([400, 48, 4, 4])\n",
            "Train loss : 0.0144, Val Loss: 0.0295, Val accuracy: 0.9900\n",
            "torch.Size([3200, 48, 4, 4])\n",
            "torch.Size([400, 48, 4, 4])\n",
            "Train loss : 0.0144, Val Loss: 0.0295, Val accuracy: 0.9900\n",
            "torch.Size([3200, 48, 4, 4])\n",
            "torch.Size([400, 48, 4, 4])\n",
            "Train loss : 0.0143, Val Loss: 0.0294, Val accuracy: 0.9900\n",
            "torch.Size([3200, 48, 4, 4])\n",
            "torch.Size([400, 48, 4, 4])\n",
            "Train loss : 0.0142, Val Loss: 0.0294, Val accuracy: 0.9900\n",
            "torch.Size([3200, 48, 4, 4])\n",
            "torch.Size([400, 48, 4, 4])\n",
            "Train loss : 0.0142, Val Loss: 0.0293, Val accuracy: 0.9900\n",
            "torch.Size([3200, 48, 4, 4])\n",
            "torch.Size([400, 48, 4, 4])\n",
            "Train loss : 0.0141, Val Loss: 0.0293, Val accuracy: 0.9900\n",
            "torch.Size([3200, 48, 4, 4])\n",
            "torch.Size([400, 48, 4, 4])\n",
            "Train loss : 0.0141, Val Loss: 0.0293, Val accuracy: 0.9900\n",
            "torch.Size([3200, 48, 4, 4])\n",
            "torch.Size([400, 48, 4, 4])\n",
            "Train loss : 0.0140, Val Loss: 0.0292, Val accuracy: 0.9900\n",
            "torch.Size([3200, 48, 4, 4])\n",
            "torch.Size([400, 48, 4, 4])\n",
            "Train loss : 0.0139, Val Loss: 0.0292, Val accuracy: 0.9900\n",
            "torch.Size([3200, 48, 4, 4])\n",
            "torch.Size([400, 48, 4, 4])\n",
            "Train loss : 0.0139, Val Loss: 0.0291, Val accuracy: 0.9900\n",
            "torch.Size([3200, 48, 4, 4])\n",
            "torch.Size([400, 48, 4, 4])\n",
            "Train loss : 0.0138, Val Loss: 0.0291, Val accuracy: 0.9900\n",
            "torch.Size([3200, 48, 4, 4])\n",
            "torch.Size([400, 48, 4, 4])\n",
            "Train loss : 0.0138, Val Loss: 0.0290, Val accuracy: 0.9900\n",
            "torch.Size([3200, 48, 4, 4])\n",
            "torch.Size([400, 48, 4, 4])\n",
            "Train loss : 0.0137, Val Loss: 0.0290, Val accuracy: 0.9900\n",
            "torch.Size([3200, 48, 4, 4])\n",
            "torch.Size([400, 48, 4, 4])\n",
            "Train loss : 0.0136, Val Loss: 0.0290, Val accuracy: 0.9900\n",
            "torch.Size([3200, 48, 4, 4])\n",
            "torch.Size([400, 48, 4, 4])\n",
            "Train loss : 0.0136, Val Loss: 0.0289, Val accuracy: 0.9900\n",
            "torch.Size([3200, 48, 4, 4])\n",
            "torch.Size([400, 48, 4, 4])\n",
            "Train loss : 0.0135, Val Loss: 0.0289, Val accuracy: 0.9900\n",
            "torch.Size([3200, 48, 4, 4])\n",
            "torch.Size([400, 48, 4, 4])\n",
            "Train loss : 0.0135, Val Loss: 0.0288, Val accuracy: 0.9900\n",
            "torch.Size([3200, 48, 4, 4])\n",
            "torch.Size([400, 48, 4, 4])\n",
            "Train loss : 0.0134, Val Loss: 0.0288, Val accuracy: 0.9900\n",
            "torch.Size([3200, 48, 4, 4])\n",
            "torch.Size([400, 48, 4, 4])\n",
            "Train loss : 0.0134, Val Loss: 0.0288, Val accuracy: 0.9900\n",
            "torch.Size([3200, 48, 4, 4])\n",
            "torch.Size([400, 48, 4, 4])\n",
            "Train loss : 0.0133, Val Loss: 0.0287, Val accuracy: 0.9900\n",
            "torch.Size([3200, 48, 4, 4])\n",
            "torch.Size([400, 48, 4, 4])\n",
            "Train loss : 0.0133, Val Loss: 0.0287, Val accuracy: 0.9900\n",
            "torch.Size([3200, 48, 4, 4])\n",
            "torch.Size([400, 48, 4, 4])\n",
            "Train loss : 0.0132, Val Loss: 0.0287, Val accuracy: 0.9900\n",
            "torch.Size([3200, 48, 4, 4])\n",
            "torch.Size([400, 48, 4, 4])\n",
            "Train loss : 0.0131, Val Loss: 0.0286, Val accuracy: 0.9900\n",
            "torch.Size([3200, 48, 4, 4])\n",
            "torch.Size([400, 48, 4, 4])\n",
            "Train loss : 0.0131, Val Loss: 0.0286, Val accuracy: 0.9900\n",
            "torch.Size([3200, 48, 4, 4])\n",
            "torch.Size([400, 48, 4, 4])\n",
            "Train loss : 0.0130, Val Loss: 0.0285, Val accuracy: 0.9900\n",
            "torch.Size([3200, 48, 4, 4])\n",
            "torch.Size([400, 48, 4, 4])\n",
            "Train loss : 0.0130, Val Loss: 0.0285, Val accuracy: 0.9900\n",
            "torch.Size([3200, 48, 4, 4])\n",
            "torch.Size([400, 48, 4, 4])\n",
            "Train loss : 0.0129, Val Loss: 0.0284, Val accuracy: 0.9900\n",
            "torch.Size([3200, 48, 4, 4])\n",
            "torch.Size([400, 48, 4, 4])\n",
            "Train loss : 0.0129, Val Loss: 0.0284, Val accuracy: 0.9900\n",
            "torch.Size([3200, 48, 4, 4])\n",
            "torch.Size([400, 48, 4, 4])\n",
            "Train loss : 0.0128, Val Loss: 0.0283, Val accuracy: 0.9900\n",
            "torch.Size([3200, 48, 4, 4])\n",
            "torch.Size([400, 48, 4, 4])\n",
            "Train loss : 0.0128, Val Loss: 0.0283, Val accuracy: 0.9900\n",
            "torch.Size([3200, 48, 4, 4])\n",
            "torch.Size([400, 48, 4, 4])\n",
            "Train loss : 0.0127, Val Loss: 0.0282, Val accuracy: 0.9900\n",
            "torch.Size([3200, 48, 4, 4])\n",
            "torch.Size([400, 48, 4, 4])\n",
            "Train loss : 0.0127, Val Loss: 0.0282, Val accuracy: 0.9900\n",
            "torch.Size([3200, 48, 4, 4])\n",
            "torch.Size([400, 48, 4, 4])\n",
            "Train loss : 0.0126, Val Loss: 0.0281, Val accuracy: 0.9900\n",
            "torch.Size([3200, 48, 4, 4])\n",
            "torch.Size([400, 48, 4, 4])\n",
            "Train loss : 0.0125, Val Loss: 0.0281, Val accuracy: 0.9900\n",
            "torch.Size([3200, 48, 4, 4])\n",
            "torch.Size([400, 48, 4, 4])\n",
            "Train loss : 0.0125, Val Loss: 0.0281, Val accuracy: 0.9900\n",
            "torch.Size([3200, 48, 4, 4])\n",
            "torch.Size([400, 48, 4, 4])\n",
            "Train loss : 0.0124, Val Loss: 0.0280, Val accuracy: 0.9900\n",
            "torch.Size([3200, 48, 4, 4])\n",
            "torch.Size([400, 48, 4, 4])\n",
            "Train loss : 0.0124, Val Loss: 0.0280, Val accuracy: 0.9900\n",
            "torch.Size([3200, 48, 4, 4])\n",
            "torch.Size([400, 48, 4, 4])\n",
            "Train loss : 0.0123, Val Loss: 0.0279, Val accuracy: 0.9900\n",
            "torch.Size([3200, 48, 4, 4])\n",
            "torch.Size([400, 48, 4, 4])\n",
            "Train loss : 0.0123, Val Loss: 0.0279, Val accuracy: 0.9900\n",
            "torch.Size([3200, 48, 4, 4])\n",
            "torch.Size([400, 48, 4, 4])\n",
            "Train loss : 0.0122, Val Loss: 0.0278, Val accuracy: 0.9900\n",
            "torch.Size([3200, 48, 4, 4])\n",
            "torch.Size([400, 48, 4, 4])\n",
            "Train loss : 0.0122, Val Loss: 0.0278, Val accuracy: 0.9900\n",
            "torch.Size([3200, 48, 4, 4])\n",
            "torch.Size([400, 48, 4, 4])\n",
            "Train loss : 0.0121, Val Loss: 0.0277, Val accuracy: 0.9900\n",
            "torch.Size([3200, 48, 4, 4])\n",
            "torch.Size([400, 48, 4, 4])\n",
            "Train loss : 0.0121, Val Loss: 0.0277, Val accuracy: 0.9900\n",
            "torch.Size([3200, 48, 4, 4])\n",
            "torch.Size([400, 48, 4, 4])\n",
            "Train loss : 0.0120, Val Loss: 0.0277, Val accuracy: 0.9900\n",
            "torch.Size([3200, 48, 4, 4])\n",
            "torch.Size([400, 48, 4, 4])\n",
            "Train loss : 0.0120, Val Loss: 0.0276, Val accuracy: 0.9900\n",
            "torch.Size([3200, 48, 4, 4])\n",
            "torch.Size([400, 48, 4, 4])\n",
            "Train loss : 0.0119, Val Loss: 0.0276, Val accuracy: 0.9900\n",
            "torch.Size([3200, 48, 4, 4])\n",
            "torch.Size([400, 48, 4, 4])\n",
            "Train loss : 0.0119, Val Loss: 0.0275, Val accuracy: 0.9900\n",
            "torch.Size([3200, 48, 4, 4])\n",
            "torch.Size([400, 48, 4, 4])\n",
            "Train loss : 0.0118, Val Loss: 0.0275, Val accuracy: 0.9900\n",
            "torch.Size([3200, 48, 4, 4])\n",
            "torch.Size([400, 48, 4, 4])\n",
            "Train loss : 0.0118, Val Loss: 0.0275, Val accuracy: 0.9900\n",
            "torch.Size([3200, 48, 4, 4])\n",
            "torch.Size([400, 48, 4, 4])\n",
            "Train loss : 0.0117, Val Loss: 0.0274, Val accuracy: 0.9900\n",
            "torch.Size([3200, 48, 4, 4])\n",
            "torch.Size([400, 48, 4, 4])\n",
            "Train loss : 0.0117, Val Loss: 0.0274, Val accuracy: 0.9900\n",
            "torch.Size([3200, 48, 4, 4])\n",
            "torch.Size([400, 48, 4, 4])\n",
            "Train loss : 0.0116, Val Loss: 0.0273, Val accuracy: 0.9900\n",
            "torch.Size([3200, 48, 4, 4])\n",
            "torch.Size([400, 48, 4, 4])\n",
            "Train loss : 0.0116, Val Loss: 0.0273, Val accuracy: 0.9900\n",
            "torch.Size([3200, 48, 4, 4])\n",
            "torch.Size([400, 48, 4, 4])\n",
            "Train loss : 0.0115, Val Loss: 0.0272, Val accuracy: 0.9900\n",
            "torch.Size([3200, 48, 4, 4])\n",
            "torch.Size([400, 48, 4, 4])\n",
            "Train loss : 0.0115, Val Loss: 0.0272, Val accuracy: 0.9900\n",
            "torch.Size([3200, 48, 4, 4])\n",
            "torch.Size([400, 48, 4, 4])\n",
            "Train loss : 0.0114, Val Loss: 0.0271, Val accuracy: 0.9900\n",
            "torch.Size([3200, 48, 4, 4])\n",
            "torch.Size([400, 48, 4, 4])\n",
            "Train loss : 0.0114, Val Loss: 0.0271, Val accuracy: 0.9900\n",
            "torch.Size([3200, 48, 4, 4])\n",
            "torch.Size([400, 48, 4, 4])\n",
            "Train loss : 0.0113, Val Loss: 0.0271, Val accuracy: 0.9900\n",
            "torch.Size([3200, 48, 4, 4])\n",
            "torch.Size([400, 48, 4, 4])\n",
            "Train loss : 0.0113, Val Loss: 0.0270, Val accuracy: 0.9900\n",
            "torch.Size([3200, 48, 4, 4])\n",
            "torch.Size([400, 48, 4, 4])\n",
            "Train loss : 0.0112, Val Loss: 0.0270, Val accuracy: 0.9900\n",
            "torch.Size([3200, 48, 4, 4])\n",
            "torch.Size([400, 48, 4, 4])\n",
            "Train loss : 0.0112, Val Loss: 0.0269, Val accuracy: 0.9900\n",
            "torch.Size([3200, 48, 4, 4])\n",
            "torch.Size([400, 48, 4, 4])\n",
            "Train loss : 0.0111, Val Loss: 0.0269, Val accuracy: 0.9900\n",
            "torch.Size([3200, 48, 4, 4])\n",
            "torch.Size([400, 48, 4, 4])\n",
            "Train loss : 0.0111, Val Loss: 0.0269, Val accuracy: 0.9900\n",
            "torch.Size([3200, 48, 4, 4])\n",
            "torch.Size([400, 48, 4, 4])\n",
            "Train loss : 0.0110, Val Loss: 0.0268, Val accuracy: 0.9900\n",
            "torch.Size([3200, 48, 4, 4])\n",
            "torch.Size([400, 48, 4, 4])\n",
            "Train loss : 0.0110, Val Loss: 0.0268, Val accuracy: 0.9900\n",
            "torch.Size([3200, 48, 4, 4])\n",
            "torch.Size([400, 48, 4, 4])\n",
            "Train loss : 0.0109, Val Loss: 0.0268, Val accuracy: 0.9900\n",
            "torch.Size([3200, 48, 4, 4])\n",
            "torch.Size([400, 48, 4, 4])\n",
            "Train loss : 0.0109, Val Loss: 0.0267, Val accuracy: 0.9900\n",
            "torch.Size([3200, 48, 4, 4])\n",
            "torch.Size([400, 48, 4, 4])\n",
            "Train loss : 0.0108, Val Loss: 0.0267, Val accuracy: 0.9900\n",
            "torch.Size([3200, 48, 4, 4])\n",
            "torch.Size([400, 48, 4, 4])\n",
            "Train loss : 0.0108, Val Loss: 0.0266, Val accuracy: 0.9900\n",
            "torch.Size([3200, 48, 4, 4])\n",
            "torch.Size([400, 48, 4, 4])\n",
            "Train loss : 0.0107, Val Loss: 0.0266, Val accuracy: 0.9900\n",
            "torch.Size([3200, 48, 4, 4])\n",
            "torch.Size([400, 48, 4, 4])\n",
            "Train loss : 0.0107, Val Loss: 0.0266, Val accuracy: 0.9900\n",
            "torch.Size([3200, 48, 4, 4])\n",
            "torch.Size([400, 48, 4, 4])\n",
            "Train loss : 0.0106, Val Loss: 0.0265, Val accuracy: 0.9900\n",
            "torch.Size([3200, 48, 4, 4])\n",
            "torch.Size([400, 48, 4, 4])\n",
            "Train loss : 0.0106, Val Loss: 0.0265, Val accuracy: 0.9900\n",
            "torch.Size([3200, 48, 4, 4])\n",
            "torch.Size([400, 48, 4, 4])\n",
            "Train loss : 0.0105, Val Loss: 0.0265, Val accuracy: 0.9900\n",
            "torch.Size([3200, 48, 4, 4])\n",
            "torch.Size([400, 48, 4, 4])\n",
            "Train loss : 0.0105, Val Loss: 0.0264, Val accuracy: 0.9900\n",
            "torch.Size([3200, 48, 4, 4])\n",
            "torch.Size([400, 48, 4, 4])\n",
            "Train loss : 0.0104, Val Loss: 0.0264, Val accuracy: 0.9900\n",
            "torch.Size([3200, 48, 4, 4])\n",
            "torch.Size([400, 48, 4, 4])\n",
            "Train loss : 0.0104, Val Loss: 0.0264, Val accuracy: 0.9900\n",
            "torch.Size([3200, 48, 4, 4])\n",
            "torch.Size([400, 48, 4, 4])\n",
            "Train loss : 0.0103, Val Loss: 0.0263, Val accuracy: 0.9900\n",
            "torch.Size([3200, 48, 4, 4])\n",
            "torch.Size([400, 48, 4, 4])\n",
            "Train loss : 0.0103, Val Loss: 0.0263, Val accuracy: 0.9925\n",
            "torch.Size([3200, 48, 4, 4])\n",
            "torch.Size([400, 48, 4, 4])\n",
            "Train loss : 0.0102, Val Loss: 0.0262, Val accuracy: 0.9925\n",
            "torch.Size([3200, 48, 4, 4])\n",
            "torch.Size([400, 48, 4, 4])\n",
            "Train loss : 0.0102, Val Loss: 0.0262, Val accuracy: 0.9925\n",
            "torch.Size([3200, 48, 4, 4])\n",
            "torch.Size([400, 48, 4, 4])\n",
            "Train loss : 0.0101, Val Loss: 0.0262, Val accuracy: 0.9925\n",
            "torch.Size([3200, 48, 4, 4])\n",
            "torch.Size([400, 48, 4, 4])\n",
            "Train loss : 0.0101, Val Loss: 0.0262, Val accuracy: 0.9925\n",
            "torch.Size([3200, 48, 4, 4])\n",
            "torch.Size([400, 48, 4, 4])\n",
            "Train loss : 0.0101, Val Loss: 0.0261, Val accuracy: 0.9925\n",
            "torch.Size([3200, 48, 4, 4])\n",
            "torch.Size([400, 48, 4, 4])\n",
            "Train loss : 0.0100, Val Loss: 0.0261, Val accuracy: 0.9925\n",
            "torch.Size([3200, 48, 4, 4])\n",
            "torch.Size([400, 48, 4, 4])\n",
            "Train loss : 0.0100, Val Loss: 0.0261, Val accuracy: 0.9925\n",
            "torch.Size([3200, 48, 4, 4])\n",
            "torch.Size([400, 48, 4, 4])\n",
            "Train loss : 0.0099, Val Loss: 0.0260, Val accuracy: 0.9925\n",
            "torch.Size([3200, 48, 4, 4])\n",
            "torch.Size([400, 48, 4, 4])\n",
            "Train loss : 0.0099, Val Loss: 0.0260, Val accuracy: 0.9925\n",
            "torch.Size([3200, 48, 4, 4])\n",
            "torch.Size([400, 48, 4, 4])\n",
            "Train loss : 0.0098, Val Loss: 0.0260, Val accuracy: 0.9925\n",
            "torch.Size([3200, 48, 4, 4])\n",
            "torch.Size([400, 48, 4, 4])\n",
            "Train loss : 0.0098, Val Loss: 0.0259, Val accuracy: 0.9925\n",
            "torch.Size([3200, 48, 4, 4])\n",
            "torch.Size([400, 48, 4, 4])\n",
            "Train loss : 0.0097, Val Loss: 0.0259, Val accuracy: 0.9925\n",
            "torch.Size([3200, 48, 4, 4])\n",
            "torch.Size([400, 48, 4, 4])\n",
            "Train loss : 0.0097, Val Loss: 0.0259, Val accuracy: 0.9925\n",
            "torch.Size([3200, 48, 4, 4])\n",
            "torch.Size([400, 48, 4, 4])\n",
            "Train loss : 0.0096, Val Loss: 0.0258, Val accuracy: 0.9925\n",
            "['Best val error: ', 0.99]\n"
          ]
        },
        {
          "output_type": "display_data",
          "data": {
            "text/plain": [
              "<Figure size 640x480 with 1 Axes>"
            ],
            "image/png": "[encoded data removed]"
          },
          "metadata": {}
        }
      ]
    },
    {
      "cell_type": "markdown",
      "metadata": {
        "id": "NcuQ-uACaIl9"
      },
      "source": [
        "**Task 1.4** try changing some of the training hyperparameters like the learning rate and number of epochs.\n",
        "\n",
        "Now apply to the test set and report the accuracy you obtain."
      ]
    },
    {
      "cell_type": "code",
      "metadata": {
        "colab": {
          "base_uri": "https://localhost:8080/"
        },
        "id": "-99MHi0KaI3S",
        "outputId": "79bd6536-6556-4007-a2b1-ef509f2451b3"
      },
      "source": [
        "net.eval()\n",
        "\n",
        "testdata = X_test.to(device)\n",
        "testlabel = y_test.to(device)\n",
        "x_out = net(testdata)\n",
        "\n",
        "pred = x_out.data.max(1)[1].cpu() # Get the index of the max log-probability\n",
        "print('test accuracy', accuracy_score(y_test, pred))"
      ],
      "execution_count": null,
      "outputs": [
        {
          "output_type": "stream",
          "name": "stdout",
          "text": [
            "torch.Size([400, 48, 4, 4])\n",
            "test accuracy 0.9925\n"
          ]
        }
      ]
    },
    {
      "cell_type": "markdown",
      "metadata": {
        "id": "z8_yvLXqckzk"
      },
      "source": [
        "## Exercise 2 - Regression of age at birth from brain scans\n",
        "\n",
        "In this exercise, we will apply what we have learnt to build a network for regression. The data set will be images of axial brain slices from the Developing Human Connectome Project."
      ]
    },
    {
      "cell_type": "code",
      "metadata": {
        "colab": {
          "base_uri": "https://localhost:8080/"
        },
        "id": "BPni_CsQdMqz",
        "outputId": "c3628b15-e546-48f0-c93d-57f5896bc27b"
      },
      "source": [
        "import pandas as pd\n",
        "\n",
        "# This code will download and unzip the required data files from GitHub\n",
        "import requests\n",
        "import os\n",
        "def download_data(source, dest):\n",
        "    base_url = 'https://raw.githubusercontent.com/'\n",
        "    owner = 'MaralAminpour'\n",
        "    repo = 'ML-BME-Course-UofA-Fall-2023'\n",
        "    branch = 'main'\n",
        "    url = '{}/{}/{}/{}/{}'.format(base_url, owner, repo, branch, source)\n",
        "    r = requests.get(url)\n",
        "    f = open(dest, 'wb')\n",
        "    f.write(r.content)\n",
        "    f.close()\n",
        "\n",
        "# Create the temp directory, if it doesn't already exist\n",
        "if not os.path.exists('temp'):\n",
        "   os.makedirs('temp')\n",
        "\n",
        "# Download the data folder\n",
        "download_data('week-9-CNN/data_week9.zip', 'temp/data_week9.zip')\n",
        "\n",
        "# Unzip the folder\n",
        "if not os.path.exists('temp/mridata'):\n",
        "    !pip install patool\n",
        "    import patoolib\n",
        "    patoolib.extract_archive('temp/data_week9.zip', outdir='temp/')\n",
        "\n",
        "\n",
        "# Read the labels for training, test, and validation sets\n",
        "# The .csv files contain 2 labels for each image (age at birth and age at scan)\n",
        "meta_train = pd.read_csv('temp/data_train.csv')\n",
        "meta_valid = pd.read_csv('temp/data_valid.csv')\n",
        "meta_test = pd.read_csv('temp/data_test.csv')\n",
        "\n",
        "# Let's start with just looking at the age at scan\n",
        "y_train = torch.from_numpy(meta_train.iloc[:,2].values).to(torch.float)\n",
        "y_valid = torch.from_numpy(meta_valid.iloc[:,2].values).to(torch.float)\n",
        "y_test = torch.from_numpy(meta_test.iloc[:,2].values).to(torch.float)\n",
        "\n",
        "print('number of train samples', len(y_train))\n",
        "print('number of validation samples', len(y_valid))\n",
        "print('number of test samples', len(y_test))"
      ],
      "execution_count": null,
      "outputs": [
        {
          "output_type": "stream",
          "name": "stdout",
          "text": [
            "\n",
            "\n",
            "number of train samples 324\n",
            "number of validation samples 32\n",
            "number of test samples 40\n"
          ]
        }
      ]
    },
    {
      "cell_type": "markdown",
      "metadata": {
        "id": "rI9rJAZhygrb"
      },
      "source": [
        "Now let's plot a few examples.\n",
        "\n",
        "**Task 2.1** change i and look at some of the images."
      ]
    },
    {
      "cell_type": "code",
      "metadata": {
        "colab": {
          "base_uri": "https://localhost:8080/",
          "height": 435
        },
        "id": "CO67GFhdyh6d",
        "outputId": "791108fa-6a3b-4c2c-ce88-3377a888b186"
      },
      "source": [
        "i = 0\n",
        "full_path = 'temp/mridata/'\n",
        "image_path = os.path.join(full_path, meta_train['image_name'][i])\n",
        "image=np.array(Image.open(image_path))\n",
        "\n",
        "plt.imshow(image)\n",
        "plt.show()"
      ],
      "execution_count": null,
      "outputs": [
        {
          "output_type": "display_data",
          "data": {
            "text/plain": [
              "<Figure size 640x480 with 1 Axes>"
            ],
            "image/png": "[encoded data removed]"
          },
          "metadata": {}
        }
      ]
    },
    {
      "cell_type": "markdown",
      "metadata": {
        "id": "PNIJHhrgfLPr"
      },
      "source": [
        "Now read in all files from each of the training, validation, and test sets."
      ]
    },
    {
      "cell_type": "code",
      "metadata": {
        "colab": {
          "base_uri": "https://localhost:8080/"
        },
        "id": "i-gkVuANfLbb",
        "outputId": "2dff9e6e-a22c-420c-f641-d5a0f5c7c7cf"
      },
      "source": [
        "def load_data(path, meta):\n",
        "  ''' load all the files for each data set '''\n",
        "  image_list = []\n",
        "\n",
        "  for iter, row in meta.iterrows():\n",
        "    image_path=os.path.join(full_path, row['image_name'])\n",
        "    image = np.array(Image.open(image_path))\n",
        "\n",
        "    # Normalise to range 0-1\n",
        "    if np.max(image)-np.min(image) !=0:\n",
        "      image=(image-np.min(image))/(np.max(image)-np.min(image))\n",
        "\n",
        "    # Append to image list\n",
        "    image_list.append(image)\n",
        "\n",
        "  # Convert list to numpy array\n",
        "  image_array = np.asarray(image_list)\n",
        "\n",
        "  # Convert numpy array to torch tensor with added dimension corresponding to the number of channels (1)\n",
        "  torch_tensor = torch.from_numpy(np.expand_dims(image_array,axis=1)).to(torch.float)\n",
        "  return torch_tensor\n",
        "\n",
        "\n",
        "X_train = load_data(full_path,meta_train)\n",
        "X_valid = load_data(full_path,meta_valid)\n",
        "X_test = load_data(full_path,meta_test)\n",
        "\n",
        "print('train shape', X_train.shape)\n",
        "print('valid shape', X_valid.shape)\n",
        "print('train shape', X_test.shape)"
      ],
      "execution_count": null,
      "outputs": [
        {
          "output_type": "stream",
          "name": "stdout",
          "text": [
            "train shape torch.Size([324, 1, 256, 256])\n",
            "valid shape torch.Size([32, 1, 256, 256])\n",
            "train shape torch.Size([40, 1, 256, 256])\n"
          ]
        }
      ]
    },
    {
      "cell_type": "markdown",
      "metadata": {
        "id": "LP4Gspv40Aht"
      },
      "source": [
        "**Task 2.2** create your network.\n",
        "\n",
        "- Try different network architectures using at least 3 convolutional layers and 2 fully connected layers\n",
        "- **Hint** you can start by trying the network architecture we used in Exercise 1:\n",
        "   - Remember to change the dimensions of the flattened data for the first fully connected layer!\n",
        "   - Since this is a regression task, the output dimension will be 1\n",
        "- Try this and then try changing your network design."
      ]
    },
    {
      "cell_type": "code",
      "metadata": {
        "id": "OvQaR7YTz_wN"
      },
      "source": [
        "# Task 2.2 create your network\n",
        "class dHCPNet(nn.Module):\n",
        "\n",
        "    def __init__(self,flattened_dim):\n",
        "        super(dHCPNet,self).__init__()\n",
        "\n",
        "        # Add your code here #\n",
        "\n",
        "\n",
        "    def forward(self,x):\n",
        "        # Add your code here #\n",
        "        return x\n",
        "\n",
        "fc1_input_dim=16*16*48\n",
        "net = dHCPNet(fc1_input_dim).to(device)"
      ],
      "execution_count": null,
      "outputs": []
    },
    {
      "cell_type": "markdown",
      "metadata": {
        "id": "7y0naj41Yphh"
      },
      "source": [
        "**Task 2.3** set a suitable loss function and optimiser\n",
        "\n",
        "- This time we have a regression problem, not a classification.\n",
        "- Don't forget to push the loss to the device and the network parameters as input to the optimiser\n",
        "- For the optimiser, you can try SGD or ADAM\n",
        "- **Hint:** for SGD, reduce the learning rate down to 0.00001"
      ]
    },
    {
      "cell_type": "code",
      "metadata": {
        "id": "29dmKE_5YpuO"
      },
      "source": [
        "# Task 2.3 choose suitable loss and optimiser\n",
        "# Add your code here #"
      ],
      "execution_count": null,
      "outputs": []
    },
    {
      "cell_type": "markdown",
      "metadata": {
        "id": "fEg1ePymZdiE"
      },
      "source": [
        "**Task 2.4** complete training and validation loop.\n",
        "\n",
        "**Note:** we've started this for you to show that the output of the network needs to be squeezed down to 1 dimension to compare it with the labels."
      ]
    },
    {
      "cell_type": "code",
      "metadata": {
        "colab": {
          "base_uri": "https://localhost:8080/",
          "height": 1000
        },
        "id": "7-ByLP8DZd4r",
        "outputId": "6eaedaea-0b45-436d-e07e-503e47866abc"
      },
      "source": [
        "epochs = 150\n",
        "train_losses=[]\n",
        "val_losses=[]\n",
        "\n",
        "for epoch in range(epochs):\n",
        "    # Set network to train mode\n",
        "    net.train()\n",
        "    # Perform a training loop\n",
        "    data = X_train.to(device)\n",
        "    label = y_train.to(device)\n",
        "    # Clear the gradients\n",
        "    optimizer.zero_grad()\n",
        "\n",
        "    # Feed the input and acquire the output from network\n",
        "    x_out = net(data)\n",
        "    x_out = x_out.squeeze(1)\n",
        "\n",
        "    # Task 2.3: finish the train and validation loop\n",
        "    # Add your code here #\n",
        "\n",
        "plt.plot(np.arange(len(train_losses)),train_losses,'b')\n",
        "plt.plot(np.arange(len(train_losses)),val_losses,'r')\n",
        "plt.show()\n"
      ],
      "execution_count": null,
      "outputs": [
        {
          "output_type": "stream",
          "name": "stdout",
          "text": [
            "Iter: 0, Train loss : 1667.7078, Val Loss: 1661.3289\n",
            "Iter: 1, Train loss : 1667.3978, Val Loss: 1660.8733\n",
            "Iter: 2, Train loss : 1666.9387, Val Loss: 1660.4294\n",
            "Iter: 3, Train loss : 1666.4933, Val Loss: 1659.8669\n",
            "Iter: 4, Train loss : 1665.9294, Val Loss: 1659.1960\n",
            "Iter: 5, Train loss : 1665.2572, Val Loss: 1658.4265\n",
            "Iter: 6, Train loss : 1664.4861, Val Loss: 1657.5664\n",
            "Iter: 7, Train loss : 1663.6243, Val Loss: 1656.6221\n",
            "Iter: 8, Train loss : 1662.6779, Val Loss: 1655.5981\n",
            "Iter: 9, Train loss : 1661.6519, Val Loss: 1654.5017\n",
            "Iter: 10, Train loss : 1660.5531, Val Loss: 1653.3444\n",
            "Iter: 11, Train loss : 1659.3933, Val Loss: 1652.1130\n",
            "Iter: 12, Train loss : 1658.1595, Val Loss: 1650.8059\n",
            "Iter: 13, Train loss : 1656.8497, Val Loss: 1649.4192\n",
            "Iter: 14, Train loss : 1655.4598, Val Loss: 1647.9474\n",
            "Iter: 15, Train loss : 1653.9851, Val Loss: 1646.3831\n",
            "Iter: 16, Train loss : 1652.4176, Val Loss: 1644.7168\n",
            "Iter: 17, Train loss : 1650.7477, Val Loss: 1642.9365\n",
            "Iter: 18, Train loss : 1648.9637, Val Loss: 1641.0273\n",
            "Iter: 19, Train loss : 1647.0505, Val Loss: 1638.9712\n",
            "Iter: 20, Train loss : 1644.9897, Val Loss: 1636.7461\n",
            "Iter: 21, Train loss : 1642.7599, Val Loss: 1634.3254\n",
            "Iter: 22, Train loss : 1640.3341, Val Loss: 1631.6782\n",
            "Iter: 23, Train loss : 1637.6812, Val Loss: 1628.7712\n",
            "Iter: 24, Train loss : 1634.7679, Val Loss: 1625.5521\n",
            "Iter: 25, Train loss : 1631.5419, Val Loss: 1621.9626\n",
            "Iter: 26, Train loss : 1627.9442, Val Loss: 1617.9314\n",
            "Iter: 27, Train loss : 1623.9038, Val Loss: 1613.3699\n",
            "Iter: 28, Train loss : 1619.3311, Val Loss: 1608.1656\n",
            "Iter: 29, Train loss : 1614.1147, Val Loss: 1602.1777\n",
            "Iter: 30, Train loss : 1608.1124, Val Loss: 1595.2244\n",
            "Iter: 31, Train loss : 1601.1418, Val Loss: 1587.0704\n",
            "Iter: 32, Train loss : 1592.9680, Val Loss: 1577.4105\n",
            "Iter: 33, Train loss : 1583.2842, Val Loss: 1565.8353\n",
            "Iter: 34, Train loss : 1571.6799, Val Loss: 1551.7920\n",
            "Iter: 35, Train loss : 1557.6008, Val Loss: 1534.5244\n",
            "Iter: 36, Train loss : 1540.2887, Val Loss: 1512.9634\n",
            "Iter: 37, Train loss : 1518.6708, Val Loss: 1485.6229\n",
            "Iter: 38, Train loss : 1491.2559, Val Loss: 1450.3339\n",
            "Iter: 39, Train loss : 1455.8690, Val Loss: 1403.8555\n",
            "Iter: 40, Train loss : 1409.2585, Val Loss: 1341.3232\n",
            "Iter: 41, Train loss : 1346.5426, Val Loss: 1255.2721\n",
            "Iter: 42, Train loss : 1260.2277, Val Loss: 1134.2098\n",
            "Iter: 43, Train loss : 1138.7789, Val Loss: 960.9445\n",
            "Iter: 44, Train loss : 964.9318, Val Loss: 713.8923\n",
            "Iter: 45, Train loss : 716.9933, Val Loss: 384.6113\n",
            "Iter: 46, Train loss : 386.4221, Val Loss: 60.5667\n",
            "Iter: 47, Train loss : 60.8932, Val Loss: 108.4861\n",
            "Iter: 48, Train loss : 108.5543, Val Loss: 671.0911\n",
            "Iter: 49, Train loss : 673.0212, Val Loss: 422.2435\n",
            "Iter: 50, Train loss : 423.0233, Val Loss: 19.5757\n",
            "Iter: 51, Train loss : 19.2677, Val Loss: 69.5616\n",
            "Iter: 52, Train loss : 70.0291, Val Loss: 226.6534\n",
            "Iter: 53, Train loss : 228.0332, Val Loss: 329.1326\n",
            "Iter: 54, Train loss : 331.0397, Val Loss: 352.8497\n",
            "Iter: 55, Train loss : 354.9015, Val Loss: 305.6035\n",
            "Iter: 56, Train loss : 307.4747, Val Loss: 203.7800\n",
            "Iter: 57, Train loss : 205.1740, Val Loss: 81.0484\n",
            "Iter: 58, Train loss : 81.7021, Val Loss: 4.9591\n",
            "Iter: 59, Train loss : 4.7302, Val Loss: 51.3344\n",
            "Iter: 60, Train loss : 50.3499, Val Loss: 167.4698\n",
            "Iter: 61, Train loss : 166.0896, Val Loss: 162.3146\n",
            "Iter: 62, Train loss : 160.8761, Val Loss: 55.1457\n",
            "Iter: 63, Train loss : 54.0228, Val Loss: 3.4381\n",
            "Iter: 64, Train loss : 2.9404, Val Loss: 25.0676\n",
            "Iter: 65, Train loss : 25.2119, Val Loss: 66.3737\n",
            "Iter: 66, Train loss : 66.9705, Val Loss: 90.3620\n",
            "Iter: 67, Train loss : 91.1652, Val Loss: 85.8511\n",
            "Iter: 68, Train loss : 86.6231, Val Loss: 58.2100\n",
            "Iter: 69, Train loss : 58.7411, Val Loss: 23.6521\n",
            "Iter: 70, Train loss : 23.7741, Val Loss: 3.8107\n",
            "Iter: 71, Train loss : 3.4252, Val Loss: 12.5667\n",
            "Iter: 72, Train loss : 11.6852, Val Loss: 38.2966\n",
            "Iter: 73, Train loss : 37.0614, Val Loss: 49.5922\n",
            "Iter: 74, Train loss : 48.2427, Val Loss: 33.9980\n",
            "Iter: 75, Train loss : 32.7887, Val Loss: 11.6853\n",
            "Iter: 76, Train loss : 10.7975, Val Loss: 3.2333\n",
            "Iter: 77, Train loss : 2.7279, Val Loss: 9.4055\n",
            "Iter: 78, Train loss : 9.2354, Val Loss: 19.7893\n",
            "Iter: 79, Train loss : 19.8430, Val Loss: 25.1712\n",
            "Iter: 80, Train loss : 25.3131, Val Loss: 22.3663\n",
            "Iter: 81, Train loss : 22.4631, Val Loss: 13.9451\n",
            "Iter: 82, Train loss : 13.8829, Val Loss: 5.8029\n",
            "Iter: 83, Train loss : 5.5026, Val Loss: 3.3647\n",
            "Iter: 84, Train loss : 2.7967, Val Loss: 7.4921\n",
            "Iter: 85, Train loss : 6.6864, Val Loss: 13.3571\n",
            "Iter: 86, Train loss : 12.3997, Val Loss: 14.9086\n",
            "Iter: 87, Train loss : 13.9182, Val Loss: 10.9938\n",
            "Iter: 88, Train loss : 10.0862, Val Loss: 5.7118\n",
            "Iter: 89, Train loss : 4.9679, Val Loss: 3.2971\n",
            "Iter: 90, Train loss : 2.7461, Val Loss: 4.4599\n",
            "Iter: 91, Train loss : 4.0827, Val Loss: 7.0506\n",
            "Iter: 92, Train loss : 6.7941, Val Loss: 8.5706\n",
            "Iter: 93, Train loss : 8.3649, Val Loss: 7.9339\n",
            "Iter: 94, Train loss : 7.7075, Val Loss: 5.7999\n",
            "Iter: 95, Train loss : 5.4919, Val Loss: 3.8120\n",
            "Iter: 96, Train loss : 3.3821, Val Loss: 3.3315\n",
            "Iter: 97, Train loss : 2.7670, Val Loss: 4.4248\n",
            "Iter: 98, Train loss : 3.7429, Val Loss: 5.8791\n",
            "Iter: 99, Train loss : 5.1220, Val Loss: 6.3298\n",
            "Iter: 100, Train loss : 5.5540, Val Loss: 5.4666\n",
            "Iter: 101, Train loss : 4.7274, Val Loss: 4.1251\n",
            "Iter: 102, Train loss : 3.4632, Val Loss: 3.3368\n",
            "Iter: 103, Train loss : 2.7703, Val Loss: 3.4509\n",
            "Iter: 104, Train loss : 2.9745, Val Loss: 4.0574\n",
            "Iter: 105, Train loss : 3.6473, Val Loss: 4.5018\n",
            "Iter: 106, Train loss : 4.1234, Val Loss: 4.4177\n",
            "Iter: 107, Train loss : 4.0337, Val Loss: 3.9189\n",
            "Iter: 108, Train loss : 3.4968, Val Loss: 3.4233\n",
            "Iter: 109, Train loss : 2.9415, Val Loss: 3.2947\n",
            "Iter: 110, Train loss : 2.7456, Val Loss: 3.5673\n",
            "Iter: 111, Train loss : 2.9584, Val Loss: 3.9537\n",
            "Iter: 112, Train loss : 3.3050, Val Loss: 4.1127\n",
            "Iter: 113, Train loss : 3.4513, Val Loss: 3.9335\n",
            "Iter: 114, Train loss : 3.2866, Val Loss: 3.5857\n",
            "Iter: 115, Train loss : 2.9745, Val Loss: 3.3299\n",
            "Iter: 116, Train loss : 2.7655, Val Loss: 3.2963\n",
            "Iter: 117, Train loss : 2.7782, Val Loss: 3.4200\n",
            "Iter: 118, Train loss : 2.9378, Val Loss: 3.5396\n",
            "Iter: 119, Train loss : 3.0767, Val Loss: 3.5416\n",
            "Iter: 120, Train loss : 3.0792, Val Loss: 3.4344\n",
            "Iter: 121, Train loss : 2.9552, Val Loss: 3.3168\n",
            "Iter: 122, Train loss : 2.8089, Val Loss: 3.2854\n",
            "Iter: 123, Train loss : 2.7440, Val Loss: 3.3574\n",
            "Iter: 124, Train loss : 2.7854, Val Loss: 3.4656\n",
            "Iter: 125, Train loss : 2.8722, Val Loss: 3.5215\n",
            "Iter: 126, Train loss : 2.9196, Val Loss: 3.4867\n",
            "Iter: 127, Train loss : 2.8900, Val Loss: 3.3947\n",
            "Iter: 128, Train loss : 2.8143, Val Loss: 3.3117\n",
            "Iter: 129, Train loss : 2.7541, Val Loss: 3.2812\n",
            "Iter: 130, Train loss : 2.7472, Val Loss: 3.2980\n",
            "Iter: 131, Train loss : 2.7833, Val Loss: 3.3252\n",
            "Iter: 132, Train loss : 2.8219, Val Loss: 3.3305\n",
            "Iter: 133, Train loss : 2.8291, Val Loss: 3.3102\n",
            "Iter: 134, Train loss : 2.8017, Val Loss: 3.2858\n",
            "Iter: 135, Train loss : 2.7638, Val Loss: 3.2817\n",
            "Iter: 136, Train loss : 2.7432, Val Loss: 3.3040\n",
            "Iter: 137, Train loss : 2.7498, Val Loss: 3.3367\n",
            "Iter: 138, Train loss : 2.7710, Val Loss: 3.3564\n",
            "Iter: 139, Train loss : 2.7854, Val Loss: 3.3504\n",
            "Iter: 140, Train loss : 2.7810, Val Loss: 3.3250\n",
            "Iter: 141, Train loss : 2.7630, Val Loss: 3.2972\n",
            "Iter: 142, Train loss : 2.7463, Val Loss: 3.2809\n",
            "Iter: 143, Train loss : 2.7419, Val Loss: 3.2784\n",
            "Iter: 144, Train loss : 2.7496, Val Loss: 3.2821\n",
            "Iter: 145, Train loss : 2.7598, Val Loss: 3.2836\n",
            "Iter: 146, Train loss : 2.7632, Val Loss: 3.2806\n",
            "Iter: 147, Train loss : 2.7574, Val Loss: 3.2772\n",
            "Iter: 148, Train loss : 2.7477, Val Loss: 3.2789\n",
            "Iter: 149, Train loss : 2.7414, Val Loss: 3.2874\n"
          ]
        },
        {
          "output_type": "display_data",
          "data": {
            "image/png": "[encoded data removed]",
            "text/plain": [
              "<Figure size 432x288 with 1 Axes>"
            ]
          },
          "metadata": {
            "needs_background": "light"
          }
        }
      ]
    },
    {
      "cell_type": "markdown",
      "metadata": {
        "id": "MYB2JdiKdz69"
      },
      "source": [
        "**Task 2.5** Apply to the test set.\n",
        "\n"
      ]
    },
    {
      "cell_type": "code",
      "metadata": {
        "colab": {
          "base_uri": "https://localhost:8080/",
          "height": 318
        },
        "id": "_J9mV0rGd0G6",
        "outputId": "f67fc9f9-8119-44b2-d28b-128dee1da13d"
      },
      "source": [
        "# Add your code here #"
      ],
      "execution_count": null,
      "outputs": [
        {
          "output_type": "stream",
          "name": "stderr",
          "text": [
            "/usr/local/lib/python3.7/dist-packages/torch/nn/modules/loss.py:520: UserWarning: Using a target size (torch.Size([40])) that is different to the input size (torch.Size([40, 1])). This will likely lead to incorrect results due to broadcasting. Please ensure they have the same size.\n",
            "  return F.mse_loss(input, target, reduction=self.reduction)\n"
          ]
        },
        {
          "output_type": "stream",
          "name": "stdout",
          "text": [
            "test error is:  tensor(3.2965, device='cuda:0', grad_fn=<MseLossBackward0>)\n"
          ]
        },
        {
          "output_type": "display_data",
          "data": {
            "image/png": "[encoded data removed]",
            "text/plain": [
              "<Figure size 432x288 with 1 Axes>"
            ]
          },
          "metadata": {
            "needs_background": "light"
          }
        }
      ]
    }
  ]
}